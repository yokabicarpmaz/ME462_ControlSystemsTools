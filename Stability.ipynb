{
  "nbformat": 4,
  "nbformat_minor": 0,
  "metadata": {
    "colab": {
      "name": "Stability.ipynb",
      "provenance": [],
      "collapsed_sections": [],
      "authorship_tag": "ABX9TyMC4Rb4cXWDsK8l3iFk1x3+",
      "include_colab_link": true
    },
    "kernelspec": {
      "name": "python3",
      "display_name": "Python 3"
    }
  },
  "cells": [
    {
      "cell_type": "markdown",
      "metadata": {
        "id": "view-in-github",
        "colab_type": "text"
      },
      "source": [
        "<a href=\"https://colab.research.google.com/github/yokabicarpmaz/ME462_ControlSystemsTools/blob/master/Stability.ipynb\" target=\"_parent\"><img src=\"https://colab.research.google.com/assets/colab-badge.svg\" alt=\"Open In Colab\"/></a>"
      ]
    },
    {
      "cell_type": "markdown",
      "metadata": {
        "id": "VjyguijHlID_",
        "colab_type": "text"
      },
      "source": [
        "STABILITY"
      ]
    },
    {
      "cell_type": "markdown",
      "metadata": {
        "id": "OOwGC_I8l_I2",
        "colab_type": "text"
      },
      "source": [
        "Let's start with adding necessary libraries !\n",
        "\n",
        "\n",
        "Do NOT forget to run codes in order !"
      ]
    },
    {
      "cell_type": "code",
      "metadata": {
        "id": "-1_84OPBl-p3",
        "colab_type": "code",
        "colab": {}
      },
      "source": [
        "try :\n",
        "  !pip install control\n",
        "  !pip install cowsay\n",
        "  import control as cnt\n",
        "  import matplotlib.pyplot as plt\n",
        "  import numpy as np\n",
        "  import sympy as sy\n",
        "  import math\n",
        "  import cowsay\n",
        "  cowsay.cow(\"All libraries have been successfully downloaded!\")\n",
        "except : \n",
        "  print(\"\\033[1m\"+\"WARNING!!!LIBRARIES COULD NOT BE DOWNLOADED. PLEASE TRY AGAIN !\"+\"\\033[0m\")"
      ],
      "execution_count": 0,
      "outputs": []
    },
    {
      "cell_type": "markdown",
      "metadata": {
        "id": "V5d5t1gkmGYn",
        "colab_type": "text"
      },
      "source": [
        "Definition of Stability\n",
        "\n",
        "---\n",
        "\n",
        "\n",
        "\n",
        "\n",
        "*   Bounded-Input, Bounded-Output Stability (BIBO)(Zero State Response)\n",
        "    \n",
        "      A linear time invariant system is said to be stable if it produces a bounded response to a bounded input.\n",
        "\n",
        "*   Zero Input and Asymptotic Stability (Zero Input Response)\n",
        "\n",
        "      A system is stable, if the zero input response due to finite initial conditions returns to zero asymptotically as time goes to infinity.\n",
        "\n",
        "<figure>\n",
        "<center>\n",
        "<img src='https://upload.wikimedia.org/wikipedia/commons/thumb/9/94/2nd_Order_Damping_Ratios.svg/580px-2nd_Order_Damping_Ratios.svg.png' />\n",
        "<figcaption>Figure 1. The effect of varying damping ratio on a $\\underline{stable}$ second-order system</figcaption></center>\n",
        "\n",
        "\n",
        "\n",
        "*   Unstable System\n",
        "\n",
        "      The response will increase without bounds or will never return to the equilibrium state.\n",
        "\n",
        "<figure>\n",
        "<center>\n",
        "<img src='https://live.staticflickr.com/65535/49905861537_113d8af47c_b.jpg' />\n",
        "<figcaption>Figure 2. Response of $\\underline{unstable}$ first and second-order systems</figcaption></center>"
      ]
    },
    {
      "cell_type": "markdown",
      "metadata": {
        "id": "Lr1Bo-HCy_lT",
        "colab_type": "text"
      },
      "source": [
        "Let's remember the transfer function, characteristic equation, poles & zeros of a system.\n",
        "\n",
        "---\n",
        "\n"
      ]
    },
    {
      "cell_type": "markdown",
      "metadata": {
        "id": "DnlNy1DIzTcm",
        "colab_type": "text"
      },
      "source": [
        "Transfer functions specify the relationship between input and output.\n",
        "\n",
        "$G(s) = \\frac{b_ms^m+b_{m-1}s^{m-1}+...+b_{1}s+b_0}{a_ns^n+a_{n-1}s^{n-1}+...+a_{1}s+a_0} =\\frac{N(s)}{D(s)}$\n",
        "\n",
        "To create transfer function in laplace form :\n",
        "\n",
        "Numerator and denominator coefficients should be given in a matrix form in descending order then cnt.tf(num,den) or cnt.TransferFunction(num,den) commands are used. \n",
        "\n",
        "If denominator's order is higher than numerator: ($n\\geq m$)\n",
        "\n",
        "the roots of D(s) = 0 which is also named as characteristic equation give us the poles of the system. Poles can be determined by cnt.pole() command.\n",
        "\n",
        "the roots of N(s) = 0 give us zeros of the system. Poles can be determined by cnt.zero() command."
      ]
    },
    {
      "cell_type": "code",
      "metadata": {
        "id": "06aNtATF8lEQ",
        "colab_type": "code",
        "colab": {}
      },
      "source": [
        "num = [2, 3, 1]\n",
        "den = [5, 8, 9, 45]\n",
        "TF = cnt.TransferFunction(num,den) \n",
        "print(\"G(s)\", TF, sep = \"=\")\n",
        "Poles = cnt.pole(TF)\n",
        "Zeros = cnt.zero(TF)\n",
        "print(\"Poles of the system=\", Poles)\n",
        "print(\"Zeros of the system=\", Zeros)"
      ],
      "execution_count": 0,
      "outputs": []
    },
    {
      "cell_type": "markdown",
      "metadata": {
        "id": "ucJkuL1t2IaN",
        "colab_type": "text"
      },
      "source": [
        "Stability and Poles\n",
        "\n",
        "---\n",
        "Stability of a LTI system is a propery of the system and is independent of the inputs.\n",
        "\n",
        "\n",
        "\n",
        "*   If all the roots of the characteristic equation are on the left hand side of the complex plane, ie. all the roots have negative real parts, then the system is $\\underline{stable}$.\n",
        "\n",
        "<figure>\n",
        "<center>\n",
        "<img src='https://live.staticflickr.com/65535/49905043113_d83d2f8db5_b.jpg' />\n",
        "<figcaption>Figure 3 </figcaption></center>\n",
        " \n",
        "\n",
        "*   If there is at least one root on the right hand side of the complex plane, then the system is $\\underline{unstable}$ and the response will increase without bounds with time.\n",
        "<figure>\n",
        "<center>\n",
        "<img src='https://live.staticflickr.com/65535/49905557716_88632e8bd0_b.jpg' />\n",
        "<figcaption>Figure 4 </figcaption></center>\n",
        "*   If there is at least one root with zero real part, ie. on imaginary axis, then the response will contain undamped sinusoidal oscillations or a nondecaying response.\n",
        "\n",
        "*   If there are no unstable roots, the response neither decreases to zero, nor increases without bounds. The system is called $\\underline{marginally}$ $\\underline{stable}$.\n",
        "<figure>\n",
        "<center>\n",
        "<img src='https://live.staticflickr.com/65535/49905860077_db474e79e9_b.jpg' />\n",
        "<figcaption>Figure 5 </figcaption></center>\n",
        "\n"
      ]
    },
    {
      "cell_type": "markdown",
      "metadata": {
        "id": "tCPyJwAoMs1E",
        "colab_type": "text"
      },
      "source": [
        "\n",
        "\n",
        "---\n",
        "\n",
        "\n",
        "\n",
        "---\n",
        "\n",
        "Example 1 - First Order System\n",
        "\n",
        "\n",
        "---\n",
        "\n",
        "\n",
        "\n",
        "---\n"
      ]
    },
    {
      "cell_type": "markdown",
      "metadata": {
        "id": "ag-sM9MwMz2w",
        "colab_type": "text"
      },
      "source": [
        "<figure>\n",
        "<center>\n",
        "<img src='https://i0.wp.com/programmerworld.co/wp-content/uploads/2019/04/sprinmassdampersystem.png?w=715&ssl=1' />\n",
        "<figcaption>Figure 6</figcaption></center>\n",
        "\n",
        "A mass(m)-spring(k)-damper(b) system is shown in *Figure 6*. The system input is Force F and output is mass displacement x.\n",
        "\n",
        "\n",
        "*   Obtain the input-output relationship as $m\\ddot{x}+b\\dot{x}+kx=F$ .\n",
        "*   In order to get transfer function, we should get the laplace transform of input-output expression.\n",
        "$ms^2X(s)+bsX(s)+kX(s)=F(s)$\n",
        "then \n",
        "$\\dfrac {output} {input} = \\dfrac {X(s)} {F(s)} = \\dfrac {1} {ms^2+bs+k}  $.\n",
        "\n"
      ]
    },
    {
      "cell_type": "markdown",
      "metadata": {
        "id": "eGnUAIgmM7Hm",
        "colab_type": "text"
      },
      "source": [
        "Let's specify the m, b, k values.\n",
        "\n",
        "Plot Poles in Complex Coordinate and Displacement vs. Time Graphs.\n",
        "\n",
        "**Observe the compatibility between graphs.**"
      ]
    },
    {
      "cell_type": "code",
      "metadata": {
        "id": "EnhtTFPBNdHz",
        "colab_type": "code",
        "colab": {}
      },
      "source": [
        "m = 10     #[kg]\n",
        "b = 50     #[N/m/s]\n",
        "k = 1000   #[N/m]\n",
        "num = [1]\n",
        "den = [m,b,k]\n",
        "TF = cnt.tf(num,den)\n",
        "print(\"G(s)=\",TF)\n",
        "Poles = cnt.pole(TF)\n",
        "Zeros = cnt.zero(TF)\n",
        "print(\"Poles of the system=\", Poles)\n",
        "print(\"Zeros of the system=\", Zeros)\n",
        "#Plot of Poles in complex plane\n",
        "plt.scatter(Poles.real,Poles.imag, color='red')\n",
        "plt.xlabel(\"Re\")\n",
        "plt.ylabel(\"Im\")\n",
        "plt.title(\"Roots in Complex Coordinate\")\n",
        "plt.grid(True)\n",
        "plt.show()\n",
        "#Displacement vs. Time Plot\n",
        "t = np.linspace(0,5,501)    #time duration between 0 and 5 s divided into 501 points\n",
        "t,x = cnt.step_response(TF,t)   #step response of the system from transfer function where t is the time and x is the displacement of mass\n",
        "plt.plot(t,x)\n",
        "plt.xlabel(\"Time [s]\")\n",
        "plt.ylabel(\"Displacement of mass [m]\")\n",
        "plt.title(\"Displacement of mass vs. Time\")\n",
        "plt.grid(True)\n",
        "plt.show()\n"
      ],
      "execution_count": 0,
      "outputs": []
    },
    {
      "cell_type": "markdown",
      "metadata": {
        "id": "yjnrxUXFOUHI",
        "colab_type": "text"
      },
      "source": [
        "Play with the variables(m, b, k). Observe changes in roots, change in displacement of mass and try to understand the relationship between them."
      ]
    },
    {
      "cell_type": "code",
      "metadata": {
        "id": "stzXmbkHOSLX",
        "colab_type": "code",
        "colab": {}
      },
      "source": [
        "m = ???     #[kg]\n",
        "b = ???    #[N/m/s]\n",
        "k = ???   #[N/m]\n",
        "num = [1]\n",
        "den = [m,b,k]\n",
        "TF = cnt.tf(num,den)\n",
        "print(\"G(s)=\",TF)\n",
        "#Plot of Poles in complex plane\n",
        "Poles = cnt.pole(TF)\n",
        "Zeros = cnt.zero(TF)\n",
        "print(\"Poles of the system=\", Poles)\n",
        "print(\"Zeros of the system=\", Zeros)\n",
        "plt.scatter(Poles.real,Poles.imag, color='red')\n",
        "plt.xlabel(\"Re\")\n",
        "plt.ylabel(\"Im\")\n",
        "plt.title(\"Roots in Complex Coordinate\")\n",
        "plt.grid(True)\n",
        "plt.show()\n",
        "#Displacement vs. Time Plot\n",
        "t = np.linspace(0,5,501)   #time duration between 0 and 5 s divided into 501 points\n",
        "t,x = cnt.step_response(TF,t)   #step response of the system from transfer function where t is the time and x is the displacement of mass\n",
        "plt.plot(t,x)\n",
        "plt.xlabel(\"Time [s]\")\n",
        "plt.ylabel(\"Displacement of mass [m]\")\n",
        "plt.title(\"Displacement of mass vs. Time\")\n",
        "plt.grid(True)\n",
        "plt.show()"
      ],
      "execution_count": 0,
      "outputs": []
    },
    {
      "cell_type": "markdown",
      "metadata": {
        "id": "356tT6gcEAhL",
        "colab_type": "text"
      },
      "source": [
        "\n",
        "\n",
        "---\n",
        "\n",
        "\n",
        "\n",
        "---\n",
        "\n",
        "\n",
        "Example 2 - Second Order System\n",
        "\n",
        "---\n",
        "\n",
        "---\n",
        "\n",
        "\n",
        "\n"
      ]
    },
    {
      "cell_type": "markdown",
      "metadata": {
        "id": "on7-kM460V8l",
        "colab_type": "text"
      },
      "source": [
        "<figure>\n",
        "<center>\n",
        "<img src='https://www.howacarworks.com/illustration/127/coil-spring.png' />\n",
        "<figcaption>Figure 7</figcaption></center>\n",
        "\n"
      ]
    },
    {
      "cell_type": "markdown",
      "metadata": {
        "id": "UdCAK9pi0ypQ",
        "colab_type": "text"
      },
      "source": [
        "The suspension system of a vehicle is shown in *Figure 7* and a simple dynamic model of a vehicle travelling on a rough road surface is shown in *Figure 8*. The mass represents the mass of the vehicle body. The spring and damper represent the suspension springs and dampers."
      ]
    },
    {
      "cell_type": "markdown",
      "metadata": {
        "id": "sh64pO5N-tEo",
        "colab_type": "text"
      },
      "source": [
        "<figure>\n",
        "<center>\n",
        "<img src='https://live.staticflickr.com/65535/49905043153_0f0aae5fd6_b.jpg' />\n",
        "<figcaption>Figure 8</figcaption></center>\n",
        "</figure>"
      ]
    },
    {
      "cell_type": "markdown",
      "metadata": {
        "id": "EmX3RV4c-W6n",
        "colab_type": "text"
      },
      "source": [
        "The input is the road profile displacement, ie. $z $. If the output is the displacement y of the body. \n",
        "\n",
        "\n",
        "*   Obtain input-output relationship as $m\\ddot{y}+c\\dot{y}+ky=c\\dot{z}+kz$ .\n",
        "*   In order to get transfer function, we should get the laplace transform of input-output expression.\n",
        "$ms^2Y(s)+csY(s)+kY(s)=csZ(s)+kZ(s)$\n",
        "then \n",
        "$\\dfrac {output} {input} = \\dfrac {Y(s)} {Z(s)} = \\dfrac {cs+k} {ms^2+cs+k}  $.\n",
        "\n"
      ]
    },
    {
      "cell_type": "markdown",
      "metadata": {
        "id": "LMkDe1BvQpH5",
        "colab_type": "text"
      },
      "source": [
        "Let's specify the m, c, k values. "
      ]
    },
    {
      "cell_type": "code",
      "metadata": {
        "id": "iCofqmfghKKt",
        "colab_type": "code",
        "colab": {}
      },
      "source": [
        "m = 1600     #[kg]\n",
        "c = 6000     #[N/m/s]\n",
        "k = 784000   #[N/m]\n",
        "num = [c,k]\n",
        "den = [m,c,k]\n",
        "TF = cnt.tf(num,den)\n",
        "print(\"G(s)=\",TF)\n",
        "#Plot of Poles in complex plane\n",
        "Poles = cnt.pole(TF)\n",
        "Zeros = cnt.zero(TF)\n",
        "print(\"Poles of the system=\", Poles)\n",
        "print(\"Zeros of the system=\", Zeros)\n",
        "plt.scatter(Poles.real,Poles.imag, color='red')\n",
        "plt.xlabel(\"Re\")\n",
        "plt.ylabel(\"Im\")\n",
        "plt.title(\"Roots in Complex Coordinate\")\n",
        "plt.grid(True)\n",
        "plt.show()\n",
        "#Displacement vs. Time Plot\n",
        "t = np.linspace(0,5,501)        #time duration between 0 and 5 s divided into 501 points\n",
        "t,y = cnt.step_response(TF,t)   #step response of the system from transfer function where t is the time and y is the displacement of car\n",
        "plt.plot(t,y)\n",
        "plt.xlabel(\"Time [s]\")\n",
        "plt.ylabel(\"Displacement of car body in y-axis\")\n",
        "plt.title(\"Displacement of car body in y-axis vs. Time\")\n",
        "plt.grid(True)\n",
        "plt.show()"
      ],
      "execution_count": 0,
      "outputs": []
    },
    {
      "cell_type": "markdown",
      "metadata": {
        "id": "uJErSzohNZw8",
        "colab_type": "text"
      },
      "source": [
        "**Let's think about plots generated above are compatible with each other or not!**\n",
        "\n",
        "You may want to change the parameters and see some different cases:\n",
        "\n",
        "(If you put some absurd values, you may change the linspace variables in order to get reasonable and compatible displacement vs. time plot.)"
      ]
    },
    {
      "cell_type": "code",
      "metadata": {
        "id": "PRXmI9f-N_9B",
        "colab_type": "code",
        "colab": {}
      },
      "source": [
        "m =  ???    #[kg]\n",
        "c =  ???    #[N/m/s]\n",
        "k =  ???    #[N/m]\n",
        "num = [c,k]\n",
        "den = [m,c,k]\n",
        "TF = cnt.tf(num,den)\n",
        "print(\"G(s)=\",TF)\n",
        "#Plot of Poles in complex axis\n",
        "Poles = cnt.pole(TF)\n",
        "Zeros = cnt.zero(TF)\n",
        "print(\"Poles of the system=\", Poles)\n",
        "print(\"Zeros of the system=\", Zeros)\n",
        "plt.scatter(Poles.real,Poles.imag, color='red')\n",
        "plt.xlabel(\"Re\")\n",
        "plt.ylabel(\"Im\")\n",
        "plt.title(\"Roots in Complex Coordinate\")\n",
        "plt.grid(True)\n",
        "plt.show()\n",
        "#Displacement vs. Time Plot\n",
        "t = np.linspace(0,5,501)  #time duration between 0 and 5 s divided into 501 points\n",
        "t,y = cnt.step_response(TF,t)   #step response of the system from transfer function where t is the time and y is the displacement of car\n",
        "plt.plot(t,y)\n",
        "plt.xlabel(\"Time [s]\")\n",
        "plt.ylabel(\"Displacement of car body in y-axis\")\n",
        "plt.title(\"Displacement of car body in y-axis vs. Time\")\n",
        "plt.grid(True)\n",
        "plt.show()"
      ],
      "execution_count": 0,
      "outputs": []
    }
  ]
}