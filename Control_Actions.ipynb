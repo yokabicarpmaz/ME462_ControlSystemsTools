{
  "nbformat": 4,
  "nbformat_minor": 0,
  "metadata": {
    "colab": {
      "name": "Control_Actions.ipynb",
      "provenance": [],
      "collapsed_sections": [],
      "authorship_tag": "ABX9TyPMHWzSQGqoSzDCrrFdNYZn",
      "include_colab_link": true
    },
    "kernelspec": {
      "name": "python3",
      "display_name": "Python 3"
    }
  },
  "cells": [
    {
      "cell_type": "markdown",
      "metadata": {
        "id": "view-in-github",
        "colab_type": "text"
      },
      "source": [
        "<a href=\"https://colab.research.google.com/github/yokabicarpmaz/ME462_ControlSystemsTools/blob/master/Control_Actions.ipynb\" target=\"_parent\"><img src=\"https://colab.research.google.com/assets/colab-badge.svg\" alt=\"Open In Colab\"/></a>"
      ]
    },
    {
      "cell_type": "markdown",
      "metadata": {
        "id": "Dm1gnPEsRCVw",
        "colab_type": "text"
      },
      "source": [
        "**CONTROL ACTIONS AND CONTROLLERS**"
      ]
    },
    {
      "cell_type": "markdown",
      "metadata": {
        "id": "VZjef3soxDhN",
        "colab_type": "text"
      },
      "source": [
        "Let's start with adding necessary libraries !\n",
        "\n",
        "\n",
        "Do NOT forget to run codes in order !"
      ]
    },
    {
      "cell_type": "code",
      "metadata": {
        "id": "10RNwECe2Z6k",
        "colab_type": "code",
        "colab": {}
      },
      "source": [
        "try :\n",
        "  !pip install control\n",
        "  !pip install cowsay\n",
        "  import control as cnt\n",
        "  import matplotlib.pyplot as plt\n",
        "  import numpy as np\n",
        "  import sympy as sy\n",
        "  import math\n",
        "  import cowsay\n",
        "  from itertools import combinations\n",
        "  cowsay.daemon(\"All libraries have been successfully downloaded!\")\n",
        "except : \n",
        "   print(\"\\033[1m\"+\"WARNING!!!LIBRARIES COULD NOT BE DOWNLOADED. PLEASE TRY AGAIN !\"+\"\\033[0m\")"
      ],
      "execution_count": 0,
      "outputs": []
    },
    {
      "cell_type": "markdown",
      "metadata": {
        "id": "mM9oW6s3bp2v",
        "colab_type": "text"
      },
      "source": [
        "\n",
        "**What is the controller?**\n",
        "\n",
        "  It is **a device or an algorithm** that works to maintain the value of the controlled variable at set point.\n",
        "\n",
        "<figure>\n",
        "<center>\n",
        "<img src='https://res.cloudinary.com/tbmg/image/upload/c_scale,w_650/c_limit,w_750/f_auto,q_auto/v1502862890/tb/articles/2014/features/49747-121_fig1.png' />\n",
        "<figcaption>Figure 1</figcaption></center>\n",
        "\n",
        "As shown in *Figure 1*, it is a manual type control and controller is the operator. He checks the temperature gauge and adjusts the flow with hand valve to get desired temperature value. \n",
        "\n",
        "<figure>\n",
        "<img src='https://res.cloudinary.com/tbmg/image/upload/c_scale,w_650/c_limit,w_750/f_auto,q_auto/v1502862890/tb/articles/2014/features/49747-121_fig2.png' />\n",
        "<center><figcaption>Figure 2</figcaption>\n",
        "\n",
        "\n",
        "\n",
        " \n",
        "\n"
      ]
    },
    {
      "cell_type": "markdown",
      "metadata": {
        "id": "FiyzsqtrY2n4",
        "colab_type": "text"
      },
      "source": [
        "As shown in *Figure 2* , it is automatic control. The controller takes the difference between desired value and sensor value accordingly it adjusts the flow with signals.\n",
        "\n",
        "The purpose of a controller is **to produce a signal that is suitable as input to the controlled plant or process.**\n",
        "\n",
        "It is responsible for **the performance of the control system.** "
      ]
    },
    {
      "cell_type": "markdown",
      "metadata": {
        "id": "vlJ_dp1oyZxR",
        "colab_type": "text"
      },
      "source": [
        "\n",
        "**What is the basic working principle?**\n",
        "\n",
        "The controller receives the difference between the reference input and the measured output (known as error) and generates **a control action to make the error to zero**. The generated control action manipulates the process variable closer to setpoint. \n",
        "\n",
        "<figure>\n",
        "<center>\n",
        "<img src='https://drive.google.com/uc?id=1AgFwoAgbLxrZ9a5hAiMG7kEsgLv_d6b8' />\n",
        "</center>\n",
        "\n",
        "The input to the controller is the **actuating error $E_a(s)$**, which is the difference between  \n",
        "\n",
        "\n",
        "*   the system response B(s), as measured by a sensor,\n",
        "*   the reference signal R(s), which represents the desired system response.\n",
        "\n",
        "**What is the control action?**\n",
        "\n",
        "The **algoritm** that relates the actuating error and the control signal is called the **control action**.\n",
        "\n",
        "The most common **control actions** are:\n",
        "\n",
        "*   **Proportional** (P-control)\n",
        "*   **Derivative** (D-control)\n",
        "*   **Integral** (I-control)\n",
        "\n",
        "\n"
      ]
    },
    {
      "cell_type": "markdown",
      "metadata": {
        "id": "lr2sLyb9ceaX",
        "colab_type": "text"
      },
      "source": [
        "**Proportional Control (P-Control)**\n",
        "\n",
        "The proportional control mode changes the controller output in proportion to the error. If the error increases, the control action increases proportionally.\n",
        "\n",
        "When an error is detected, the P controller takes **immediate corrective action**.\n",
        "\n",
        "<figure>\n",
        "<center>\n",
        "<img src='https://drive.google.com/uc?id=1z8XHLm8KzB-fF9cVHzwz51C0iN04Sfej' />\n",
        "</center>\n",
        "\n",
        "\n",
        "<center>$K_p$ is the proportional gain.\n",
        "\n",
        "$m(t) = K_{p}e_{a}(t)$\n",
        "\n",
        "$\\frac {M(s)}{E_{a}(s)}=K_{p}$\n",
        "\n"
      ]
    },
    {
      "cell_type": "markdown",
      "metadata": {
        "id": "gZiRkfASiUen",
        "colab_type": "text"
      },
      "source": [
        "A proportional controller is essentially **an amplifier with an adjustable gain.** \n",
        "\n",
        "The value of $K_{p}$ should be selected to satisfy the requirements of \n",
        "\n",
        "\n",
        "*   Stability\n",
        "*   Accuracy\n",
        "*   Satisfactory transient response\n",
        "*   Satisfactory disturbance rejection characteristics\n",
        "\n",
        "In general,\n",
        "\n",
        "\n",
        "*   **For small values of $K_p$**, the corrective **action is slow** particularly for small errors.\n",
        "*   **For large values of $K_p$**, the performance of the control system is improved. But this may lead to **instability**. \n",
        "\n",
        "Usually, a compromise is necessary in selecting proper gain. If this is not possible, then proportional control action is **used with some other control actions**.\n",
        "\n",
        "\n"
      ]
    },
    {
      "cell_type": "markdown",
      "metadata": {
        "id": "AH_oIG0GkUel",
        "colab_type": "text"
      },
      "source": [
        "The **fly-ball governor** is an early classic example of proportional control. The balls rise as speed increases, which closes the valve, until a balance is achieved between demand and the proportional gain of the linkage and valve as shown in *Figure 3*.\n",
        "\n",
        "\n",
        "<figure>\n",
        "<center>\n",
        "<img src='https://thumbs.gfycat.com/PiercingAllAsianwaterbuffalo-size_restricted.gif' />\n",
        "<center><figcaption>Figure 2</figcaption>\n",
        "\n",
        "if you want to see the working principle in detail, the following link will help:    \n",
        "https://youtu.be/HS_YGZXP2xY"
      ]
    },
    {
      "cell_type": "markdown",
      "metadata": {
        "id": "ISIF2tEKQ2HV",
        "colab_type": "text"
      },
      "source": [
        "**Integral Control (I-Control)**"
      ]
    },
    {
      "cell_type": "markdown",
      "metadata": {
        "id": "HZIIZnN-RF8D",
        "colab_type": "text"
      },
      "source": [
        "With this type of control action, control signal is **propotional to the integral of the error signal**.\n",
        "\n",
        "The value of an integral controller is directly proportional to **the history of the error**. Since it uses the error history, it will respond more **slowly** to the current error than the P controller.\n",
        "\n",
        "<figure>\n",
        "<center>\n",
        "<img src='https://drive.google.com/uc?id=1lKPD1dtucoSoPaHfhhSKVvzDVtG_3fPO' />\n",
        "</center>\n",
        "\n",
        "\n",
        "<center>$K_i$ is the integral gain.\n",
        "\n",
        "$m(t) = K_{i}\\int {e_{a}(t)}dt$\n",
        "\n",
        "\n",
        "$\\frac {M(s)}{E_{a}(s)}=\\frac{K_{i}}{s}$"
      ]
    },
    {
      "cell_type": "markdown",
      "metadata": {
        "id": "0pMXoijfSqU3",
        "colab_type": "text"
      },
      "source": [
        "\n",
        "\n",
        "*   It is obvious that even a small error can be detected, since integral control produces a control signal proportional to the area under the error signal. Hence, **it increases the accuracy of the system**.\n",
        "\n",
        "*   For **zero error signal**, the integral control may still produce a constant control signal which may in turn lead to **instability**.\n",
        "\n"
      ]
    },
    {
      "cell_type": "markdown",
      "metadata": {
        "id": "5wUHcBwb4HPj",
        "colab_type": "text"
      },
      "source": [
        "**Derivative Control (D-Control)**"
      ]
    },
    {
      "cell_type": "markdown",
      "metadata": {
        "id": "QesNdJ4lDKZX",
        "colab_type": "text"
      },
      "source": [
        "In this case, the control signal of the controller is proportional to the **derivative(slope) of the error signal**.\n",
        "\n",
        "You can think of derivative control as **a crude prediction of the error in the future**, based on the current slope of the error. How far into the future? That’s what the derivative time is for.\n",
        "\n",
        "\n",
        "\n",
        "<center>$K_d$ is the derivative gain.\n",
        "\n",
        "$m(t) = K_{d} \\frac{de_{a}(t)}{dt}$\n",
        "\n",
        "$\\frac {M(s)}{E_{a}(s)}=K_{d}s$\n",
        "<center>\n",
        "\n",
        "\n",
        "\n"
      ]
    },
    {
      "cell_type": "markdown",
      "metadata": {
        "id": "XSoGdGu-GSQG",
        "colab_type": "text"
      },
      "source": [
        "\n",
        "*   Derivative control action responds to the rate of change of error signal and can produce a control signal before **the error becomes too large**.\n",
        "\n",
        "*   As such, derivative control action **anticipates the error**, takes early corrective action, and tends to **increase the stability** of the system. \n",
        "\n",
        "*   It has no direct effect on steady state error.\n",
        "\n",
        "*   But it **increases the damping** in the system and allows to **higher value for the open loop gain K** which reduces the steady-state error.\n",
        "\n",
        "*   It amplifies noise signals coming in with the error signal and may saturate the actuator.\n",
        "\n",
        "*   It cannot be used if the error signal is not differentiable.\n",
        "\n",
        "*   **Thus derivative control action is never used alone.**"
      ]
    },
    {
      "cell_type": "markdown",
      "metadata": {
        "id": "fj38YLyqWDNZ",
        "colab_type": "text"
      },
      "source": [
        "**Proportional-Integral (PI) Controller**"
      ]
    },
    {
      "cell_type": "markdown",
      "metadata": {
        "id": "npi0xqLcWJZX",
        "colab_type": "text"
      },
      "source": [
        "The PI controller combines the **strengths of the P and I controllers**. It removes the basic problem of the plain P controller, since in the long run the I controller removes the steady-state error. The P part on the other hand fixes the problem of the slow, sluggish I controller, because it acts quickly.\n",
        "\n",
        "<figure>\n",
        "<center>\n",
        "<img src='https://drive.google.com/uc?id=1RjisWPcSRWd_dkriiJLXYpjeHeh6uYyl' />\n",
        "</center>\n",
        "\n",
        "\n",
        "The PI controller is commonly used in process control, where the response does not need to be as fast as for example in motor control. When a radar is tracking a satellite, it needs to predict the satellite’s trajectory. Therefore, the controller needs derivative (D) action, an I controller\n",
        "only slows down the response.\n",
        "\n"
      ]
    },
    {
      "cell_type": "markdown",
      "metadata": {
        "colab_type": "text",
        "id": "N3DA_rc8ZBVq"
      },
      "source": [
        "**Proportional-Derivative (PD) Controller**"
      ]
    },
    {
      "cell_type": "markdown",
      "metadata": {
        "id": "LD8bo1T0X0XW",
        "colab_type": "text"
      },
      "source": [
        "The derivative controller is hardly ever used alone. Instead, it is combined with a P controller(or with both P and I controllers) and applied in situations where **a very fast response** is required.\n",
        "\n",
        "*   When PD controllers are properly used, they **increase the stability** of a system. \n",
        "\n",
        "\n",
        "<figure>\n",
        "<center>\n",
        "<img src='https://drive.google.com/uc?id=1hOI-S8YAqLYR7xvldQ-BOcIsuCld8kY5' />\n",
        "</center>\n",
        "\n",
        "\n"
      ]
    },
    {
      "cell_type": "markdown",
      "metadata": {
        "id": "6QwuD0JNg6U0",
        "colab_type": "text"
      },
      "source": [
        "A well-known example of this is **balancing a broom handle** as shown in *Figure 4*, which is set on your palm. This is also called the inverted pendulum problem. With a little bit of practice, the hand–eye coordination produces the desired result. The eyes will follow the angle of deflection, but this is not enough, also the angular speed (and direction) of the broom’s top end has to be used. This is exactly what a PD controller does.\n",
        "\n",
        "<figure>\n",
        "<center>\n",
        "<img src='https://www.exploratorium.edu/sites/default/files/BalancingStick_DSC_8160_Hv3.jpg' />\n",
        "</center><center><figcaption>Figure 4</figcaption>\n"
      ]
    },
    {
      "cell_type": "markdown",
      "metadata": {
        "id": "KrC0GfG8cX5l",
        "colab_type": "text"
      },
      "source": [
        "**Proportional-Integral-Derivative (PID) Controller**"
      ]
    },
    {
      "cell_type": "markdown",
      "metadata": {
        "id": "0npBgXuZh33R",
        "colab_type": "text"
      },
      "source": [
        "Until now we have discussed P, PI, and PD controllers. A PID controller contains all the best features of these. \n",
        "\n",
        "<figure>\n",
        "<center>\n",
        "<img src='https://drive.google.com/uc?id=11m5ciSMcZLp45x1I33zipgFjxQSWTmDe' />\n",
        "</center>\n",
        "\n",
        "We can observe the differences  on controlled variable due to controllers as shown in *Figure 5*. \n",
        "\n",
        "<figure>\n",
        "<center>\n",
        "<img src='https://instrumentationtools.com/wp-content/uploads/2019/08/PID-Controller-Graph.gif' />\n",
        "</center><center><figcaption>Figure 5</figcaption>\n",
        "\n",
        "\n"
      ]
    },
    {
      "cell_type": "markdown",
      "metadata": {
        "id": "8rMmw3tCsSsD",
        "colab_type": "text"
      },
      "source": [
        "The autonomous vehicle as shown in *Figure 6* is a mobile robot integrating multi-sensor navigation and positioning, intelligent decision making and control technology. It is one of the most significant examples that has PID controller. \n",
        "\n",
        "\n",
        "<figure>\n",
        "<center>\n",
        "<img src='https://i1.wp.com/electrek.co/wp-content/uploads/sites/3/2016/12/tesla-self-driving-gif-1.gif?w=538&h=303&quality=82&strip=all&ssl=1' />\n",
        "</center><center><figcaption>Figure 6</figcaption>"
      ]
    },
    {
      "cell_type": "markdown",
      "metadata": {
        "id": "OpSz79xSo6PZ",
        "colab_type": "text"
      },
      "source": [
        "**If you want to have further insight and to wrap up the task, it is highly recommended to watch these videos :** \n",
        "\n",
        "https://youtu.be/4Y7zG48uHRo\n",
        "\n",
        "https://youtu.be/fusr9eTceEo"
      ]
    }
  ]
}