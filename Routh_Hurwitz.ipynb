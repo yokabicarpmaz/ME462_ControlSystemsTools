{
  "nbformat": 4,
  "nbformat_minor": 0,
  "metadata": {
    "colab": {
      "name": "Routh_Hurwitz.ipynb",
      "provenance": [],
      "collapsed_sections": [],
      "authorship_tag": "ABX9TyMcnba3BoKVcV8s2R389v1v",
      "include_colab_link": true
    },
    "kernelspec": {
      "name": "python3",
      "display_name": "Python 3"
    }
  },
  "cells": [
    {
      "cell_type": "markdown",
      "metadata": {
        "id": "view-in-github",
        "colab_type": "text"
      },
      "source": [
        "<a href=\"https://colab.research.google.com/github/yokabicarpmaz/ME462_ControlSystemsTools/blob/master/Routh_Hurwitz.ipynb\" target=\"_parent\"><img src=\"https://colab.research.google.com/assets/colab-badge.svg\" alt=\"Open In Colab\"/></a>"
      ]
    },
    {
      "cell_type": "markdown",
      "metadata": {
        "id": "1fBzjARX1xmD",
        "colab_type": "text"
      },
      "source": [
        "**ROUTH-HURWITZ STABILITY CRITERION**"
      ]
    },
    {
      "cell_type": "code",
      "metadata": {
        "id": "GHnsBGuo9ory",
        "colab_type": "code",
        "colab": {}
      },
      "source": [
        "try :\n",
        "  !pip install control\n",
        "  !pip install cowsay\n",
        "  import control as cnt\n",
        "  import matplotlib.pyplot as plt\n",
        "  import numpy as np\n",
        "  import sympy as sy\n",
        "  import math\n",
        "  import cowsay\n",
        "  from itertools import combinations\n",
        "  cowsay.tux(\"All libraries have been successfully downloaded!\")\n",
        "except : \n",
        "   print(\"\\033[1m\"+\"WARNING!!!LIBRARIES COULD NOT BE DOWNLOADED. PLEASE TRY AGAIN !\"+\"\\033[0m\")"
      ],
      "execution_count": 0,
      "outputs": []
    },
    {
      "cell_type": "markdown",
      "metadata": {
        "id": "oRdKuE59I1uB",
        "colab_type": "text"
      },
      "source": [
        "**Why do we need Routh's stability criterion?**\n",
        "\n",
        "\n",
        "*   No need to explicitly compute roots of the polynomial.\n",
        "\n",
        "  High order D(s) can be handled by hand calculations.\n",
        "\n",
        "*   Polynomials including undetermined parameters (plant\n",
        "and/or controller parameters in feedback systems) can\n",
        "be dealt with.\n",
        "\n",
        "  Root computation does not work in such cases!\n",
        "  \n",
        "*This criterion is applicable only for a linear system.*\n"
      ]
    },
    {
      "cell_type": "markdown",
      "metadata": {
        "id": "XAu4i8YqNrBO",
        "colab_type": "text"
      },
      "source": [
        "There is a prerequisite to use Routh’s criterion named as **Hurwitz Test**:\n",
        "\n",
        "The necessary but $\\underline{not}$ sufficient condition for a characteristic equation $D(s) = a_ns^n+a_{n-1}s^{n-1}+...+a_{1}s+a_0$ :\n",
        "\n",
        "\n",
        "\n",
        "*   **all of the coefficients $a_i$'s should have the same sign**.\n",
        "\n",
        "\n",
        "\n",
        "\n",
        "If the characteristic equation fails to meet the Hurwitz test, then the system is $\\underline{unstable}$.\n",
        "\n",
        "\n",
        "For instance,\n",
        "\n",
        "$D(s) = s^5+3s^4+4s^3+3s^2+s-5$   is an unstable system and no need to apply Routh's criterion.\n",
        "\n",
        "You can observe the instability with the step response of this transfer function. \n",
        "\n"
      ]
    },
    {
      "cell_type": "code",
      "metadata": {
        "id": "daTHgY1E9EwG",
        "colab_type": "code",
        "colab": {}
      },
      "source": [
        "num = [1]\n",
        "den = [1,3,4,3,1,-5]\n",
        "TF = cnt.tf(num,den)\n",
        "print(\"G(s)=\",TF)\n",
        "#Step Response of TF\n",
        "t = np.linspace(0,10,501)  #time duration between 0 and 10 s divided into 501 points\n",
        "t,x = cnt.step_response(TF,t)   #step response of the system from transfer function where t is time and x is response\n",
        "plt.plot(t,x)\n",
        "plt.xlabel(\"Time\")\n",
        "plt.ylabel(\"Response\")\n",
        "plt.title(\"Step Response vs. Time\")\n",
        "plt.show()"
      ],
      "execution_count": 0,
      "outputs": []
    },
    {
      "cell_type": "markdown",
      "metadata": {
        "id": "RAbvpAmu-XBP",
        "colab_type": "text"
      },
      "source": [
        "$D(s) = 3s^4+3s^3+s+5$ is also an unstable system. Think why?\n",
        "\n",
        "You can run the next code block and observe the step response of this transfer function. \n"
      ]
    },
    {
      "cell_type": "code",
      "metadata": {
        "id": "GwnCu9QO-Yce",
        "colab_type": "code",
        "colab": {}
      },
      "source": [
        "num = [1]\n",
        "den = [3,3,0,1,5]\n",
        "TF = cnt.tf(num,den)\n",
        "print(\"G(s)=\",TF)\n",
        "#Step Response of TF\n",
        "t = np.linspace(0,30,501)   #time duration between 0 and 30 s divided into 501 points\n",
        "t,x = cnt.step_response(TF,t)   #step response of the system from transfer function where t is time and x is response\n",
        "plt.plot(t,x)\n",
        "plt.xlabel(\"Time\")\n",
        "plt.ylabel(\"Response\")\n",
        "plt.title(\"Step Response vs. Time\")\n",
        "plt.show()"
      ],
      "execution_count": 0,
      "outputs": []
    },
    {
      "cell_type": "markdown",
      "metadata": {
        "id": "58qUz-04ulRv",
        "colab_type": "text"
      },
      "source": [
        "\n",
        "\n",
        "---\n",
        "\n",
        "\n",
        "\n",
        "---\n",
        "**If Hurwitz condition is satisfied, there is no conclusion on the stability of system so Routh's stability criterion must be used.**\n",
        "\n",
        "\n",
        "\n",
        "*    Routh's array, which is a special arrangement of the coefficients in a certain pattern, must be constructed to be able to apply Routh's criterion. \n",
        "\n",
        "\n"
      ]
    },
    {
      "cell_type": "markdown",
      "metadata": {
        "id": "W1wVST-dv9uc",
        "colab_type": "text"
      },
      "source": [
        "\n",
        "<img src='https://live.staticflickr.com/65535/49905102498_d960944381_b.jpg' />"
      ]
    },
    {
      "cell_type": "markdown",
      "metadata": {
        "id": "PdnNu19rxA1O",
        "colab_type": "text"
      },
      "source": [
        "How can we decide the position of coefficients of the characteristic polynomial in Routh's array?\n",
        "\n",
        "<img src='https://live.staticflickr.com/65535/49905103428_831cded506_b.jpg' />"
      ]
    },
    {
      "cell_type": "markdown",
      "metadata": {
        "id": "8UMDM89Uy6RX",
        "colab_type": "text"
      },
      "source": [
        "How can we decide the other coefficients in Routh's array?\n",
        "\n",
        "<img src='https://live.staticflickr.com/65535/49905618116_785f2b886e_b.jpg' />\n",
        "<img src='https://live.staticflickr.com/65535/49905959662_ccb9af88fe_b.jpg' />\n",
        "<img src='https://live.staticflickr.com/65535/49905919247_2ed0e75d08_b.jpg' />"
      ]
    },
    {
      "cell_type": "markdown",
      "metadata": {
        "id": "Cjzx7rv7GGBr",
        "colab_type": "text"
      },
      "source": [
        "**Stability Criterion :**\n",
        "\n",
        "\n",
        "\n",
        "*   The necessary and sufficient condition for stability **the elements of the first column of the Routh's array have the same sign.**\n",
        "\n"
      ]
    },
    {
      "cell_type": "markdown",
      "metadata": {
        "id": "7yevYRgtseCo",
        "colab_type": "text"
      },
      "source": [
        "\n",
        "\n",
        "---\n",
        "\n",
        "\n",
        "\n",
        "---\n",
        "Example\n",
        "\n",
        "\n",
        "---\n",
        "\n",
        "\n",
        "\n",
        "---\n",
        "\n",
        "\n"
      ]
    },
    {
      "cell_type": "markdown",
      "metadata": {
        "id": "yXiJlpg2tJXO",
        "colab_type": "text"
      },
      "source": [
        "$D(s) = 3s^2+s+2$ \n",
        "\n",
        "*   Check the second order system is stable or not using Routh-Hurwitz criterion.\n",
        "\n",
        "\n"
      ]
    },
    {
      "cell_type": "markdown",
      "metadata": {
        "id": "m-uM4j1RwzhK",
        "colab_type": "text"
      },
      "source": [
        "\n",
        "\n",
        "*   Hurwitz test:\n",
        "\n",
        "$a_2 = 3$\n",
        "\n",
        "$a_1 = 1$\n",
        "\n",
        "$a_0 = 2$\n",
        "\n",
        "then $ a_k > 0 $ condition is satisfied. Move on with Routh's criterion.\n",
        "\n",
        "*   Routh's criterion:\n",
        "\n",
        "<img src='https://live.staticflickr.com/65535/49905618031_5f5ae8f2c3_b.jpg' />\n",
        "\n",
        "the elements of the first column of the array have the same sign then the system is $\\underline {stable}$.\n",
        "\n",
        "*   Look at the poles and compare the results.\n",
        "\n",
        "\n",
        "\n"
      ]
    },
    {
      "cell_type": "code",
      "metadata": {
        "id": "XcUuf6UiyyXU",
        "colab_type": "code",
        "colab": {}
      },
      "source": [
        "num = [1]\n",
        "den = [3,1,2]\n",
        "TF = cnt.tf(num,den)\n",
        "print(\"G(s)=\",TF)\n",
        "Poles = cnt.pole(TF)\n",
        "print(\"Poles of the system=\", Poles)\n",
        "#Plot of Poles in complex plane\n",
        "plt.scatter(Poles.real,Poles.imag, color='red')\n",
        "plt.xlabel(\"Re\")\n",
        "plt.ylabel(\"Im\")\n",
        "plt.title(\"Roots in Complex Coordinate\")\n",
        "plt.show()"
      ],
      "execution_count": 0,
      "outputs": []
    },
    {
      "cell_type": "markdown",
      "metadata": {
        "colab_type": "text",
        "id": "6QzzNUno0SC0"
      },
      "source": [
        "\n",
        "\n",
        "---\n",
        "\n",
        "\n",
        "\n",
        "---\n",
        "Example\n",
        "\n",
        "\n",
        "---\n",
        "\n",
        "\n",
        "\n",
        "---\n",
        "\n",
        "\n"
      ]
    },
    {
      "cell_type": "markdown",
      "metadata": {
        "colab_type": "text",
        "id": "6yjaz2kc0SDI"
      },
      "source": [
        "$D(s) = s^3+s^2+2s+24$ \n",
        "\n",
        "*   Check the third order system is stable or not using Routh-Hurwitz criterion.\n",
        "\n",
        "\n"
      ]
    },
    {
      "cell_type": "markdown",
      "metadata": {
        "colab_type": "text",
        "id": "r7HbxtQJ0SDK"
      },
      "source": [
        "\n",
        "\n",
        "*   Hurwitz test:\n",
        "\n",
        "$a_3 = 1$\n",
        "\n",
        "$a_2 = 1$\n",
        "\n",
        "$a_1 = 2$\n",
        "\n",
        "$a_0 = 24$\n",
        "\n",
        "then $ a_k > 0 $ condition is satisfied. Move on with Routh's criterion.\n",
        "\n",
        "*   Routh's criterion:\n",
        "\n",
        "<img src='https://live.staticflickr.com/65535/49905617871_83770b33f0_b.jpg' />\n",
        "\n",
        "There are 2 sign changes in the first column so the system is $\\underline {unstable}$.\n",
        "\n",
        "*   Look at the poles and compare the results.\n",
        "\n",
        "\n",
        "\n"
      ]
    },
    {
      "cell_type": "code",
      "metadata": {
        "colab_type": "code",
        "id": "YKcfuxaw0SDM",
        "colab": {}
      },
      "source": [
        "num = [1]\n",
        "den = [1,1,2,24]\n",
        "TF = cnt.tf(num,den)\n",
        "print(\"G(s)=\",TF)\n",
        "Poles = cnt.pole(TF)\n",
        "print(\"Poles of the system=\", Poles)\n",
        "#Plot of Poles in complex plane\n",
        "plt.scatter(Poles.real,Poles.imag, color='red')\n",
        "plt.xlabel(\"Re\")\n",
        "plt.ylabel(\"Im\")\n",
        "plt.title(\"Roots in Complex Coordinate\")\n",
        "plt.show()\n"
      ],
      "execution_count": 0,
      "outputs": []
    },
    {
      "cell_type": "markdown",
      "metadata": {
        "id": "tUMhNhaXMcOB",
        "colab_type": "text"
      },
      "source": [
        "**FEATURES OF ROUTH ARRAY**\n",
        "\n",
        "\n",
        "\n",
        "\n",
        "\n"
      ]
    },
    {
      "cell_type": "markdown",
      "metadata": {
        "id": "VeMfud-4Q-x5",
        "colab_type": "text"
      },
      "source": [
        "\n",
        "\n",
        "---\n",
        "\n",
        "\n",
        "\n",
        "1.   If the elements of the first column have different signs,\n",
        "\n",
        " then **the number of sign changes is equal to the number of roots with positive real parts.**\n",
        "\n",
        "\n",
        "\n",
        "---\n",
        "\n",
        "\n",
        "\n",
        "\n"
      ]
    },
    {
      "cell_type": "markdown",
      "metadata": {
        "id": "wfsDcbu5SlFA",
        "colab_type": "text"
      },
      "source": [
        "\n",
        "\n",
        "---\n",
        "Example\n",
        "\n",
        "\n",
        "---\n",
        "\n"
      ]
    },
    {
      "cell_type": "markdown",
      "metadata": {
        "colab_type": "text",
        "id": "jcfp7OkZUGuB"
      },
      "source": [
        "$D(s) = 3s^3+5s^2+2s+5$ \n",
        "\n",
        "*   Check the third order system is stable or not using Routh-Hurwitz criterion.\n",
        "\n",
        "\n"
      ]
    },
    {
      "cell_type": "markdown",
      "metadata": {
        "colab_type": "text",
        "id": "OiZBHpQ3UGuK"
      },
      "source": [
        "\n",
        "\n",
        "*   Hurwitz test:\n",
        "\n",
        "$a_3 = 3$\n",
        "\n",
        "$a_2 = 5$\n",
        "\n",
        "$a_1 = 2$\n",
        "\n",
        "$a_0 = 5$\n",
        "\n",
        "then $ a_k > 0 $ condition is satisfied. Move on with Routh's criterion.\n",
        "\n",
        "*   Routh's criterion:\n",
        "\n",
        "<img src='https://live.staticflickr.com/65535/49905617726_3bcf100af0_b.jpg' />\n",
        "\n",
        "There are 2 sign changes in the first column, so the system is $\\underline {unstable}$ and it is expected that there are **2 roots with positive real part**.\n",
        "\n",
        "*   Look at the poles and compare the results. Are there 2 poles with positive real part?\n",
        "\n",
        "\n",
        "\n"
      ]
    },
    {
      "cell_type": "code",
      "metadata": {
        "colab_type": "code",
        "id": "tca569N7UGuM",
        "colab": {}
      },
      "source": [
        "num = [1]\n",
        "den = [3,5,2,5]\n",
        "TF = cnt.tf(num,den)\n",
        "print(\"G(s)=\",TF)\n",
        "Poles = cnt.pole(TF)\n",
        "print(\"Poles of the system=\", Poles)\n",
        "#Plot of Poles in complex plane\n",
        "plt.scatter(Poles.real,Poles.imag, color='red')\n",
        "plt.xlabel(\"Re\")\n",
        "plt.ylabel(\"Im\")\n",
        "plt.title(\"Roots in Complex Coordinate\")\n",
        "plt.show()\n",
        "#Step Response of TF\n",
        "t = np.linspace(0,30,3001)   #time duration between 0 and 30 s divided into 3001 points\n",
        "t,x = cnt.step_response(TF,t)   #step response of the system from transfer function where t is time and x is response\n",
        "plt.plot(t,x)\n",
        "plt.xlabel(\"Time\")\n",
        "plt.ylabel(\"Response\")\n",
        "plt.title(\"Step Response vs. Time\")\n",
        "plt.show()\n",
        "\n"
      ],
      "execution_count": 0,
      "outputs": []
    },
    {
      "cell_type": "markdown",
      "metadata": {
        "colab_type": "text",
        "id": "2iNZz6E-sEpA"
      },
      "source": [
        "\n",
        "\n",
        "---\n",
        "\n",
        "\n",
        "\n",
        "\n",
        "\n",
        "\n",
        "\n",
        "2.   If the system is **marginally stable**, \n",
        "\n",
        "      then the Routh array will contain **a row of zeros (ROZ)** and its first column will have no sign changes.\n",
        "\n",
        "\n",
        "\n",
        "*   The converse of the above statement is NOT true.\n",
        "*   Row of zeros implies symmetric poles about the origin. \n",
        "\n",
        "\n",
        "\n",
        "\n",
        "\n",
        "---\n",
        "\n",
        "\n",
        "\n"
      ]
    },
    {
      "cell_type": "markdown",
      "metadata": {
        "colab_type": "text",
        "id": "2dJSP0k9yJnX"
      },
      "source": [
        "\n",
        "\n",
        "---\n",
        "Example\n",
        "\n",
        "\n",
        "---\n",
        "\n"
      ]
    },
    {
      "cell_type": "markdown",
      "metadata": {
        "colab_type": "text",
        "id": "KM-6ZeS2yQu5"
      },
      "source": [
        "$D(s) = 1s^3+s^2+s+1$ \n",
        "\n",
        "*   Check the third order system is stable or not using Routh-Hurwitz criterion.\n",
        "\n",
        "\n"
      ]
    },
    {
      "cell_type": "markdown",
      "metadata": {
        "colab_type": "text",
        "id": "8zp7LDAv0AfD"
      },
      "source": [
        "\n",
        "\n",
        "*   Hurwitz test:\n",
        "\n",
        "$a_4 = 1$\n",
        "\n",
        "$a_3 = 1$\n",
        "\n",
        "$a_2 = 1$\n",
        "\n",
        "$a_1 = 1$\n",
        "\n",
        "$a_0 = 1$\n",
        "\n",
        "then $ a_k > 0 $ condition is satisfied. Move on with Routh's criterion.\n",
        "\n",
        "*   Routh's criterion:\n",
        "\n",
        "<img src='https://live.staticflickr.com/65535/49905102888_e8243eae0f_b.jpg' />\n",
        "\n",
        "In order to complete the array, the Routh's array should be rearranged.\n",
        "\n",
        "\n",
        "\n",
        "\n",
        "\n",
        "\n"
      ]
    },
    {
      "cell_type": "markdown",
      "metadata": {
        "id": "hAhZmLwJ4qmn",
        "colab_type": "text"
      },
      "source": [
        "**What will be the procedure after encountering ROZ?**\n",
        "\n",
        "\n",
        "1.   Find the **auxiliary polynomial**.\n",
        "\n",
        "\n",
        "*   Auxiliary polynomial, P(s), is obtained using the coefficients above the ROZ. \n",
        "\n",
        "<img src='https://live.staticflickr.com/65535/49905918812_b2daeb869a_b.jpg' />\n",
        "\n",
        "*  It contains only even powers of s.\n",
        " \n",
        " General form of P(s) is expressed as:\n",
        "\n",
        " $P(s) = c_ks^{2m}+d_ks^{2(m-1)}+...+m_ks^{2}+n_k$ \n",
        "\n",
        " then in this example the auxiliary polynomial is \n",
        "\n",
        " $P(s) = s^{2}+1$\n",
        "\n",
        "\n",
        "2.  Replace the element of ROZ with coefficients of   $P'(s) = \\frac {dP(s)}{ds}$.\n",
        "\n",
        "  $P'(s) = 2s$\n",
        "\n",
        "<img src='https://live.staticflickr.com/65535/49906105937_47761a584f_b.jpg' />\n",
        "\n",
        "3.  Complete the Routh Array.\n",
        "\n",
        "<img src='https://live.staticflickr.com/65535/49905617506_f7cd627144_b.jpg' />\n",
        "\n",
        "*  If there are **no sign changes** in the first column in the revised form of array and if all of **the poles found from P(s) are imaginary and distinct**, the system is **marginally stable**. Otherwise, unstable. \n"
      ]
    },
    {
      "cell_type": "markdown",
      "metadata": {
        "id": "vIPQTlJvli7n",
        "colab_type": "text"
      },
      "source": [
        "*  Observe that the system is marginally stable."
      ]
    },
    {
      "cell_type": "code",
      "metadata": {
        "colab_type": "code",
        "id": "fTlj2BG0L9Zu",
        "colab": {}
      },
      "source": [
        "num = [1]\n",
        "den = [1,1,1,1]\n",
        "TF = cnt.tf(num,den)\n",
        "print(\"G(s)=\",TF)\n",
        "Poles = cnt.pole(TF)\n",
        "print(\"Poles of the system=\", Poles )\n",
        "#Plot of Poles in complex plane\n",
        "plt.scatter(Poles.real,Poles.imag, color='red')\n",
        "plt.xlabel(\"Re\")\n",
        "plt.ylabel(\"Im\")\n",
        "plt.title(\"Roots in Complex Coordinate\")\n",
        "plt.show()\n",
        "#Step Response of TF\n",
        "t = np.linspace(0,30,3001)  #time duration between 0 and 30 s divided into 3001 points\n",
        "t,x = cnt.step_response(TF,t)   #step response of the system from transfer function where t is time and x is response\n",
        "plt.plot(t,x)\n",
        "plt.xlabel(\"Time\")\n",
        "plt.ylabel(\"Response\")\n",
        "plt.title(\"Step Response vs. Time\")\n",
        "plt.show()"
      ],
      "execution_count": 0,
      "outputs": []
    },
    {
      "cell_type": "markdown",
      "metadata": {
        "colab_type": "text",
        "id": "doGHMZiGM_XA"
      },
      "source": [
        "\n",
        "\n",
        "---\n",
        "\n",
        "\n",
        "\n",
        "3.  If **one element of the the first column is zero** while there is at least one  nonzero element in this row, then the system is **unstable**. \n",
        "\n",
        "\n",
        "\n",
        "\n",
        "---\n",
        "\n",
        "\n",
        "\n",
        "\n"
      ]
    },
    {
      "cell_type": "markdown",
      "metadata": {
        "colab_type": "text",
        "id": "Q4LtW68KeLqZ"
      },
      "source": [
        "\n",
        "\n",
        "---\n",
        "Example\n",
        "\n",
        "\n",
        "---\n",
        "\n"
      ]
    },
    {
      "cell_type": "markdown",
      "metadata": {
        "colab_type": "text",
        "id": "KgPEedm_eLqc"
      },
      "source": [
        "$D(s) = s^5+2s^4+2s^3+4s^2+11s+10$ \n",
        "\n",
        "*   Check the third order system is stable or not using Routh-Hurwitz criterion.\n",
        "\n",
        "\n"
      ]
    },
    {
      "cell_type": "markdown",
      "metadata": {
        "colab_type": "text",
        "id": "UCLmpyI4egI9"
      },
      "source": [
        "\n",
        "\n",
        "*   Hurwitz test:\n",
        "\n",
        "$a_5 = 1$\n",
        "\n",
        "$a_4 = 2$\n",
        "\n",
        "$a_3 = 2$\n",
        "\n",
        "$a_2 = 4$\n",
        "\n",
        "$a_1 = 11$\n",
        "\n",
        "$a_0 = 10$\n",
        "\n",
        "then $ a_k > 0 $ condition is satisfied. Move on with Routh's criterion.\n",
        "\n",
        "*   Routh's criterion:\n",
        "\n",
        "<img src='https://live.staticflickr.com/65535/49905918687_8c89999545_b.jpg' />\n",
        "\n",
        "In order to complete the array, the Routh's array should be rearranged.\n",
        "\n",
        "\n",
        "\n",
        "\n",
        "\n",
        "\n"
      ]
    },
    {
      "cell_type": "markdown",
      "metadata": {
        "id": "axzcBZpae9VG",
        "colab_type": "text"
      },
      "source": [
        "**What will be the procedure after encountering 0 in the first column in a row which is not ROZ?**\n",
        "\n",
        "\n",
        "1.   Proceed by replacing the zero element with a very small positive number $\\epsilon$.\n",
        "<img src='https://live.staticflickr.com/65535/49905102573_4e607d0685_b.jpg' />\n",
        "\n",
        "2.  Complete the array.\n",
        "\n",
        "<img src='https://live.staticflickr.com/65535/49905918612_f877fa6b1f_b.jpg' />\n",
        "\n",
        "There are 2 sign changes then system is **unstable** as expected and there are **2 roots with positive real part**.\n",
        "\n"
      ]
    },
    {
      "cell_type": "markdown",
      "metadata": {
        "id": "0O-9OMoflbtc",
        "colab_type": "text"
      },
      "source": [
        "*   Look at the poles and compare the results. Are there 2 poles with positive real part?\n"
      ]
    },
    {
      "cell_type": "code",
      "metadata": {
        "id": "v3eyMIN9kC8s",
        "colab_type": "code",
        "colab": {}
      },
      "source": [
        "num = [1]\n",
        "den = [1,2,2,4,11,10]\n",
        "TF = cnt.tf(num,den)\n",
        "print(\"G(s)=\",TF)\n",
        "Poles = cnt.pole(TF)\n",
        "print(\"Poles of the system=\", Poles )\n",
        "#Plot of Poles in complex plane\n",
        "plt.scatter(Poles.real,Poles.imag, color='red')\n",
        "plt.xlabel(\"Re\")\n",
        "plt.ylabel(\"Im\")\n",
        "plt.title(\"Roots in Complex Coordinate\")\n",
        "plt.show()\n",
        "#Step Response of TF\n",
        "t = np.linspace(0,30,1001)   #time duration between 0 and 30 s divided into 3001 points\n",
        "t,x = cnt.step_response(TF,t)   #step response of the system from transfer function where t is time and x is response\n",
        "plt.plot(t,x)\n",
        "plt.xlabel(\"Time\")\n",
        "plt.ylabel(\"Response\")\n",
        "plt.title(\"Step Response vs. Time\")\n",
        "plt.show()"
      ],
      "execution_count": 0,
      "outputs": []
    }
  ]
}