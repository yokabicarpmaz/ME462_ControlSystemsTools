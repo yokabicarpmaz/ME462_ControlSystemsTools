{
  "nbformat": 4,
  "nbformat_minor": 0,
  "metadata": {
    "colab": {
      "name": "Frequency Response.ipynb",
      "provenance": [],
      "collapsed_sections": [],
      "authorship_tag": "ABX9TyMuNljp62mCHYjIev05rUMA",
      "include_colab_link": true
    },
    "kernelspec": {
      "name": "python3",
      "display_name": "Python 3"
    }
  },
  "cells": [
    {
      "cell_type": "markdown",
      "metadata": {
        "id": "view-in-github",
        "colab_type": "text"
      },
      "source": [
        "<a href=\"https://colab.research.google.com/github/yokabicarpmaz/ME462_ControlSystemsTools/blob/master/Frequency_Response.ipynb\" target=\"_parent\"><img src=\"https://colab.research.google.com/assets/colab-badge.svg\" alt=\"Open In Colab\"/></a>"
      ]
    },
    {
      "cell_type": "markdown",
      "metadata": {
        "id": "ELhozsfyP4_2",
        "colab_type": "text"
      },
      "source": [
        "**FREQUENCY RESPONSE**"
      ]
    },
    {
      "cell_type": "markdown",
      "metadata": {
        "id": "h-H-7yzXOjV7",
        "colab_type": "text"
      },
      "source": [
        "Let's start with adding necessary libraries !\n",
        "\n",
        "\n",
        "Do NOT forget to run codes in order !"
      ]
    },
    {
      "cell_type": "code",
      "metadata": {
        "id": "AM1V35dLOl7K",
        "colab_type": "code",
        "colab": {
          "base_uri": "https://localhost:8080/",
          "height": 538
        },
        "outputId": "881389fc-9a0c-44b4-e1b8-e648f1d6520e"
      },
      "source": [
        "try :\n",
        "  !pip install control\n",
        "  !pip install cowsay\n",
        "  import control as cnt\n",
        "  from control import bode_plot\n",
        "  import matplotlib.pyplot as plt\n",
        "  from mpl_toolkits import mplot3d\n",
        "  import numpy as np\n",
        "  import sympy as sy\n",
        "  import math\n",
        "  import cowsay\n",
        "  import ipywidgets as widgets\n",
        "  from IPython.display import display\n",
        "  cowsay.stegosaurus(\"All libraries have been successfully downloaded!\")\n",
        "except : \n",
        "   print(\"\\033[1m\"+\"WARNING!!!LIBRARIES COULD NOT BE DOWNLOADED. PLEASE TRY AGAIN !\"+\"\\033[0m\")"
      ],
      "execution_count": 4,
      "outputs": [
        {
          "output_type": "stream",
          "text": [
            "Requirement already satisfied: control in /usr/local/lib/python3.6/dist-packages (0.8.3)\n",
            "Requirement already satisfied: numpy in /usr/local/lib/python3.6/dist-packages (from control) (1.18.5)\n",
            "Requirement already satisfied: matplotlib in /usr/local/lib/python3.6/dist-packages (from control) (3.2.2)\n",
            "Requirement already satisfied: scipy in /usr/local/lib/python3.6/dist-packages (from control) (1.4.1)\n",
            "Requirement already satisfied: pyparsing!=2.0.4,!=2.1.2,!=2.1.6,>=2.0.1 in /usr/local/lib/python3.6/dist-packages (from matplotlib->control) (2.4.7)\n",
            "Requirement already satisfied: kiwisolver>=1.0.1 in /usr/local/lib/python3.6/dist-packages (from matplotlib->control) (1.2.0)\n",
            "Requirement already satisfied: cycler>=0.10 in /usr/local/lib/python3.6/dist-packages (from matplotlib->control) (0.10.0)\n",
            "Requirement already satisfied: python-dateutil>=2.1 in /usr/local/lib/python3.6/dist-packages (from matplotlib->control) (2.8.1)\n",
            "Requirement already satisfied: six in /usr/local/lib/python3.6/dist-packages (from cycler>=0.10->matplotlib->control) (1.12.0)\n",
            "Requirement already satisfied: cowsay in /usr/local/lib/python3.6/dist-packages (2.0.3)\n",
            "  ________________________________________________\n",
            "< All libraries have been successfully downloaded! >\n",
            "  ================================================\n",
            "                                                     \\\n",
            "                                                      \\\n",
            "                                                       \\\n",
            "                                                        \\                                                                 \n",
            "                                                                                  / `.   .' \" \n",
            "                                                                          .---.  <    > <    >  .---.\n",
            "                                                                          |    \\  \\ - ~ ~ - /  /    |\n",
            "                                                      _____          ..-~             ~-..-~\n",
            "                                                     |     |   \\~~~\\.'                    `./~~~/\n",
            "                                                    ---------   \\__/                        \\__/\n",
            "                                                   .'  O    \\     /               /       \\  \" \n",
            "                                                  (_____,    `._.'               |         }  \\/~~~/\n",
            "                                                   `----.          /       }     |        /    \\__/\n",
            "                                                         `-.      |       /      |       /      `. ,~~|\n",
            "                                                             ~-.__|      /_ - ~ ^|      /- _      `..-'   \n",
            "                                                                  |     /        |     /     ~-.     `-. _  _  _\n",
            "                                                                  |_____|        |_____|         ~ - . _ _ _ _ _>\n",
            "                                                           \n"
          ],
          "name": "stdout"
        }
      ]
    },
    {
      "cell_type": "markdown",
      "metadata": {
        "id": "75qrmKLiQIwG",
        "colab_type": "text"
      },
      "source": [
        "  While the output of a system can be represented in time domain, it can also be represented in the frequency domain.\n",
        "\n",
        "  This approach can be useful for system identification. If a controller is to be designed for a very complicated or unknown system, measuring the frequency response of the system can yield a model of the system. Then, only by using the frequency response, a proper controller can be designed.\n",
        "\n",
        "  If a system is stable, linear, and time invarient, for a sinusoidal input, the steady state output is a sinusoidal with the same frequency. However, the steady state output may have a different phase and a different magnitude.\n",
        "\n",
        "  Let's assume the input is given as\n",
        "$x(t) = A_x\\sin({\\omega}t + {\\alpha})h(t)$, where h(t) is the unit step function\n",
        "\n",
        "  Then, the expected steady state system output is $y_{ss}(t) = A_y\\sin({\\omega}t + {\\alpha} + {\\phi})$\n",
        "\n",
        "  For this system, at frequency ${\\omega}$, the following properties can be defined:\n",
        "- Amplitude ratio (magnification factor) $= M = \\frac{A_y}{A_x}$\n",
        "- Phase lead $= {\\phi}$\n",
        "- Phase lag $= -{\\phi}$\n",
        "\n",
        "  In order to find these properties as a function of ${\\omega}$, one can insert $j{\\omega}$ instead of s in the systems transfer function. The magnitude of the resultant function is equal to amplitude ratio, and the phase of the resultant function is equal to phase lead.\n",
        "\n",
        "One way to visualize these properties is bode diagrams. A bode diagram consists of two graphs containing frequency(${\\omega}$) versus $\\overline{M} = 20\\log(M)$, and ${\\phi}$. In the bode diagrams, ${\\omega}$ is shown in log scale. $\\overline{M}$ is the magnitude in decibels (dB). A decade is an interval in which ${\\omega}$ is multiplied by a factor of 10.\n",
        "\n",
        "\n",
        "Now let's go over some common transfer functions, and see their bode plots.\n",
        "We can start by considering the simplest case: a **constant transfer function**."
      ]
    },
    {
      "cell_type": "code",
      "metadata": {
        "id": "MrZVsfUwcOzJ",
        "colab_type": "code",
        "colab": {
          "base_uri": "https://localhost:8080/",
          "height": 283
        },
        "outputId": "80f7c8fd-a04f-4403-8972-6890e67ce47b"
      },
      "source": [
        "K = 10\n",
        "system_tf = cnt.tf([K], [1])   #Transfer function of the system\n",
        "b_magnitude, b_phase, b_freq = bode_plot([system_tf], dB = True)\n"
      ],
      "execution_count": 16,
      "outputs": [
        {
          "output_type": "display_data",
          "data": {
            "image/png": "[encoded data removed]",
            "text/plain": [
              "<Figure size 432x288 with 2 Axes>"
            ]
          },
          "metadata": {
            "tags": [],
            "needs_background": "light"
          }
        }
      ]
    },
    {
      "cell_type": "markdown",
      "metadata": {
        "id": "y-Q6zBzdeW9y",
        "colab_type": "text"
      },
      "source": [
        "As you might expect, and the plot suggests, the constant term has a finite $\\overline{M}$, and a phase of 0.\n",
        "\n",
        "Now, let's consider a slightly more complicated function, a **differentiator** (s):"
      ]
    },
    {
      "cell_type": "code",
      "metadata": {
        "id": "mH_DYuW1fYXT",
        "colab_type": "code",
        "colab": {
          "base_uri": "https://localhost:8080/",
          "height": 283
        },
        "outputId": "b82e30c3-bcdd-4483-e5df-26501ec1ac2b"
      },
      "source": [
        "system_tf = cnt.tf([1, 0], [1])   #Transfer function of the system\n",
        "b_magnitude, b_phase, b_freq = bode_plot([system_tf], dB = True)"
      ],
      "execution_count": 15,
      "outputs": [
        {
          "output_type": "display_data",
          "data": {
            "image/png": "[encoded data removed]",
            "text/plain": [
              "<Figure size 432x288 with 2 Axes>"
            ]
          },
          "metadata": {
            "tags": [],
            "needs_background": "light"
          }
        }
      ]
    },
    {
      "cell_type": "markdown",
      "metadata": {
        "id": "OmOfo-JSftdZ",
        "colab_type": "text"
      },
      "source": [
        "Let's verify the result.\n",
        "$$G(s) = s\\\\\n",
        "G(j{\\omega}) = j{\\omega}\\\\\n",
        "M = |G(j{\\omega})| = {\\omega}\\\\\n",
        "{\\phi} = \\angle{G(j{\\omega})} = 90°\\\\\n",
        "\\overline{M} = 20\\log({\\omega})$$\n",
        "\n",
        "Considering that ${\\omega}$ is in log scale, we can verify that $\\overline{M}$ is a line with a slope of 20dB/dec, and ${\\phi}$ is 90°.\n",
        "\n",
        "Before moving on to the next example, it could be useful to think about how the bode plot of the inverse of a transfer function is related to the bode plot of itself.\n",
        "\n",
        "Since $G(j{\\omega})$ is a complex number, we can represent it with polar coordinates.\n",
        "\n",
        "$$G(j{\\omega}) = Me^{j{\\phi}}\\\\\n",
        "|G(j{\\omega})| = M\\\\\n",
        "\\overline{M}^{\\prime} = 20\\log(M)\\\\\n",
        "\\angle{{G(j{\\omega})}} = {\\phi}\\\\\n",
        "\\frac{1}{G(j{\\omega})} = \\frac{e^{-j{\\phi}}}{M}\\\\\n",
        "|\\frac{1}{G(j{\\omega})}| = \\frac{1}{M}\\\\\n",
        "20\\log(\\frac{1}{M}) = -\\overline{M}^{\\prime}\\\\\n",
        "\\angle{\\frac{1}{G(j{\\omega})}} = -{\\phi}\n",
        "$$\n",
        "\n",
        "To conclude, when a transfer function is inversed, both characteristics in its bode plot get multiplied by -1. Keeping that in mind, sketch the bode plot of an integrator (1/s).\n",
        "\n",
        "Try to skecth the bode plot for an integrator, and verify your results by using control toolbox.\n",
        "\n",
        "Let's consider the bode plot for a **first order system** with no numerator dynamics."
      ]
    },
    {
      "cell_type": "code",
      "metadata": {
        "id": "J110rcYT6MWm",
        "colab_type": "code",
        "colab": {
          "base_uri": "https://localhost:8080/",
          "height": 283
        },
        "outputId": "b3a5fff1-5131-4761-bf34-4d8e030dabb4"
      },
      "source": [
        "T = 1\n",
        "system_tf = cnt.tf([1], [T, 1])   #Transfer function of the system\n",
        "b_magnitude, b_phase, b_freq = bode_plot([system_tf], dB = True)\n"
      ],
      "execution_count": 19,
      "outputs": [
        {
          "output_type": "display_data",
          "data": {
            "image/png": "[encoded data removed]",
            "text/plain": [
              "<Figure size 432x288 with 2 Axes>"
            ]
          },
          "metadata": {
            "tags": [],
            "needs_background": "light"
          }
        }
      ]
    },
    {
      "cell_type": "markdown",
      "metadata": {
        "id": "0-nhJxXvHvGo",
        "colab_type": "text"
      },
      "source": [
        "Before moving on to the next example, it can be useful to think about how one could create the body plot of a transfer function which is the multiplication of two other transfer functions.\n",
        "\n",
        "Let $\\overline{M}_1$, $\\overline{M}_2$ be the magnitude characteristics (in dB), $M_1$, $M_2$ be the magnitude characteristics, ${\\phi}_1$,  and ${\\phi}_2$ be the phase lead characteristics of transfer functions $G_1(s)$ and $G_2(s)$ successively.\n",
        "\n",
        "$$ G_3(j{\\omega}) = G_1(j{\\omega}) * G_2(j{\\omega}) = M_1*M_2e^{{\\phi}_1 + {\\phi}_2}\\\\\n",
        "\\overline{M}_3 = 20\\log(|G_3(j{\\omega})|) = 20\\log(M_1*M_2) = \\overline{M}_1 + \\overline{M}_2\\\\\n",
        "{\\phi}_3 = \\angle{G_3(j{\\omega})} = {\\phi}_1 + {\\phi}_2\\\\\n",
        "$$\n",
        "\n",
        "To conclude, when two transfer functions are multiplied their bode plot characteristics get summed.\n",
        "\n",
        "Using this property, try to sketch the bode plot of an **underdamped second order transfer function**.\n"
      ]
    }
  ]
}