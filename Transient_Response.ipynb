{
  "nbformat": 4,
  "nbformat_minor": 0,
  "metadata": {
    "colab": {
      "name": "Transient_Response.ipynb",
      "provenance": [],
      "collapsed_sections": [],
      "authorship_tag": "ABX9TyMBO9waITD3AJzXdyPqF4sB",
      "include_colab_link": true
    },
    "kernelspec": {
      "name": "python3",
      "display_name": "Python 3"
    }
  },
  "cells": [
    {
      "cell_type": "markdown",
      "metadata": {
        "id": "view-in-github",
        "colab_type": "text"
      },
      "source": [
        "<a href=\"https://colab.research.google.com/github/yokabicarpmaz/ME462_ControlSystemsTools/blob/master/Transient_Response.ipynb\" target=\"_parent\"><img src=\"https://colab.research.google.com/assets/colab-badge.svg\" alt=\"Open In Colab\"/></a>"
      ]
    },
    {
      "cell_type": "markdown",
      "metadata": {
        "id": "jo2H9If6e9c8",
        "colab_type": "text"
      },
      "source": [
        "**TRANSIENT RESPONSE**"
      ]
    },
    {
      "cell_type": "markdown",
      "metadata": {
        "id": "VZjef3soxDhN",
        "colab_type": "text"
      },
      "source": [
        "Let's start with adding necessary libraries !\n",
        "\n",
        "\n",
        "Do NOT forget to run codes in order !"
      ]
    },
    {
      "cell_type": "code",
      "metadata": {
        "id": "10RNwECe2Z6k",
        "colab_type": "code",
        "colab": {}
      },
      "source": [
        "try :\n",
        "  !pip install control\n",
        "  !pip install cowsay\n",
        "  import control as cnt\n",
        "  import matplotlib.pyplot as plt\n",
        "  import numpy as np\n",
        "  import sympy as sy\n",
        "  import math as m\n",
        "  import cowsay\n",
        "  import ipywidgets as widgets\n",
        "  from IPython.display import display\n",
        "  cowsay.stegosaurus(\"All libraries have been successfully downloaded!\")\n",
        "except : \n",
        "   print(\"\\033[1m\"+\"WARNING!!!LIBRARIES COULD NOT BE DOWNLOADED. PLEASE TRY AGAIN !\"+\"\\033[0m\")"
      ],
      "execution_count": 0,
      "outputs": []
    },
    {
      "cell_type": "markdown",
      "metadata": {
        "id": "80Eo5nI72am2",
        "colab_type": "text"
      },
      "source": [
        "**Time Response**\n",
        "\n",
        "The time response of a control system consists of 2 parts as shown in *Figure 1* :\n",
        "\n",
        "**Transient response:** the response from the initial state to the final state of the system. \n",
        "\n",
        "**Steady-state response:** response of the system when time approaches infinity.\n",
        "\n",
        "<figure>\n",
        "<center>\n",
        "<img src='http://engineering.electrical-equipment.org/wp-content/uploads/2014/04/Transient-Response-Analysis-of-Control-Systems1.jpg' />\n",
        "<figcaption>Figure 1</figcaption></center>\n"
      ]
    },
    {
      "cell_type": "markdown",
      "metadata": {
        "id": "6rhNi8UW51kb",
        "colab_type": "text"
      },
      "source": [
        "**Why transient response is important?**\n",
        "\n",
        "Satisfactory transient response is one of the requirements of properly designed control system. The others are stability, disturbance rejection and minimum sensitivity.\n",
        "\n",
        "In case of an **elevator**, \n",
        "\n",
        "\n",
        "*   A slow transient response makes passengers impatient. \n",
        "*   An excessively rapid response makes them uncomfortable.\n",
        "\n",
        "If elevator oscillates about the arrival floor more than a second, a disconcerting feeling can result.\n",
        "\n",
        "Transient response is also important for structural reasons:\n",
        "\n",
        "\n",
        "*   Too fast transient response could cause permanent **physical damage**. \n",
        "\n",
        "In a **computer**,\n",
        "\n",
        "\n",
        "*   Transient response contributes to the time required to read from or write to **the computer's disk storage**. \n",
        "*   Since reading and writing cannot take place until the head stops, the speed of the read/write head's movement from one track on the disk to another influences **the overall speed of the computer**. \n",
        "\n",
        "<figure>\n",
        "<center>\n",
        "<img src='https://i.gifer.com/41Q9.gif' />\n",
        "<figcaption>Figure 2</figcaption></center>\n",
        "\n",
        "\n",
        "\n",
        "\n",
        "\n"
      ]
    },
    {
      "cell_type": "markdown",
      "metadata": {
        "id": "s-U0070A-zAo",
        "colab_type": "text"
      },
      "source": [
        "**Standard Test Input Functions**\n",
        "\n",
        "Typical examples\n",
        "\n",
        "\n",
        "*   Impulse funtion\n",
        "*   Step function\n",
        "*   Ramp function\n",
        "*   Sinusoidal function\n",
        "\n"
      ]
    },
    {
      "cell_type": "markdown",
      "metadata": {
        "id": "uutFx1jXB5Qb",
        "colab_type": "text"
      },
      "source": [
        "**Impulse Function**\n",
        "\n",
        "The impulse signal imitate **the sudden shock** characteristic of actual input signal.\n",
        "<figure>\n",
        "<img src='https://live.staticflickr.com/65535/49918212976_62273d3662_b.jpg' />\n",
        "<figcaption> $\\hspace{5cm} $Figure 3</figcaption>\n",
        "\n",
        "$r_{i}(t)= \\lim_{t_{0}\\to0} \\frac{A}{t_{0}}\\hspace{3cm}0<t<t_{0}$\n",
        "\n",
        "$r_{i}(t)= 0 \\hspace{3cm}t<0 \\hspace{1cm}and\\hspace{1cm} t>t_{0}$\n",
        "\n",
        "Laplace Transform of Impulse function : $R_{i}(s)=A$\n",
        "\n",
        "If **A=1 --> Unit Impulse Function** : $R_{ui}(s)=1$\n",
        "\n"
      ]
    },
    {
      "cell_type": "markdown",
      "metadata": {
        "id": "hOLiH0X6Evi7",
        "colab_type": "text"
      },
      "source": [
        "**Step Function**\n",
        "\n",
        "The step signal imitate the sudden change characteristic of actual input signal.\n",
        "<figure>\n",
        "<img src='https://live.staticflickr.com/65535/49921497881_ef5280a78e_b.jpg' />\n",
        "<figcaption> $\\hspace{5cm} $Figure 4</figcaption>\n",
        "\n",
        "$r_{s}(t)= A\\hspace{1cm}t\\geq0$\n",
        "\n",
        "Laplace Transform of Step function : $R_{s}(s)=\\frac{A}{s}$\n",
        "\n",
        "If **A=1 --> Unit Step Function** : $R_{us}(s)=\\frac{1}{s}$"
      ]
    },
    {
      "cell_type": "markdown",
      "metadata": {
        "id": "GZrc2oPOIx9a",
        "colab_type": "text"
      },
      "source": [
        "**Ramp Function**\n",
        "\n",
        "The Ramp signal imitate the constant velocity characteristic of actual input signal.\n",
        "<figure>\n",
        "<img src='https://live.staticflickr.com/65535/49920983313_94ce276483_b.jpg' />\n",
        "<figcaption> $\\hspace{5cm} $Figure 5</figcaption>\n",
        "\n",
        "$r_{r}(t)= At\\hspace{1cm}t\\geq0$\n",
        "\n",
        "Laplace Transform of Ramp function : $R_{s}(s)=\\frac{A}{s^2}$\n",
        "\n",
        "If **A=1 --> Unit Ramp Function** : $R_{ur}(s)=\\frac{1}{s^2}$"
      ]
    },
    {
      "cell_type": "markdown",
      "metadata": {
        "id": "HuXywUHzQrDH",
        "colab_type": "text"
      },
      "source": [
        "The relation between impulse, step and ramp functions can be simplified as shown in *Figure 6*:\n",
        "<figure>\n",
        "<img src='https://live.staticflickr.com/65535/49921545576_fa3aeb7c64_b.jpg' />\n",
        "<figcaption> $\\hspace{10cm} $Figure 6</figcaption>"
      ]
    },
    {
      "cell_type": "markdown",
      "metadata": {
        "id": "w-WcCBfBaBjt",
        "colab_type": "text"
      },
      "source": [
        "\n",
        "\n",
        "---\n",
        "\n",
        "**Transient Response of the First Order Systems**\n",
        "\n",
        "\n",
        "\n",
        "---\n",
        "\n",
        "\n",
        "\n"
      ]
    },
    {
      "cell_type": "markdown",
      "metadata": {
        "id": "_L16EjUraPiz",
        "colab_type": "text"
      },
      "source": [
        "The first order systems has only **one pole**. Irrespective of their actrual physical construction, they can be represented by **the same general transfer function**. \n",
        "\n",
        "The system characteristics have effects on **gain(K)** and **time constants($\\tau$).**\n",
        "\n",
        "$ \\hspace{6cm}G(s)= \\frac{C(s)}{R(s)} = \\frac{K}{{\\tau}s+1}$\n",
        "\n",
        "\n",
        "\n",
        "*   **Time Constant** is a measure of **how quickly** a first order system responds to a unit step input.\n",
        "\n",
        "*   **DC Gain** of the system is **ratio** between the input signal and steady state value of output.\n",
        "\n"
      ]
    },
    {
      "cell_type": "markdown",
      "metadata": {
        "id": "MMvWOkRx-e2X",
        "colab_type": "text"
      },
      "source": [
        "**Impulse Response of the First Order System**\n",
        "<figure>\n",
        "<img src='https://live.staticflickr.com/65535/49924709086_cfc3cc4126_b.jpg' />\n",
        "<figcaption> $\\hspace{6,5cm} $Figure 7</figcaption>\n",
        "\n",
        "The general form of impulse response of first order system can be obtained as:\n",
        "\n",
        "$C(s) = G(s)R(s)$\n",
        "\n",
        "$C_{i}(s) = (\\frac{K}{{\\tau}s+1})A$\n",
        "\n",
        "By taking Laplace transform to get time response:\n",
        "\n",
        "$c_{i}(t) = \\frac{AK}{\\tau}e^{-\\frac{t}{\\tau}}\\hspace{1cm}t\\geq0$\n",
        "\n",
        "<figure>\n",
        "<img src='https://live.staticflickr.com/65535/49928710086_5d32f00586_b.jpg' />\n",
        "<figcaption> $\\hspace{5cm} $Figure 8</figcaption>\n",
        "\n",
        "\n",
        "It is observed that the initial slope intersects the time axis at $\\tau$. It provides us to identify a first order system from impulse response. Especially the unit impulse function$(A=1)$ is used for this purpose. \n",
        "\n",
        "\n",
        "*   $\\tau$ can be obtained from initial slope of the response.\n",
        "\n",
        "*   K value can be obtained from initial value of the response.  \n",
        "\n",
        "\n",
        "\n",
        "\n",
        "\n",
        "\n"
      ]
    },
    {
      "cell_type": "markdown",
      "metadata": {
        "id": "n5PFdocF-Ysm",
        "colab_type": "text"
      },
      "source": [
        "You can observe the effects of gain and time constant in impulse response. \n",
        "\n",
        "Remember that the impulse response of a system can be obtained by **cnt.impulse_response(TransferFunction,time)** from transfer function."
      ]
    },
    {
      "cell_type": "code",
      "metadata": {
        "id": "aUUB6ny3Iuyi",
        "colab_type": "code",
        "colab": {}
      },
      "source": [
        "def impulse_response(K,T,A):\n",
        "  num = [A*K]\n",
        "  den = [T, 1]\n",
        "  TF1 = cnt.tf(num,den)   #Transfer function of uncontrolled system\n",
        "  print(\"G(s)=\",TF1)\n",
        "  #Response vs. Time Plot\n",
        "  t = np.linspace(0,15,501)    #time duration between 0 and 5 s divided into 501 points\n",
        "  c = (A*K/T)*np.exp(-t/T)\n",
        "  plt.plot(t,c)\n",
        "  plt.xlabel(\"Time [s]\")\n",
        "  plt.ylabel(\"Impulse Response\")\n",
        "  plt.title(\"Impulse Response vs. Time\")\n",
        "  plt.grid(True)\n",
        "  plt.show()\n",
        "\n",
        "\n",
        "K_slider = widgets.FloatSlider(value=10, min=0,max=20,step=0.1)\n",
        "tau_slider = widgets.FloatSlider(value=3, min=0,max=20,step=0.1)\n",
        "A_slider = widgets.FloatSlider(value=1, min=0,max=20,step=0.1)\n",
        "plot = widgets.interact(impulse_response, K = K_slider, T = tau_slider, A = A_slider  )"
      ],
      "execution_count": 0,
      "outputs": []
    },
    {
      "cell_type": "markdown",
      "metadata": {
        "id": "itruY2UVBv0I",
        "colab_type": "text"
      },
      "source": [
        "**Step Response of the First Order System**\n",
        "<figure>\n",
        "<img src='https://live.staticflickr.com/65535/49924709086_cfc3cc4126_b.jpg' />\n",
        "<figcaption> $\\hspace{6,5cm} $Figure 9</figcaption>\n",
        "\n",
        "The general form of step response of first order system can be obtained as:\n",
        "\n",
        "$C(s) = G(s)R(s)$\n",
        "\n",
        "$C_{s}(s) = (\\frac{K}{{\\tau}s+1})\\frac{A}{s}$\n",
        "\n",
        "By taking Laplace transform to get time response:\n",
        "\n",
        "$c_{s}(t) = {AK}(1-e^{-\\frac{t}{\\tau}})\\hspace{1cm}t\\geq0$\n",
        "\n",
        "\n",
        "\n",
        "<figure>\n",
        "<img src='https://live.staticflickr.com/65535/49928772336_b2f7d707d0_b.jpg' />\n",
        "<figcaption> $\\hspace{5cm} $Figure 10</figcaption>\n",
        "\n",
        "\n",
        "*   Observe that **smaller time constant** results in a **faster system response**(Final value is approached in shorter time duration).\n",
        "*   Further, time response reaches within 2% of the final value after $4\\tau$ and 1% of the final value after $5\\tau$.\n",
        "\n",
        "\n",
        "  The step response provides some information about a first order system. Especially the unit step function$(A=1)$ is used for this purpose. \n",
        "\n",
        "*   K value can be obtained from the final value of the response.  \n",
        "\n",
        "*   $\\tau$ can be obtained from initial slope of the response.\n",
        "\n",
        "\n",
        "\n",
        "\n",
        "\n",
        "\n",
        "\n",
        "\n"
      ]
    },
    {
      "cell_type": "markdown",
      "metadata": {
        "colab_type": "text",
        "id": "sPJGHn50_MZb"
      },
      "source": [
        "You can observe the effects of gain and time constant in step response. \n",
        "\n",
        "Remember that the impulse response of a system can be obtained by **cnt.step_response(TransferFunction,time)** from transfer function."
      ]
    },
    {
      "cell_type": "code",
      "metadata": {
        "id": "p_e21thFCirV",
        "colab_type": "code",
        "colab": {}
      },
      "source": [
        "def step_response(K,T,A):\n",
        "  num = [A*K]\n",
        "  den = [T, 1]\n",
        "  TF1 = cnt.tf(num,den)   #Transfer function of uncontrolled system\n",
        "  print(\"G(s)=\",TF1)\n",
        "  #Response vs. Time Plot\n",
        "  t = np.linspace(0,15,501)    #time duration between 0 and 5 s divided into 501 points\n",
        "  c= (A*K)*(1-np.exp(-t/T))\n",
        "  plt.plot(t,c)\n",
        "  plt.xlabel(\"Time [s]\")\n",
        "  plt.ylabel(\"Step Response\")\n",
        "  plt.title(\"Step Response vs. Time\")\n",
        "  plt.grid(True)\n",
        "  plt.show()\n",
        "\n",
        "\n",
        "K_slider = widgets.FloatSlider(value=10, min=0,max=20,step=0.1)\n",
        "tau_slider = widgets.FloatSlider(value=3, min=0,max=20,step=0.1)\n",
        "A_slider = widgets.FloatSlider(value=1, min=0,max=20,step=0.1)\n",
        "plot = widgets.interact(step_response, K = K_slider, T = tau_slider, A = A_slider  )"
      ],
      "execution_count": 0,
      "outputs": []
    },
    {
      "cell_type": "markdown",
      "metadata": {
        "colab_type": "text",
        "id": "ZbWvcADs15bw"
      },
      "source": [
        "**Ramp Response of the First Order System**\n",
        "<figure>\n",
        "<img src='https://live.staticflickr.com/65535/49924709086_cfc3cc4126_b.jpg' />\n",
        "<figcaption> $\\hspace{6,5cm} $Figure 11</figcaption>\n",
        "\n",
        "The general form of step response of first order system can be obtained as:\n",
        "\n",
        "$C(s) = G(s)R(s)$\n",
        "\n",
        "$C_{r}(s) = (\\frac{K}{{\\tau}s+1})\\frac{A}{s^2}$\n",
        "\n",
        "By taking Laplace transform to get time response:\n",
        "\n",
        "$c_{r}(t) = {AK}(t-\\tau)+{AK}\\tau{e^{-\\frac{t}{\\tau}}}\\hspace{1cm}t\\geq0$"
      ]
    },
    {
      "cell_type": "markdown",
      "metadata": {
        "colab_type": "text",
        "id": "zyTr-KloLUIR"
      },
      "source": [
        "For the special case of $K=1$ :\n",
        "\n",
        "As time goes to infinity, the error goes to $A\\tau$.\n",
        "\n",
        "Observe the error by changing T and A."
      ]
    },
    {
      "cell_type": "code",
      "metadata": {
        "colab_type": "code",
        "id": "olPWdjV028oB",
        "colab": {}
      },
      "source": [
        "def ramp_response(T,A):\n",
        "  K = 1 \n",
        "  num = [A*K]\n",
        "  den = [T, 1]\n",
        "  TF1 = cnt.tf(num,den)   #Transfer function of uncontrolled system\n",
        "  print(\"G(s)=\",TF1)\n",
        "  #Response vs. Time Plot\n",
        "  t = np.linspace(0,30,501)    #time duration between 0 and 5 s divided into 501 points\n",
        "  c= (A*K)*(t-T)+A*K*T*np.exp(-t/T)\n",
        "  plt.plot(t,c, label = \"ramp response\")\n",
        "  plt.plot(t,A*t, label = \"ramp function\")\n",
        "  plt.xlabel(\"Time [s]\")\n",
        "  plt.ylabel(\"Ramp Response\")\n",
        "  plt.title(\"Ramp Response vs. Time\")\n",
        "  plt.legend(bbox_to_anchor=(1.05, 1), loc='upper left', borderaxespad=0.)\n",
        "  plt.grid(True)\n",
        "  plt.show()\n",
        "  \n",
        "\n",
        "tau_slider = widgets.FloatSlider(value=3, min=0,max=20,step=0.1)\n",
        "A_slider = widgets.FloatSlider(value=1, min=0,max=20,step=0.1)\n",
        "plot = widgets.interact(ramp_response, T = tau_slider, A = A_slider  )"
      ],
      "execution_count": 0,
      "outputs": []
    }
  ]
}