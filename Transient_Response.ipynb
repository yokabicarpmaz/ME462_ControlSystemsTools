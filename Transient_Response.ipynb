{
  "nbformat": 4,
  "nbformat_minor": 0,
  "metadata": {
    "colab": {
      "name": "Transient_Response.ipynb",
      "provenance": [],
      "collapsed_sections": [],
      "authorship_tag": "ABX9TyN8plV7/GLr6dIgRikniq22",
      "include_colab_link": true
    },
    "kernelspec": {
      "name": "python3",
      "display_name": "Python 3"
    }
  },
  "cells": [
    {
      "cell_type": "markdown",
      "metadata": {
        "id": "view-in-github",
        "colab_type": "text"
      },
      "source": [
        "<a href=\"https://colab.research.google.com/github/yokabicarpmaz/ME462_ControlSystemsTools/blob/master/Transient_Response.ipynb\" target=\"_parent\"><img src=\"https://colab.research.google.com/assets/colab-badge.svg\" alt=\"Open In Colab\"/></a>"
      ]
    },
    {
      "cell_type": "markdown",
      "metadata": {
        "id": "jo2H9If6e9c8",
        "colab_type": "text"
      },
      "source": [
        "**TRANSIENT RESPONSE**"
      ]
    },
    {
      "cell_type": "markdown",
      "metadata": {
        "id": "VZjef3soxDhN",
        "colab_type": "text"
      },
      "source": [
        "Let's start with adding necessary libraries !\n",
        "\n",
        "\n",
        "Do NOT forget to run codes in order !"
      ]
    },
    {
      "cell_type": "code",
      "metadata": {
        "id": "10RNwECe2Z6k",
        "colab_type": "code",
        "colab": {}
      },
      "source": [
        "try :\n",
        "  !pip install control\n",
        "  !pip install cowsay\n",
        "  import control as cnt\n",
        "  import matplotlib.pyplot as plt\n",
        "  import numpy as np\n",
        "  import sympy as sy\n",
        "  import math\n",
        "  import cowsay\n",
        "  import ipywidgets as widgets\n",
        "  from IPython.display import display\n",
        "  cowsay.stegosaurus(\"All libraries have been successfully downloaded!\")\n",
        "except : \n",
        "   print(\"\\033[1m\"+\"WARNING!!!LIBRARIES COULD NOT BE DOWNLOADED. PLEASE TRY AGAIN !\"+\"\\033[0m\")"
      ],
      "execution_count": 0,
      "outputs": []
    },
    {
      "cell_type": "markdown",
      "metadata": {
        "id": "80Eo5nI72am2",
        "colab_type": "text"
      },
      "source": [
        "**Time Response**\n",
        "\n",
        "The time response of a control system consists of 2 parts as shown in *Figure 1* :\n",
        "\n",
        "**Transient response:** the response from the initial state to the final state of the system. \n",
        "\n",
        "**Steady-state response:** response of the system when time approaches infinity.\n",
        "\n",
        "<figure>\n",
        "<center>\n",
        "<img src='https://lh3.googleusercontent.com/proxy/3E8I20ljHK9K2YqXSztIl2IsqdyC_1VyKOzxazT2QUP2Y3lixRpE7FKN3pgrJlb5_QXPKtI4MvJ7IgjCMwK2ggc1HL9EFW2s9FJOTr2SlfvgT7wOx8egXx6bUUDhAWOX4dKtkd8BoFLYFPWPX2aZjjilORUNLt1Lyk8E_xhk13rsCgUNp-74oIRNjj5kLZ4HnMM' />\n",
        "<figcaption>Figure 1</figcaption></center>\n"
      ]
    },
    {
      "cell_type": "markdown",
      "metadata": {
        "id": "6rhNi8UW51kb",
        "colab_type": "text"
      },
      "source": [
        "<figure>\n",
        "<center>\n",
        "<img src='https://i.gifer.com/9LiX.gif' />\n",
        "<figcaption>Figure 2</figcaption></center>\n",
        "\n",
        "\n",
        "**Why transient response is important?**\n",
        "\n",
        "Satisfactory transient response is one of the requirements of properly designed control system. The others are stability, disturbance rejection and minimum sensitivity.\n",
        "\n",
        "In case of an **elevator**, \n",
        "\n",
        "\n",
        "*   A slow transient response makes passengers impatient. \n",
        "*   An excessively rapid response makes them uncomfortable.\n",
        "\n",
        "If elevator oscillates about the arrival floor more than a second, a disconcerting feeling can result.\n",
        "\n",
        "Transient response is also important for structural reasons:\n",
        "\n",
        "\n",
        "*   Too fast transient response could cause permanent **physical damage**. \n",
        "\n",
        "In a **computer**,\n",
        "\n",
        "\n",
        "*   Transient response contributes to the time required to read from or write to **the computer's disk storage**. \n",
        "*   Since reading and writing cannot take place until the head stops, the speed of the read/write head's movement from one track on the disk to another influences **the overall speed of the computer**. \n",
        "\n",
        "<figure>\n",
        "<center>\n",
        "<img src='https://i.gifer.com/41Q9.gif' />\n",
        "<figcaption>Figure 3</figcaption></center>\n",
        "\n",
        "\n",
        "\n",
        "\n",
        "\n"
      ]
    },
    {
      "cell_type": "markdown",
      "metadata": {
        "id": "s-U0070A-zAo",
        "colab_type": "text"
      },
      "source": [
        "**Standard Test Input Functions**\n",
        "\n",
        "Typical examples\n",
        "\n",
        "\n",
        "*   Impulse funtion\n",
        "*   Step function\n",
        "*   Ramp function\n",
        "*   Sinusoidal function\n",
        "\n"
      ]
    },
    {
      "cell_type": "markdown",
      "metadata": {
        "id": "uutFx1jXB5Qb",
        "colab_type": "text"
      },
      "source": [
        "**Impulse Function**\n",
        "\n"
      ]
    }
  ]
}