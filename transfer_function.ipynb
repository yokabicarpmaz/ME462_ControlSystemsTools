{
  "nbformat": 4,
  "nbformat_minor": 0,
  "metadata": {
    "colab": {
      "name": "transfer_function.ipynb",
      "provenance": [],
      "collapsed_sections": [],
      "authorship_tag": "ABX9TyPT4VGc9ssPdNOjFAt8O+8d",
      "include_colab_link": true
    },
    "kernelspec": {
      "name": "python3",
      "display_name": "Python 3"
    }
  },
  "cells": [
    {
      "cell_type": "markdown",
      "metadata": {
        "id": "view-in-github",
        "colab_type": "text"
      },
      "source": [
        "<a href=\"https://colab.research.google.com/github/yokabicarpmaz/ME462_ControlSystemsTools/blob/master/transfer_function.ipynb\" target=\"_parent\"><img src=\"https://colab.research.google.com/assets/colab-badge.svg\" alt=\"Open In Colab\"/></a>"
      ]
    },
    {
      "cell_type": "markdown",
      "metadata": {
        "id": "1fBzjARX1xmD",
        "colab_type": "text"
      },
      "source": [
        "TRANSFER FUNCTION "
      ]
    },
    {
      "cell_type": "markdown",
      "metadata": {
        "id": "VZjef3soxDhN",
        "colab_type": "text"
      },
      "source": [
        "Let's start with adding necessary libraries !\n",
        "\n",
        "\n",
        "Do NOT forget to run codes in order !"
      ]
    },
    {
      "cell_type": "code",
      "metadata": {
        "id": "10RNwECe2Z6k",
        "colab_type": "code",
        "colab": {}
      },
      "source": [
        "try :\n",
        "  !pip install control\n",
        "  !pip install cowsay\n",
        "  import control as cnt\n",
        "  import matplotlib.pyplot as plt\n",
        "  import numpy as np\n",
        "  import sympy as sy\n",
        "  import math\n",
        "  import cowsay\n",
        "  from itertools import combinations\n",
        "  cowsay.tux(\"All libraries have been successfully downloaded!\")\n",
        "except : \n",
        "   print(\"\\033[1m\"+\"WARNING!!!LIBRARIES COULD NOT BE DOWNLOADED. PLEASE TRY AGAIN !\"+\"\\033[0m\")"
      ],
      "execution_count": 0,
      "outputs": []
    },
    {
      "cell_type": "markdown",
      "metadata": {
        "id": "wSQuZfAJAtPa",
        "colab_type": "text"
      },
      "source": [
        "Transfer functions specify the relationship between input and output.\n",
        "\n",
        "$G(s) = \\frac{b_ms^m+b_{m-1}s^{m-1}+...+b_{1}s+b_0}{a_ns^n+a_{n-1}s^{n-1}+...+a_{1}s+a_0} =\\frac{N(s)}{D(s)}$\n",
        "\n",
        "To create transfer function in laplace form :\n",
        "\n",
        "Numerator and denominator coefficients should be given in a matrix form in descending order then cnt.tf(num,den) or cnt.TransferFunction(num,den) commands are used.\n",
        "\n",
        "\n"
      ]
    },
    {
      "cell_type": "code",
      "metadata": {
        "id": "60Ghm1mLCCHs",
        "colab_type": "code",
        "colab": {}
      },
      "source": [
        "num = [1,2]\n",
        "den = [1,5,6]\n",
        "TF = cnt.TransferFunction(num,den) \n",
        "print(\"G(s)\", TF, sep = \"=\")"
      ],
      "execution_count": 0,
      "outputs": []
    },
    {
      "cell_type": "markdown",
      "metadata": {
        "id": "8TkOptaqJQOA",
        "colab_type": "text"
      },
      "source": [
        "If denominator's order is higher than numerator: ($n\\geq m$)\n",
        "\n",
        " the roots of D(s) = 0 which is also named as characteristic equation give us the poles of the system. Poles can be determined by cnt.pole() command.\n",
        "\n",
        " the roots of N(s) = 0 give us zeros of the system. Poles can be determined by cnt.zero() command.\n",
        " "
      ]
    },
    {
      "cell_type": "code",
      "metadata": {
        "id": "2PycKinw8_BM",
        "colab_type": "code",
        "colab": {}
      },
      "source": [
        "Poles = cnt.pole(TF)\n",
        "Zeros = cnt.zero(TF)\n",
        "print(\"Poles of the system=\", Poles)\n",
        "print(\"Zeros of the system=\", Zeros)"
      ],
      "execution_count": 0,
      "outputs": []
    },
    {
      "cell_type": "markdown",
      "metadata": {
        "id": "YHnQezpEEo00",
        "colab_type": "text"
      },
      "source": [
        "Zeros and poles can also create the transfer function. You can follow the next code block and try to understand the task or you can use directly tf_from_pz(poles = [  ], zeros = [  ]) command to get the transfer function."
      ]
    },
    {
      "cell_type": "code",
      "metadata": {
        "id": "TKydOOsAebs9",
        "colab_type": "code",
        "colab": {}
      },
      "source": [
        "def get_coefficients(ps):  #the function which takes input from tf_from_fz function and returns the denominator&numerator coefficients \n",
        "    n = len(ps)            \n",
        "    ps = [-p for p in ps]    \n",
        "    coefficients = []        \n",
        "    for i, p in enumerate(ps):   \n",
        "        comb = list(combinations(ps, n-i))\n",
        "        products = [np.prod(c) for c in comb]\n",
        "        coefficient = sum(products)\n",
        "        if abs(coefficient.imag) > 1e-5:\n",
        "            print(\"Imaginary coefficients are not supported by control toolbox.\")\n",
        "            return\n",
        "        else:\n",
        "            coefficients.append(coefficient.real)\n",
        "    coefficients.append(1)\n",
        "    return coefficients[::-1]        \n",
        "\n",
        "def tf_from_pz(poles = [], zeros = []):   #the function which takes poles and zeros and returns transfer function\n",
        "    den = get_coefficients(poles) \n",
        "    num = get_coefficients(zeros)         \n",
        "    return TransferFunction(num, den)\n"
      ],
      "execution_count": 0,
      "outputs": []
    },
    {
      "cell_type": "code",
      "metadata": {
        "id": "VOUUivLMk4Bt",
        "colab_type": "code",
        "colab": {}
      },
      "source": [
        "TF = tf_from_pz(poles = [1+1j,1-1j, 3, 5, 7], zeros = [8,9,123])\n",
        "\n",
        "print(f\"Poles are {TF.pole()}\")\n",
        "print(f\"Zeros are {TF.zero()}\")\n",
        "print(\"TF =\", TF)"
      ],
      "execution_count": 0,
      "outputs": []
    },
    {
      "cell_type": "markdown",
      "metadata": {
        "id": "U-NGSrK7EKWN",
        "colab_type": "text"
      },
      "source": [
        "Important Notes up to here:\n",
        "  - Transfer function is a property of a system and is independent of input.\n",
        "  - Transfer functions of different physical systems can be the same. "
      ]
    },
    {
      "cell_type": "markdown",
      "metadata": {
        "id": "Ji1dPCfpstzA",
        "colab_type": "text"
      },
      "source": [
        "\n",
        "\n",
        "---\n",
        "\n",
        "\n",
        "\n",
        "---\n",
        "\n",
        "\n",
        "Example 1 - First Order System\n",
        "\n",
        "\n",
        "---\n",
        "\n",
        "\n",
        "\n",
        "---\n"
      ]
    },
    {
      "cell_type": "markdown",
      "metadata": {
        "id": "_hpwGHCrsySZ",
        "colab_type": "text"
      },
      "source": [
        "<figure>\n",
        "<center>\n",
        "<img src='https://i0.wp.com/programmerworld.co/wp-content/uploads/2019/04/sprinmassdampersystem.png?w=715&ssl=1' />\n",
        "<figcaption>Figure 1</figcaption></center>\n",
        "\n",
        "A mass(m)-spring(k)-damper(b) system is shown in *Figure 1*. The system input is Force F and output is mass displacement x.\n",
        "\n",
        "\n",
        "*   Obtain the input-output relationship as $m\\ddot{x}+b\\dot{x}+kx=F$ .\n",
        "*   In order to get transfer function, we should get the laplace transform of input-output expression.\n",
        "$ms^2X(s)+bsX(s)+kX(s)=F(s)$\n",
        "then \n",
        "$\\dfrac {output} {input} = \\dfrac {X(s)} {F(s)} = \\dfrac {1} {ms^2+bs+k}  $.\n",
        "\n",
        "\n"
      ]
    },
    {
      "cell_type": "markdown",
      "metadata": {
        "id": "MrAUXv5GeawB",
        "colab_type": "text"
      },
      "source": [
        "**Displacement of mass can be described as force multiplied by the transfer function. We can see the transfer function effects on displacement.** \n",
        "\n",
        "Let's specify the m, b, k values and plot Displacement vs. Time graph."
      ]
    },
    {
      "cell_type": "code",
      "metadata": {
        "id": "Ek6Rl5n4gL5u",
        "colab_type": "code",
        "colab": {}
      },
      "source": [
        "m = 10     #[kg]\n",
        "b = 50     #[N/m/s]\n",
        "k = 1000   #[N/m]\n",
        "num = [1]\n",
        "den = [m,b,k]\n",
        "TF = cnt.tf(num,den)\n",
        "print(\"G(s)=\",TF)\n",
        "#Displacement vs. Time Plot\n",
        "t = np.linspace(0,5,501)   #time duration between 0 and 5 s divided into 501 points\n",
        "t,x = cnt.step_response(TF,t)   #step response of the system from transfer function where t is the time and x is the displacement of mass\n",
        "plt.plot(t,x)\n",
        "plt.xlabel(\"Time [s]\")\n",
        "plt.ylabel(\"Displacement of mass\")\n",
        "plt.show()"
      ],
      "execution_count": 0,
      "outputs": []
    },
    {
      "cell_type": "markdown",
      "metadata": {
        "id": "UzXFkeLffCEI",
        "colab_type": "text"
      },
      "source": [
        "Change the variables(m, b, k), observe the transfer function and see the difference in the displacement of mass accordingly."
      ]
    },
    {
      "cell_type": "code",
      "metadata": {
        "id": "-gBHhM9tdwVD",
        "colab_type": "code",
        "colab": {}
      },
      "source": [
        "m = ???     #[kg]\n",
        "b = ???     #[N/m/s]\n",
        "k = ???   #[N/m]\n",
        "num = [1]\n",
        "den = [m,b,k]\n",
        "TF = cnt.tf(num,den)\n",
        "print(\"G(s)=\",TF)\n",
        "#Displacement vs. Time Plot\n",
        "t = np.linspace(0,5,501)   #time duration between 0 and 5 s divided into 501 points\n",
        "t,x = cnt.step_response(TF,t)   #step response of the system from transfer function where t is the time and x is the displacement of mass\n",
        "plt.plot(t,x)\n",
        "plt.xlabel(\"Time [s]\")\n",
        "plt.ylabel(\"Displacement of mass [m]\")\n",
        "plt.show()"
      ],
      "execution_count": 0,
      "outputs": []
    },
    {
      "cell_type": "markdown",
      "metadata": {
        "id": "7bPoqED60STW",
        "colab_type": "text"
      },
      "source": [
        "\n",
        "\n",
        "---\n",
        "\n",
        "\n",
        "\n",
        "---\n",
        "\n",
        "\n",
        "Example 2 - Second Order System\n",
        "\n",
        "\n",
        "---\n",
        "\n",
        "\n",
        "\n",
        "---\n",
        "\n",
        "\n",
        "\n",
        "\n"
      ]
    },
    {
      "cell_type": "markdown",
      "metadata": {
        "id": "on7-kM460V8l",
        "colab_type": "text"
      },
      "source": [
        "<figure>\n",
        "<center>\n",
        "<img src='https://www.howacarworks.com/illustration/127/coil-spring.png' />\n",
        "<figcaption>Figure 2</figcaption></center>\n",
        "\n"
      ]
    },
    {
      "cell_type": "markdown",
      "metadata": {
        "id": "UdCAK9pi0ypQ",
        "colab_type": "text"
      },
      "source": [
        "The suspension system of a vehicle is shown in *Figure 2* and a simple dynamic model of a vehicle travelling on a rough road surface is shown in *Figure 3*. The mass represents the mass of the vehicle body. The spring and damper represent the suspension springs and dampers."
      ]
    },
    {
      "cell_type": "markdown",
      "metadata": {
        "id": "sh64pO5N-tEo",
        "colab_type": "text"
      },
      "source": [
        "<figure>\n",
        "<center>\n",
        "<img src='https://live.staticflickr.com/65535/49904889778_9580484706_b.jpg' />\n",
        "<figcaption>Figure 3</figcaption></center>\n",
        "</figure>"
      ]
    },
    {
      "cell_type": "markdown",
      "metadata": {
        "id": "EmX3RV4c-W6n",
        "colab_type": "text"
      },
      "source": [
        "The input is the road profile displacement, ie. $z $. If the output is the displacement of the body ie. y. \n",
        "\n",
        "\n",
        "*   Obtain input-output relationship as $m\\ddot{y}+c\\dot{y}+ky=c\\dot{z}+kz$ .\n",
        "*   In order to get transfer function, we should get the laplace transform of input-output expression.\n",
        "$ms^2Y(s)+csY(s)+kY(s)=csZ(s)+kZ(s)$\n",
        "then \n",
        "$\\dfrac {output} {input} = \\dfrac {Y(s)} {Z(s)} = \\dfrac {cs+k} {ms^2+cs+k}  $.\n",
        "\n"
      ]
    },
    {
      "cell_type": "markdown",
      "metadata": {
        "id": "LMkDe1BvQpH5",
        "colab_type": "text"
      },
      "source": [
        "Let's specify the m, c, k values and plot Displacement vs. Time graph to understand transfer function's effects."
      ]
    },
    {
      "cell_type": "code",
      "metadata": {
        "id": "iCofqmfghKKt",
        "colab_type": "code",
        "colab": {}
      },
      "source": [
        "m = 1600     #[kg]\n",
        "c = 6000     #[N/m/s]\n",
        "k = 784000   #[N/m]\n",
        "num = [c,k]\n",
        "den = [m,c,k]\n",
        "TF = cnt.tf(num,den)\n",
        "print(\"G(s)=\",TF)\n",
        "#Displacement vs. Time Plot\n",
        "t = np.linspace(0,5,501)   #time duration between 0 and 5 s divided into 501 points\n",
        "t,y = cnt.step_response(TF,t)   #step response of the system from transfer function where t is the time and y is the displacement of car\n",
        "plt.plot(t,y)\n",
        "plt.xlabel(\"Time [s]\")\n",
        "plt.ylabel(\"Displacement of car body in y-axis\")\n",
        "plt.show()"
      ],
      "execution_count": 0,
      "outputs": []
    },
    {
      "cell_type": "markdown",
      "metadata": {
        "id": "7Bz6V8aF-0WU",
        "colab_type": "text"
      },
      "source": [
        "Now, it's your turn. You can change the m, c, k values and see the difference in the displacement, which depends on the transfer function."
      ]
    },
    {
      "cell_type": "code",
      "metadata": {
        "id": "8LDW5FgFk0UC",
        "colab_type": "code",
        "colab": {}
      },
      "source": [
        "m =  ???    #[kg]\n",
        "c =  ???    #[N/m/s]\n",
        "k =  ???    #[N/m]\n",
        "num = [c,k]\n",
        "den = [m,c,k]\n",
        "TF = cnt.tf(num,den)\n",
        "print(\"G(s)=\",TF)\n",
        "#Displacement vs. Time Plot\n",
        "t = np.linspace(0,5,501)   #time duration between 0 and 5 s divided into 501 points\n",
        "t,y = cnt.step_response(TF,t)   #step response of the system from transfer function where t is the time and y is the displacement of car\n",
        "plt.plot(t,y)\n",
        "plt.xlabel(\"Time [s]\")\n",
        "plt.ylabel(\"displacement of car body in y-axis\")\n",
        "plt.show()"
      ],
      "execution_count": 0,
      "outputs": []
    }
  ]
}