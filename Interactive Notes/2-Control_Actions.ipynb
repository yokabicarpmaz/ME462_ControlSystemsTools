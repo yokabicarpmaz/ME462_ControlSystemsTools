{
  "nbformat": 4,
  "nbformat_minor": 0,
  "metadata": {
    "colab": {
      "name": "Control_Actions.ipynb",
      "provenance": [],
      "collapsed_sections": [],
      "authorship_tag": "ABX9TyN/MmWWu0shstNkOofGU+a8",
      "include_colab_link": true
    },
    "kernelspec": {
      "name": "python3",
      "display_name": "Python 3"
    }
  },
  "cells": [
    {
      "cell_type": "markdown",
      "metadata": {
        "id": "view-in-github",
        "colab_type": "text"
      },
      "source": [
        "<a href=\"https://colab.research.google.com/github/yokabicarpmaz/ME462_ControlSystemsTools/blob/master/Control_Actions.ipynb\" target=\"_parent\"><img src=\"https://colab.research.google.com/assets/colab-badge.svg\" alt=\"Open In Colab\"/></a>"
      ]
    },
    {
      "cell_type": "markdown",
      "metadata": {
        "id": "Dm1gnPEsRCVw",
        "colab_type": "text"
      },
      "source": [
        "**CONTROL ACTIONS AND CONTROLLERS**"
      ]
    },
    {
      "cell_type": "markdown",
      "metadata": {
        "id": "VZjef3soxDhN",
        "colab_type": "text"
      },
      "source": [
        "Let's start with adding necessary libraries !\n",
        "\n",
        "\n",
        "Do NOT forget to run codes in order !"
      ]
    },
    {
      "cell_type": "code",
      "metadata": {
        "id": "10RNwECe2Z6k",
        "colab_type": "code",
        "colab": {}
      },
      "source": [
        "try :\n",
        "  !pip install control\n",
        "  !pip install cowsay\n",
        "  import control as cnt\n",
        "  import matplotlib.pyplot as plt\n",
        "  import numpy as np\n",
        "  import sympy as sy\n",
        "  import math\n",
        "  import cowsay\n",
        "  import ipywidgets as widgets\n",
        "  from IPython.display import display\n",
        "  cowsay.daemon(\"All libraries have been successfully downloaded!\")\n",
        "except : \n",
        "   print(\"\\033[1m\"+\"WARNING!!!LIBRARIES COULD NOT BE DOWNLOADED. PLEASE TRY AGAIN !\"+\"\\033[0m\")"
      ],
      "execution_count": 0,
      "outputs": []
    },
    {
      "cell_type": "markdown",
      "metadata": {
        "id": "mM9oW6s3bp2v",
        "colab_type": "text"
      },
      "source": [
        "\n",
        "**What is the controller?**\n",
        "\n",
        "  It is **a device or an algorithm** that works to maintain the value of the controlled variable at set point.\n",
        "\n",
        "<figure>\n",
        "<center>\n",
        "<img src='https://res.cloudinary.com/tbmg/image/upload/c_scale,w_650/c_limit,w_750/f_auto,q_auto/v1502862890/tb/articles/2014/features/49747-121_fig1.png' />\n",
        "<figcaption>Figure 1</figcaption></center>\n",
        "\n",
        "As shown in *Figure 1*, it is a manual type control and controller is the operator. He checks the temperature gauge and adjusts the flow with hand valve to get desired temperature value. \n",
        "\n",
        "<figure>\n",
        "<img src='https://res.cloudinary.com/tbmg/image/upload/c_scale,w_650/c_limit,w_750/f_auto,q_auto/v1502862890/tb/articles/2014/features/49747-121_fig2.png' />\n",
        "<center><figcaption>Figure 2</figcaption>\n",
        "\n",
        "\n",
        "\n",
        " \n",
        "\n"
      ]
    },
    {
      "cell_type": "markdown",
      "metadata": {
        "id": "FiyzsqtrY2n4",
        "colab_type": "text"
      },
      "source": [
        "As shown in *Figure 2* , it is automatic control. The controller takes the difference between desired value and sensor value accordingly it adjusts the flow with signals.\n",
        "\n",
        "The purpose of a controller is **to produce a signal that is suitable as input to the controlled plant or process.**\n",
        "\n",
        "It is responsible for **the performance of the control system.** "
      ]
    },
    {
      "cell_type": "markdown",
      "metadata": {
        "id": "vlJ_dp1oyZxR",
        "colab_type": "text"
      },
      "source": [
        "\n",
        "**What is the basic working principle?**\n",
        "\n",
        "The controller receives the difference between the reference input and the measured output (known as error) and generates **a control action to make the error to zero**. The generated control action manipulates the process variable closer to setpoint. \n",
        "\n",
        "<figure>\n",
        "<center>\n",
        "<img src='https://live.staticflickr.com/65535/49904624913_78ce6fb57f_b.jpg' /><figcaption>Figure 3</figcaption>\n",
        "</center>\n",
        "\n",
        "\n",
        "\n",
        "\n",
        "The input to the controller is the **actuating error $E_a(s)$**, which is the difference between  \n",
        "\n",
        "\n",
        "*   the system response B(s), as measured by a sensor,\n",
        "*   the reference signal R(s), which represents the desired system response.\n",
        "\n",
        "**What is the control action?**\n",
        "\n",
        "The **algoritm** that relates the actuating error and the control signal is called the **control action**.\n",
        "\n",
        "The most common **control actions** are:\n",
        "\n",
        "*   **Proportional** (P-control)\n",
        "*   **Derivative** (D-control)\n",
        "*   **Integral** (I-control)\n",
        "\n",
        "\n"
      ]
    },
    {
      "cell_type": "markdown",
      "metadata": {
        "id": "lr2sLyb9ceaX",
        "colab_type": "text"
      },
      "source": [
        "**Proportional Control (P-Control)**\n",
        "\n",
        "The proportional control mode changes the controller output in proportion to the error. If the error increases, the control action increases proportionally.\n",
        "\n",
        "When an error is detected, the P controller takes **immediate corrective action**.\n",
        "\n",
        "<figure>\n",
        "<center>\n",
        "<img src='https://live.staticflickr.com/65535/49905140431_1e612733f6_b.jpg' /><figcaption>Figure 4</figcaption>\n",
        "</center>\n",
        "\n",
        "\n",
        "<center>$K_p$ is the proportional gain.\n",
        "\n",
        "$m(t) = K_{p}e_{a}(t)$\n",
        "\n",
        "$\\frac {M(s)}{E_{a}(s)}=K_{p}$\n",
        "\n"
      ]
    },
    {
      "cell_type": "markdown",
      "metadata": {
        "id": "gZiRkfASiUen",
        "colab_type": "text"
      },
      "source": [
        "A proportional controller is essentially **an amplifier with an adjustable gain.** \n",
        "\n",
        "The value of $K_{p}$ should be selected to satisfy the requirements of \n",
        "\n",
        "\n",
        "*   Stability\n",
        "*   Accuracy\n",
        "*   Satisfactory transient response\n",
        "*   Satisfactory disturbance rejection characteristics\n",
        "\n",
        "In general,\n",
        "\n",
        "\n",
        "*   **For small values of $K_p$**, the corrective **action is slow** particularly for small errors.\n",
        "*   **For large values of $K_p$**, the performance of the control system is improved. But this may lead to **instability**. \n",
        "\n",
        "Usually, a compromise is necessary in selecting proper gain. If this is not possible, then proportional control action is **used with some other control actions**.\n",
        "\n",
        "\n"
      ]
    },
    {
      "cell_type": "markdown",
      "metadata": {
        "id": "NM5yUj-Gwrkg",
        "colab_type": "text"
      },
      "source": [
        "\n",
        "\n",
        "---\n",
        "Example-1 (P control - step response)\n",
        "\n",
        "\n",
        "---\n",
        "\n",
        "\n",
        "\n",
        "\n",
        "\n"
      ]
    },
    {
      "cell_type": "markdown",
      "metadata": {
        "id": "yj009Qo_TIgp",
        "colab_type": "text"
      },
      "source": [
        "\n",
        "<figure>\n",
        "<center>\n",
        "<img src='https://live.staticflickr.com/65535/49904662963_952f3e8120_b.jpg' />\n",
        "</center> \n",
        "<center>\n",
        "<figcaption>Figure 5</figcaption><center>\n",
        "\n"
      ]
    },
    {
      "cell_type": "markdown",
      "metadata": {
        "id": "MZMmSqcBUBhr",
        "colab_type": "text"
      },
      "source": [
        "The transfer function of the unity feedback closed-loop control system is \n",
        "$TF=\\frac{K_{p}G(s)}{1+K_{p}G(s)}$\n",
        "\n",
        "Then the transfer function of the system in Figure 5 is \n",
        "<center>\n",
        "$TF=\\frac{K_{p}}{5s^2+3s+2+K_{p}}$\n",
        "\n",
        "**Let's observe the response of the system for different values of Kp and compare the result with uncontrolled system.**"
      ]
    },
    {
      "cell_type": "markdown",
      "metadata": {
        "colab_type": "text",
        "id": "dNA3xjxy4zVY"
      },
      "source": [
        "Once you run the next code block, there is no need to do it again. You can simply play with slider."
      ]
    },
    {
      "cell_type": "code",
      "metadata": {
        "id": "OUINhtW6X0P4",
        "colab_type": "code",
        "cellView": "code",
        "colab": {}
      },
      "source": [
        "def p_control(Kp):\n",
        "  num = [1]\n",
        "  den = [5,3,2]\n",
        "  TF1 = cnt.tf(num,den)   #Transfer function of uncontrolled system\n",
        "  num = [Kp]\n",
        "  den = [5, 3, Kp+2]\n",
        "  TF2 = cnt.tf(num,den)   #Transfer function of P-controlled system\n",
        "  print(\"G(s)=\",TF1)\n",
        "  print(\"G(s)=\",TF2)\n",
        "  #Response vs. Time Plot\n",
        "  t = np.linspace(0,15,5001)    #time duration between 0 and 5 s divided into 501 points\n",
        "  t,x1 = cnt.step_response(TF1,t)   #step response of the system from transfer function where t is the time and x is the response of the system\n",
        "  t,x2 = cnt.step_response(TF2,t)\n",
        "  plt.plot(t,x1, label =\"uncontrolled\")\n",
        "  plt.plot(t,x2, label = \"P-control\")\n",
        "  plt.legend(bbox_to_anchor=(1.05, 1), loc='upper left', borderaxespad=0.)\n",
        "  plt.xlabel(\"Time [s]\")\n",
        "  plt.ylabel(\"Step Response\")\n",
        "  plt.title(\"Step Response vs. Time\")\n",
        "  plt.grid(True)\n",
        "  plt.show()\n",
        "\n",
        "\n",
        "Kp_slider = widgets.FloatSlider(value=1.2, min=0,max=3.0,step=0.1)\n",
        "plot = widgets.interact(p_control, Kp=Kp_slider)"
      ],
      "execution_count": 0,
      "outputs": []
    },
    {
      "cell_type": "markdown",
      "metadata": {
        "id": "AH_oIG0GkUel",
        "colab_type": "text"
      },
      "source": [
        "The **fly-ball governor** is an early classic example of proportional control. The balls rise as speed increases, which closes the valve, until a balance is achieved between demand and the proportional gain of the linkage and valve as shown in *Figure 6*.\n",
        "\n",
        "\n",
        "<figure>\n",
        "<center>\n",
        "<img src='https://thumbs.gfycat.com/PiercingAllAsianwaterbuffalo-size_restricted.gif' />\n",
        "<center><figcaption>Figure 6</figcaption>\n",
        "\n",
        "if you want to see the working principle in detail, the following link will help:    \n",
        "https://youtu.be/HS_YGZXP2xY"
      ]
    },
    {
      "cell_type": "markdown",
      "metadata": {
        "id": "ISIF2tEKQ2HV",
        "colab_type": "text"
      },
      "source": [
        "**Integral Control (I-Control)**"
      ]
    },
    {
      "cell_type": "markdown",
      "metadata": {
        "id": "HZIIZnN-RF8D",
        "colab_type": "text"
      },
      "source": [
        "With this type of control action, control signal is **propotional to the integral of the error signal**.\n",
        "\n",
        "The value of an integral controller is directly proportional to **the history of the error**. Since it uses the error history, it will respond more **slowly** to the current error than the P controller.\n",
        "\n",
        "<figure>\n",
        "<center>\n",
        "<img src='https://live.staticflickr.com/65535/49905140371_6916168f85_b.jpg' /><figcaption>Figure 7</figcaption>\n",
        "</center>\n",
        "\n",
        "\n",
        "<center>$K_i$ is the integral gain.\n",
        "\n",
        "$m(t) = K_{i}\\int {e_{a}(t)}dt$\n",
        "\n",
        "\n",
        "$\\frac {M(s)}{E_{a}(s)}=\\frac{K_{i}}{s}$"
      ]
    },
    {
      "cell_type": "markdown",
      "metadata": {
        "id": "0pMXoijfSqU3",
        "colab_type": "text"
      },
      "source": [
        "\n",
        "\n",
        "*   It is obvious that even a small error can be detected, since integral control produces a control signal proportional to the area under the error signal. Hence, **it increases the accuracy of the system**.\n",
        "\n",
        "*   For **zero error signal**, the integral control may still produce a constant control signal which may in turn lead to **instability**.\n",
        "\n"
      ]
    },
    {
      "cell_type": "markdown",
      "metadata": {
        "colab_type": "text",
        "id": "0bulctuFx9Em"
      },
      "source": [
        "\n",
        "\n",
        "---\n",
        "Example-1 (I control - step response)\n",
        "\n",
        "\n",
        "---\n",
        "\n",
        "\n",
        "\n",
        "\n",
        "\n"
      ]
    },
    {
      "cell_type": "markdown",
      "metadata": {
        "colab_type": "text",
        "id": "TwhKGqLm6iTi"
      },
      "source": [
        "\n",
        "<figure>\n",
        "<center>\n",
        "<img src='https://live.staticflickr.com/65535/49905140096_eeaaaa93ca_b.jpg' />\n",
        "</center> \n",
        "<center>\n",
        "<figcaption>Figure 8</figcaption><center>\n",
        "\n"
      ]
    },
    {
      "cell_type": "markdown",
      "metadata": {
        "colab_type": "text",
        "id": "p6M9N6mP6iTl"
      },
      "source": [
        "<center>The transfer function of the system in Figure 8 is<center>\n",
        "<center>\n",
        "$TF=\\frac{K_{i}}{5s^3+3s^2+2+K_{i}}$\n",
        "\n",
        "**Let's observe the response of the system for different values of Ki and compare the result with uncontrolled system.**"
      ]
    },
    {
      "cell_type": "markdown",
      "metadata": {
        "colab_type": "text",
        "id": "R1DA-D2J4xUB"
      },
      "source": [
        "Once you run the next code block, there is no need to do it again. You can simply play with slider."
      ]
    },
    {
      "cell_type": "code",
      "metadata": {
        "colab_type": "code",
        "cellView": "code",
        "id": "aqzoV4JMKiVi",
        "colab": {}
      },
      "source": [
        "def I_control(Ki):\n",
        "  num = [1]\n",
        "  den = [5,3,2]\n",
        "  TF1 = cnt.tf(num,den)   #Transfer function of uncontrolled system\n",
        "  num = [Ki]\n",
        "  den = [5, 3, 2, Ki]\n",
        "  TF2 = cnt.tf(num,den)   #Transfer function of I-controlled system\n",
        "  print(\"G(s)=\",TF1)\n",
        "  print(\"G(s)=\",TF2)\n",
        "  #Response vs. Time Plot\n",
        "  t = np.linspace(0,15,5001)    #time duration between 0 and 5 s divided into 501 points\n",
        "  t,x1 = cnt.step_response(TF1,t)   #step response of the system from transfer function where t is the time and x is the response of the system\n",
        "  t,x2 = cnt.step_response(TF2,t)\n",
        "  plt.plot(t,x1, label =\"uncontrolled\")\n",
        "  plt.plot(t,x2, label = \"I-control\")\n",
        "  plt.legend(bbox_to_anchor=(1.05, 1), loc='upper left', borderaxespad=0.)\n",
        "  plt.xlabel(\"Time [s]\")\n",
        "  plt.ylabel(\"Step Response\")\n",
        "  plt.title(\"Step Response vs. Time\")\n",
        "  plt.grid(True)\n",
        "  plt.show()\n",
        "\n",
        "Ki_slider = widgets.FloatSlider(value=1.2, min=0,max=3.0,step=0.1)\n",
        "plot = widgets.interact(I_control, Ki=Ki_slider)"
      ],
      "execution_count": 0,
      "outputs": []
    },
    {
      "cell_type": "markdown",
      "metadata": {
        "id": "5wUHcBwb4HPj",
        "colab_type": "text"
      },
      "source": [
        "**Derivative Control (D-Control)**"
      ]
    },
    {
      "cell_type": "markdown",
      "metadata": {
        "id": "QesNdJ4lDKZX",
        "colab_type": "text"
      },
      "source": [
        "In this case, the control signal of the controller is proportional to the **derivative(slope) of the error signal**.\n",
        "\n",
        "You can think of derivative control as **a crude prediction of the error in the future**, based on the current slope of the error. How far into the future? That’s what the derivative time is for.\n",
        "\n",
        "\n",
        "\n",
        "<center>$K_d$ is the derivative gain.\n",
        "\n",
        "$m(t) = K_{d} \\frac{de_{a}(t)}{dt}$\n",
        "\n",
        "$\\frac {M(s)}{E_{a}(s)}=K_{d}s$\n",
        "<center>\n",
        "\n",
        "\n",
        "\n"
      ]
    },
    {
      "cell_type": "markdown",
      "metadata": {
        "id": "XSoGdGu-GSQG",
        "colab_type": "text"
      },
      "source": [
        "\n",
        "*   Derivative control action responds to the rate of change of error signal and can produce a control signal before **the error becomes too large**.\n",
        "\n",
        "*   As such, derivative control action **anticipates the error**, takes early corrective action, and tends to **increase the stability** of the system. \n",
        "\n",
        "*   It has no direct effect on steady state error.\n",
        "\n",
        "*   But it **increases the damping** in the system and allows to **higher value for the open loop gain K** which reduces the steady-state error.\n",
        "\n",
        "*   It amplifies noise signals coming in with the error signal and may saturate the actuator.\n",
        "\n",
        "*   It cannot be used if the error signal is not differentiable.\n",
        "\n",
        "*   **Thus derivative control action is never used alone.**"
      ]
    },
    {
      "cell_type": "markdown",
      "metadata": {
        "colab_type": "text",
        "id": "sbiRlH0K6aX6"
      },
      "source": [
        "\n",
        "\n",
        "---\n",
        "Example-1 (D control - step response) In this example, the derivative control action is used to discover its effect on the system, although **it is not used alone**.\n",
        "\n",
        "\n",
        "---\n",
        "\n",
        "\n",
        "\n",
        "\n",
        "\n"
      ]
    },
    {
      "cell_type": "markdown",
      "metadata": {
        "colab_type": "text",
        "id": "vNliCfNx-fIf"
      },
      "source": [
        "\n",
        "<figure>\n",
        "<center>\n",
        "<img src='https://live.staticflickr.com/65535/49904624558_485b03856b_b.jpg' />\n",
        "</center> \n",
        "<center>\n",
        "<figcaption>Figure 9</figcaption><center>\n",
        "\n"
      ]
    },
    {
      "cell_type": "markdown",
      "metadata": {
        "colab_type": "text",
        "id": "ePZWzMC7-fIz"
      },
      "source": [
        "<center>The transfer function of the system in Figure 9 is<center>\n",
        "<center>\n",
        "$TF=\\frac{K_{d}s}{5s^2+(3+K_{d})s+2}$\n",
        "\n",
        "**Let's observe the response of the system for different values of Kd and compare the result with uncontrolled system.**"
      ]
    },
    {
      "cell_type": "markdown",
      "metadata": {
        "colab_type": "text",
        "id": "3UhYdX7X4vX9"
      },
      "source": [
        "Once you run the next code block, there is no need to do it again. You can simply play with slider."
      ]
    },
    {
      "cell_type": "code",
      "metadata": {
        "colab_type": "code",
        "cellView": "code",
        "id": "U3Z1VbQ-LYB-",
        "colab": {}
      },
      "source": [
        "def D_control(Kd):\n",
        "  num = [1]\n",
        "  den = [5,3,2]\n",
        "  TF1 = cnt.tf(num,den)   #Transfer function of uncontrolled system\n",
        "  num = [Kd, 0]\n",
        "  den = [5, 3+Kd, 2]\n",
        "  TF2 = cnt.tf(num,den)   #Transfer function of D-controlled system\n",
        "  print(\"G(s)=\",TF1)\n",
        "  print(\"G(s)=\",TF2)\n",
        "  #Response vs. Time Plot\n",
        "  t = np.linspace(0,15,5001)    #time duration between 0 and 5 s divided into 501 points\n",
        "  t,x1 = cnt.step_response(TF1,t)   #step response of the system from transfer function where t is the time and x is the response of the system\n",
        "  t,x2 = cnt.step_response(TF2,t)\n",
        "  plt.plot(t,x1, label =\"uncontrolled\")\n",
        "  plt.plot(t,x2, label = \"D-control\")\n",
        "  plt.legend(bbox_to_anchor=(1.05, 1), loc='upper left', borderaxespad=0.)\n",
        "  plt.xlabel(\"Time [s]\")\n",
        "  plt.ylabel(\"Step Response\")\n",
        "  plt.title(\"Step Response vs. Time\")\n",
        "  plt.grid(True)\n",
        "  plt.show()\n",
        "\n",
        "Kd_slider = widgets.FloatSlider(value=1.2, min=0,max=3.0,step=0.1)\n",
        "plot = widgets.interact(D_control, Kd=Kd_slider)"
      ],
      "execution_count": 0,
      "outputs": []
    },
    {
      "cell_type": "markdown",
      "metadata": {
        "id": "fj38YLyqWDNZ",
        "colab_type": "text"
      },
      "source": [
        "**Proportional-Integral (PI) Controller**"
      ]
    },
    {
      "cell_type": "markdown",
      "metadata": {
        "id": "npi0xqLcWJZX",
        "colab_type": "text"
      },
      "source": [
        "The PI controller combines the **strengths of the P and I controllers**. It removes the basic problem of the plain P controller, since in the long run the I controller removes the steady-state error. The P part on the other hand fixes the problem of the slow, sluggish I controller, because it acts quickly.\n",
        "\n",
        "<figure>\n",
        "<center>\n",
        "<img src='https://live.staticflickr.com/65535/49904624848_eb7b345ede_b.jpg' /><figcaption>Figure 10</figcaption>\n",
        "</center>\n",
        "\n",
        "\n",
        "The PI controller is commonly used in process control, where the response does not need to be as fast as for example in motor control. When a radar is tracking a satellite, it needs to predict the satellite’s trajectory. Therefore, the controller needs derivative (D) action, an I controller\n",
        "only slows down the response.\n",
        "\n"
      ]
    },
    {
      "cell_type": "markdown",
      "metadata": {
        "colab_type": "text",
        "id": "iVnHQ5P--Ar7"
      },
      "source": [
        "\n",
        "\n",
        "---\n",
        "Example-1 (PI control - step response)\n",
        "\n",
        "\n",
        "---\n",
        "\n",
        "\n",
        "\n",
        "\n",
        "\n"
      ]
    },
    {
      "cell_type": "markdown",
      "metadata": {
        "colab_type": "text",
        "id": "ki_sAZjuzG8O"
      },
      "source": [
        "\n",
        "<figure>\n",
        "<center>\n",
        "<img src='https://live.staticflickr.com/65535/49904624698_a43becdcbb_b.jpg' />\n",
        "</center> \n",
        "<center>\n",
        "<figcaption>Figure 11</figcaption><center>\n"
      ]
    },
    {
      "cell_type": "markdown",
      "metadata": {
        "colab_type": "text",
        "id": "T3gOMuaUzG8U"
      },
      "source": [
        "<center>The transfer function of the system in Figure 11 is<center>\n",
        "<center>\n",
        "$TF=\\frac{K_{p}s+K_{i}}{5s^3+3s^2+(2+K_{p})s+K_{i}}$\n",
        "\n",
        "**Let's observe the response of the system for different Kp, Ki values and compare the result with uncontrolled system.**"
      ]
    },
    {
      "cell_type": "markdown",
      "metadata": {
        "colab_type": "text",
        "id": "kTGUkzKL4r7q"
      },
      "source": [
        "Once you run the next code block, there is no need to do it again. You can simply play with slider."
      ]
    },
    {
      "cell_type": "code",
      "metadata": {
        "colab_type": "code",
        "cellView": "code",
        "id": "RssDq6gVMT1p",
        "colab": {}
      },
      "source": [
        "def PI_control(Kp,Ki):\n",
        "  num = [1]\n",
        "  den = [5,3,2]\n",
        "  TF1 = cnt.tf(num,den)   #Transfer function of uncontrolled system\n",
        "  num = [Kp, Ki]\n",
        "  den = [5, 3, 2+Kp, Ki]\n",
        "  TF2 = cnt.tf(num,den)   #Transfer function of PI-controlled system\n",
        "  print(\"G1(s)=\",TF1)\n",
        "  print(\"G2(s)=\",TF2)\n",
        "  #Response vs. Time Plot\n",
        "  t = np.linspace(0,15,5001)    #time duration between 0 and 5 s divided into 501 points\n",
        "  t,x1 = cnt.step_response(TF1,t)   #step response of the system from transfer function where t is the time and x is the response of the system\n",
        "  t,x2 = cnt.step_response(TF2,t)\n",
        "  plt.plot(t,x1, label =\"uncontrolled\")\n",
        "  plt.plot(t,x2, label = \"PI-control\")\n",
        "  plt.legend(bbox_to_anchor=(1.05, 1), loc='upper left', borderaxespad=0.)\n",
        "  plt.xlabel(\"Time [s]\")\n",
        "  plt.ylabel(\"Step Response\")\n",
        "  plt.title(\"Step Response vs. Time\")\n",
        "  plt.grid(True)\n",
        "  plt.show()\n",
        "\n",
        "Kp_slider = widgets.FloatSlider(value=1.2, min=0,max=3.0,step=0.1)\n",
        "Ki_slider = widgets.FloatSlider(value=1.2, min=0,max=3.0,step=0.1)\n",
        "plot = widgets.interact(PI_control, Kp=Kp_slider , Ki=Ki_slider)"
      ],
      "execution_count": 0,
      "outputs": []
    },
    {
      "cell_type": "markdown",
      "metadata": {
        "colab_type": "text",
        "id": "N3DA_rc8ZBVq"
      },
      "source": [
        "**Proportional-Derivative (PD) Controller**"
      ]
    },
    {
      "cell_type": "markdown",
      "metadata": {
        "id": "LD8bo1T0X0XW",
        "colab_type": "text"
      },
      "source": [
        "The derivative controller is hardly ever used alone. Instead, it is combined with a P controller(or with both P and I controllers) and applied in situations where **a very fast response** is required.\n",
        "\n",
        "*   When PD controllers are properly used, they **increase the stability** of a system. \n",
        "\n",
        "\n",
        "<figure>\n",
        "<center>\n",
        "<img src='https://live.staticflickr.com/65535/49904624793_57b253b798_b.jpg' /><figcaption>Figure 12</figcaption>\n",
        "</center>\n",
        "\n",
        "\n"
      ]
    },
    {
      "cell_type": "markdown",
      "metadata": {
        "id": "6QwuD0JNg6U0",
        "colab_type": "text"
      },
      "source": [
        "A well-known example of this is **balancing a broom handle** as shown in *Figure 13*, which is set on your palm. This is also called the inverted pendulum problem. With a little bit of practice, the hand–eye coordination produces the desired result. The eyes will follow the angle of deflection, but this is not enough, also the angular speed (and direction) of the broom’s top end has to be used. This is exactly what a PD controller does.\n",
        "\n",
        "<figure>\n",
        "<center>\n",
        "<img src='https://www.exploratorium.edu/sites/default/files/BalancingStick_DSC_8160_Hv3.jpg' />\n",
        "</center><center><figcaption>Figure 13</figcaption>\n"
      ]
    },
    {
      "cell_type": "markdown",
      "metadata": {
        "colab_type": "text",
        "id": "fBcw5t_rOIwm"
      },
      "source": [
        "\n",
        "\n",
        "---\n",
        "Example-1 (PD control - step response)\n",
        "\n",
        "\n",
        "---\n",
        "\n",
        "\n",
        "\n",
        "\n",
        "\n"
      ]
    },
    {
      "cell_type": "markdown",
      "metadata": {
        "colab_type": "text",
        "id": "pqCs_FRav20j"
      },
      "source": [
        "\n",
        "<figure>\n",
        "<center>\n",
        "<img src='https://live.staticflickr.com/65535/49905441182_341fc18747_b.jpg' />\n",
        "</center> \n",
        "<center>\n",
        "<figcaption>Figure 14</figcaption><center>\n"
      ]
    },
    {
      "cell_type": "markdown",
      "metadata": {
        "colab_type": "text",
        "id": "_Nh71Uqyv20n"
      },
      "source": [
        "<center>The transfer function of the system in Figure 14 is<center>\n",
        "\n",
        "<center>\n",
        "$TF=\\frac{K_{d}s+K_{p}}{5s^2+(3+K_{d})s+2+K_{p}}$\n",
        "\n",
        "**Let's observe the response of the system for different Kp, Kd values and compare the result with uncontrolled system.**"
      ]
    },
    {
      "cell_type": "markdown",
      "metadata": {
        "colab_type": "text",
        "id": "85eT3Dhh4csL"
      },
      "source": [
        "Once you run the next code block, there is no need to do it again. You can simply play with slider."
      ]
    },
    {
      "cell_type": "code",
      "metadata": {
        "colab_type": "code",
        "cellView": "code",
        "id": "vP_7klzfOIw1",
        "colab": {}
      },
      "source": [
        "def PD_control(Kp,Kd):\n",
        "  num = [1]\n",
        "  den = [5,3,2]\n",
        "  TF1 = cnt.tf(num,den)   #Transfer function of uncontrolled system\n",
        "  num = [Kd, Kp]\n",
        "  den = [5, 3, 2+Kp]\n",
        "  TF2 = cnt.tf(num,den)   #Transfer function of PD-controlled system\n",
        "  print(\"G(s)=\",TF1)\n",
        "  print(\"G(s)=\",TF2)\n",
        "  #Response vs. Time Plot\n",
        "  t = np.linspace(0,15,5001)    #time duration between 0 and 5 s divided into 501 points\n",
        "  t,x1 = cnt.step_response(TF1,t)   #step response of the system from transfer function where t is the time and x is the response of the system\n",
        "  t,x2 = cnt.step_response(TF2,t)\n",
        "  plt.plot(t,x1, label =\"uncontrolled\")\n",
        "  plt.plot(t,x2, label = \"PD-control\")\n",
        "  plt.legend(bbox_to_anchor=(1.05, 1), loc='upper left', borderaxespad=0.)\n",
        "  plt.xlabel(\"Time [s]\")\n",
        "  plt.ylabel(\"Step Response\")\n",
        "  plt.title(\"Step Response vs. Time\")\n",
        "  plt.grid(True)\n",
        "  plt.show()\n",
        "\n",
        "Kp_slider = widgets.FloatSlider(value=1.2, min=0,max=3.0,step=0.1)\n",
        "Kd_slider = widgets.FloatSlider(value=1.2, min=0,max=3.0,step=0.1)\n",
        "plot = widgets.interact(PD_control, Kp=Kp_slider , Kd=Kd_slider)"
      ],
      "execution_count": 0,
      "outputs": []
    },
    {
      "cell_type": "markdown",
      "metadata": {
        "id": "KrC0GfG8cX5l",
        "colab_type": "text"
      },
      "source": [
        "**Proportional-Integral-Derivative (PID) Controller**"
      ]
    },
    {
      "cell_type": "markdown",
      "metadata": {
        "id": "0npBgXuZh33R",
        "colab_type": "text"
      },
      "source": [
        "Until now we have discussed P, PI, and PD controllers. A PID controller contains all the best features of these. \n",
        "\n",
        "<figure>\n",
        "<center>\n",
        "<img src='https://live.staticflickr.com/65535/49904624773_0c4ded2b0a_b.jpg' /><figcaption>Figure 15</figcaption>\n",
        "</center>\n",
        "\n",
        "\n"
      ]
    },
    {
      "cell_type": "markdown",
      "metadata": {
        "colab_type": "text",
        "id": "hGYnb5P7O4pn"
      },
      "source": [
        "\n",
        "\n",
        "---\n",
        "Example-1 (PID control - step response)\n",
        "\n",
        "\n",
        "---\n",
        "\n",
        "\n",
        "\n",
        "\n",
        "\n"
      ]
    },
    {
      "cell_type": "markdown",
      "metadata": {
        "id": "VBXLaABZtu2s",
        "colab_type": "text"
      },
      "source": [
        "\n",
        "<figure>\n",
        "<center>\n",
        "<img src='https://live.staticflickr.com/65535/49905140201_e981b71f8e_b.jpg' />\n",
        "</center> \n",
        "<center>\n",
        "<figcaption>Figure 16</figcaption><center>\n"
      ]
    },
    {
      "cell_type": "markdown",
      "metadata": {
        "id": "5WX_ViZztanm",
        "colab_type": "text"
      },
      "source": [
        "<center>The transfer function of the system in Figure 16 is<center>\n",
        "<center>\n",
        "$TF=\\frac{K_{d}s^2+K_{p}s+K_{i}}{5s^3+(3+K_{d})s^2+(2+K_{p})s+K_{i}}$\n",
        "\n",
        "**Let's observe the response of the system for different Kp, Ki, Kd values and compare the result with uncontrolled system.**"
      ]
    },
    {
      "cell_type": "markdown",
      "metadata": {
        "colab_type": "text",
        "id": "JhvQg7a74nUp"
      },
      "source": [
        "Once you run the next code block, there is no need to do it again. You can simply play with slider."
      ]
    },
    {
      "cell_type": "code",
      "metadata": {
        "colab_type": "code",
        "cellView": "code",
        "id": "_N4KDkn2O4qH",
        "colab": {}
      },
      "source": [
        "def PID_control(Kp,Ki,Kd):\n",
        "  num = [1]\n",
        "  den = [5,3,2]\n",
        "  TF1 = cnt.tf(num,den)   #Transfer function of uncontrolled system\n",
        "  num = [Kd, Kp, Ki]\n",
        "  den = [5, 3+Kd, 2+Kp, Ki]\n",
        "  TF2 = cnt.tf(num,den)   #Transfer function of PID-controlled system\n",
        "  print(\"G(s)=\",TF1)\n",
        "  print(\"G(s)=\",TF2)\n",
        "  #Response vs. Time Plot\n",
        "  t = np.linspace(0,15,5001)    #time duration between 0 and 5 s divided into 501 points\n",
        "  t,x1 = cnt.step_response(TF1,t)   #step response of the system from transfer function where t is the time and x is the response of the system\n",
        "  t,x2 = cnt.step_response(TF2,t)\n",
        "  plt.plot(t,x1, label =\"uncontrolled\")\n",
        "  plt.plot(t,x2, label = \"PID-control\")\n",
        "  plt.legend(bbox_to_anchor=(1.05, 1), loc='upper left', borderaxespad=0.)\n",
        "  plt.xlabel(\"Time [s]\")\n",
        "  plt.ylabel(\"Step Response\")\n",
        "  plt.title(\"Step Response vs. Time\")\n",
        "  plt.grid(True)\n",
        "  plt.show()\n",
        "\n",
        "Kp_slider = widgets.FloatSlider(value=1.2, min=0,max=3.0,step=0.1)\n",
        "Ki_slider = widgets.FloatSlider(value=1.2, min=0,max=3.0,step=0.1)\n",
        "Kd_slider = widgets.FloatSlider(value=1.2, min=0,max=3.0,step=0.1)\n",
        "plot = widgets.interact(PID_control, Kp=Kp_slider , Ki=Ki_slider, Kd=Kd_slider)"
      ],
      "execution_count": 0,
      "outputs": []
    },
    {
      "cell_type": "markdown",
      "metadata": {
        "id": "8rMmw3tCsSsD",
        "colab_type": "text"
      },
      "source": [
        "The autonomous vehicle as shown in *Figure 17* is a mobile robot integrating multi-sensor navigation and positioning, intelligent decision making and control technology. It is one of the most significant examples that has PID controller. \n",
        "\n",
        "\n",
        "<figure>\n",
        "<center>\n",
        "<img src='https://i1.wp.com/electrek.co/wp-content/uploads/sites/3/2016/12/tesla-self-driving-gif-1.gif?w=538&h=303&quality=82&strip=all&ssl=1' />\n",
        "</center><center><figcaption>Figure 17</figcaption>"
      ]
    },
    {
      "cell_type": "markdown",
      "metadata": {
        "id": "OpSz79xSo6PZ",
        "colab_type": "text"
      },
      "source": [
        "**If you want to have further insight and to wrap up the task, it is highly recommended to watch these videos :** \n",
        "\n",
        "https://youtu.be/4Y7zG48uHRo\n",
        "\n",
        "https://youtu.be/fusr9eTceEo"
      ]
    },
    {
      "cell_type": "markdown",
      "metadata": {
        "colab_type": "text",
        "id": "CDyKGOcx8Cx6"
      },
      "source": [
        "\n",
        "\n",
        "---\n",
        "Example-1 (P - PI - PD - PID control - impulse response)\n",
        "\n",
        "\n",
        "---\n",
        "\n",
        "\n",
        "\n",
        "\n",
        "\n"
      ]
    },
    {
      "cell_type": "markdown",
      "metadata": {
        "colab_type": "text",
        "id": "syMtrpyZ8Q-I"
      },
      "source": [
        "\n",
        "<figure>\n",
        "<center>\n",
        "<img src='https://live.staticflickr.com/65535/49905139941_ca49c4851f_b.jpg' />\n",
        "</center> \n",
        "<center>\n",
        "<figcaption>Figure 18</figcaption><center>\n"
      ]
    },
    {
      "cell_type": "markdown",
      "metadata": {
        "colab_type": "text",
        "id": "lBbYdScj8Q-P"
      },
      "source": [
        "**Let's observe the response of the system for different Kp, Ki, Kd values and compare the result with uncontrolled system.**"
      ]
    },
    {
      "cell_type": "markdown",
      "metadata": {
        "colab_type": "text",
        "id": "5oHvp36R8CyZ"
      },
      "source": [
        "Once you run the next code block, there is no need to do it again. You can simply play with slider.\n"
      ]
    },
    {
      "cell_type": "code",
      "metadata": {
        "id": "v2-_X4ZgQUDH",
        "colab_type": "code",
        "colab": {}
      },
      "source": [
        "def controller(Kp,Ki,Kd):\n",
        "  num = [1]\n",
        "  den = [5,3,2]\n",
        "  TF1 = cnt.tf(num,den)   #Transfer function of uncontrolled system\n",
        "  num = [Kp]\n",
        "  den = [5, 3, Kp+2]\n",
        "  TF2 = cnt.tf(num,den)   #Transfer function of P-controlled system\n",
        "  num = [Kp, Ki]\n",
        "  den = [5, 3, 2+Kp, Ki]\n",
        "  TF3 = cnt.tf(num,den)   #Transfer function of PI-controlled system\n",
        "  num = [Kd, Kp]\n",
        "  den = [5, 3+Kd, 2+Kp]\n",
        "  TF4 = cnt.tf(num,den)   #Transfer function of PD-controlled system\n",
        "  num = [Kd, Kp, Ki]\n",
        "  den = [5, 3+Kd, 2+Kp, Ki]\n",
        "  TF5 = cnt.tf(num,den)   #Transfer function of PID-controlled system\n",
        "  print(\"G_1(s)=\",TF1)\n",
        "  print(\"G_2(s)=\",TF2)\n",
        "  print(\"G_3(s)=\",TF3)\n",
        "  print(\"G_4(s)=\",TF4)\n",
        "  print(\"G_5(s)=\",TF5)\n",
        "  #Response vs. Time Plot\n",
        "  t = np.linspace(0,15,5001)    #time duration between 0 and 5 s divided into 501 points\n",
        "  t,x1 = cnt.impulse_response(TF1,t)   #impulse response of the system from transfer function where t is the time and x is the response of the system\n",
        "  t,x2 = cnt.impulse_response(TF2,t)\n",
        "  t,x3 = cnt.impulse_response(TF3,t)\n",
        "  t,x4 = cnt.impulse_response(TF4,t)\n",
        "  t,x5 = cnt.impulse_response(TF5,t)\n",
        "  plt.plot(t,x1, label =\"uncontrolled\")\n",
        "  plt.plot(t,x2, label = \"P-control\")\n",
        "  plt.plot(t,x3, label = \"PI-control\")\n",
        "  plt.plot(t,x4, label = \"PD-control\")\n",
        "  plt.plot(t,x5, label = \"PID-control\")\n",
        "  plt.legend(bbox_to_anchor=(1.05, 1), loc='upper left', borderaxespad=0.)\n",
        "  plt.xlabel(\"Time [s]\")\n",
        "  plt.ylabel(\"Impulse Response\")\n",
        "  plt.title(\"Impulse Response vs. Time\")\n",
        "  plt.grid(True)\n",
        "  plt.show()\n",
        "\n",
        "Kp_slider = widgets.FloatSlider(value=1.2, min=0,max=3.0,step=0.1)\n",
        "Ki_slider = widgets.FloatSlider(value=1.2, min=0,max=3.0,step=0.1)\n",
        "Kd_slider = widgets.FloatSlider(value=1.2, min=0,max=3.0,step=0.1)\n",
        "plot = widgets.interact(controller, Kp=Kp_slider , Ki=Ki_slider, Kd=Kd_slider)"
      ],
      "execution_count": 0,
      "outputs": []
    },
    {
      "cell_type": "markdown",
      "metadata": {
        "colab_type": "text",
        "id": "N63KuLZy8d6M"
      },
      "source": [
        "\n",
        "---\n",
        "Example-2 (P - PI - PD - PID control)\n",
        "\n",
        "\n",
        "---\n",
        "\n",
        "\n",
        "\n",
        "\n",
        "\n"
      ]
    },
    {
      "cell_type": "markdown",
      "metadata": {
        "colab_type": "text",
        "id": "jExYetWm87rX"
      },
      "source": [
        "\n",
        "<figure>\n",
        "<center>\n",
        "<img src='https://live.staticflickr.com/65535/49905205316_24b32f2ee7_b.jpg' />\n",
        "</center> \n",
        "<center>\n",
        "<figcaption>Figure 19</figcaption><center>\n"
      ]
    },
    {
      "cell_type": "markdown",
      "metadata": {
        "colab_type": "text",
        "id": "CThpEKXY87rc"
      },
      "source": [
        "\n",
        "**Let's observe the system response and stabiliy with and without controller.**"
      ]
    },
    {
      "cell_type": "markdown",
      "metadata": {
        "colab_type": "text",
        "id": "o_K6VcJk87r4"
      },
      "source": [
        "Once you run the next code block, there is no need to do it again. You can simply play with slider.\n"
      ]
    },
    {
      "cell_type": "code",
      "metadata": {
        "colab_type": "code",
        "id": "vT9w4dix87r4",
        "colab": {}
      },
      "source": [
        "def controller1(Kp,Ki,Kd):\n",
        "  num = [1]\n",
        "  den = [1,5,6]\n",
        "  TF1 = cnt.tf(num,den)   #Transfer function of uncontrolled system\n",
        "  num = [Kp]\n",
        "  den = [1, 5, Kp+6]\n",
        "  TF2 = cnt.tf(num,den)   #Transfer function of P-controlled system\n",
        "  num = [Kp, Ki]\n",
        "  den = [1, 5, 6+Kp, Ki]\n",
        "  TF3 = cnt.tf(num,den)   #Transfer function of PI-controlled system\n",
        "  num = [Kd, Kp]\n",
        "  den = [1, 5+Kd, 6+Kp]\n",
        "  TF4 = cnt.tf(num,den)   #Transfer function of PD-controlled system\n",
        "  num = [Kd, Kp, Ki]\n",
        "  den = [1, 5+Kd, 6+Kp, Ki]\n",
        "  TF5 = cnt.tf(num,den)   #Transfer function of PID-controlled system\n",
        "  print(\"G_1(s)=\",TF1)\n",
        "  print(\"G_2(s)=\",TF2)\n",
        "  print(\"G_3(s)=\",TF3)\n",
        "  print(\"G_4(s)=\",TF4)\n",
        "  print(\"G_5(s)=\",TF5)\n",
        "  #Response vs. Time Plot\n",
        "  t = np.linspace(0,15,5001)    #time duration between 0 and 5 s divided into 501 points\n",
        "  t,x1 = cnt.step_response(TF1,t)   #impulse response of the system from transfer function where t is the time and x is the response of the system\n",
        "  t,x2 = cnt.step_response(TF2,t)\n",
        "  t,x3 = cnt.step_response(TF3,t)\n",
        "  t,x4 = cnt.step_response(TF4,t)\n",
        "  t,x5 = cnt.step_response(TF5,t)\n",
        "  plt.plot(t,x1, label =\"uncontrolled\")\n",
        "  plt.plot(t,x2, label = \"P-control\")\n",
        "  plt.plot(t,x3, label = \"PI-control\")\n",
        "  plt.plot(t,x4, label = \"PD-control\")\n",
        "  plt.plot(t,x5, label = \"PID-control\")\n",
        "  plt.legend(bbox_to_anchor=(1.05, 1), loc='upper left', borderaxespad=0.)\n",
        "  plt.xlabel(\"Time [s]\")\n",
        "  plt.ylabel(\"Impulse Response\")\n",
        "  plt.title(\"Impulse Response vs. Time\")\n",
        "  plt.grid(True)\n",
        "  plt.show()\n",
        "\n",
        "Kp_slider = widgets.FloatSlider(value=1.2, min=0,max=3.0,step=0.1)\n",
        "Ki_slider = widgets.FloatSlider(value=1.2, min=0,max=3.0,step=0.1)\n",
        "Kd_slider = widgets.FloatSlider(value=1.2, min=0,max=3.0,step=0.1)\n",
        "plot = widgets.interact(controller1, Kp=Kp_slider , Ki=Ki_slider, Kd=Kd_slider)"
      ],
      "execution_count": 0,
      "outputs": []
    }
  ]
}
