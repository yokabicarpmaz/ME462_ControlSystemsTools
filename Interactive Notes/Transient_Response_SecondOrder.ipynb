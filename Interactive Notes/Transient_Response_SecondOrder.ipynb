{
  "nbformat": 4,
  "nbformat_minor": 0,
  "metadata": {
    "colab": {
      "name": "Transient_Response_SecondOrder.ipynb",
      "provenance": [],
      "collapsed_sections": [],
      "authorship_tag": "ABX9TyPriKTvtb5V3ozJhtJX/sT0",
      "include_colab_link": true
    },
    "kernelspec": {
      "name": "python3",
      "display_name": "Python 3"
    }
  },
  "cells": [
    {
      "cell_type": "markdown",
      "metadata": {
        "id": "view-in-github",
        "colab_type": "text"
      },
      "source": [
        "<a href=\"https://colab.research.google.com/github/yokabicarpmaz/ME462_ControlSystemsTools/blob/master/Transient_Response_SecondOrder.ipynb\" target=\"_parent\"><img src=\"https://colab.research.google.com/assets/colab-badge.svg\" alt=\"Open In Colab\"/></a>"
      ]
    },
    {
      "cell_type": "markdown",
      "metadata": {
        "id": "jo2H9If6e9c8",
        "colab_type": "text"
      },
      "source": [
        "**TRANSIENT RESPONSE**\n",
        "\n",
        "**Second Order Systems**"
      ]
    },
    {
      "cell_type": "markdown",
      "metadata": {
        "id": "VZjef3soxDhN",
        "colab_type": "text"
      },
      "source": [
        "Let's start with adding necessary libraries !\n",
        "\n",
        "\n",
        "Do NOT forget to run codes in order !"
      ]
    },
    {
      "cell_type": "code",
      "metadata": {
        "id": "10RNwECe2Z6k",
        "colab_type": "code",
        "colab": {}
      },
      "source": [
        "try :\n",
        "  !pip install control\n",
        "  !pip install cowsay\n",
        "  import control as cnt\n",
        "  import matplotlib.pyplot as plt\n",
        "  from mpl_toolkits import mplot3d\n",
        "  import numpy as np\n",
        "  import sympy as sy\n",
        "  import math\n",
        "  import cowsay\n",
        "  import ipywidgets as widgets\n",
        "  from IPython.display import display\n",
        "  cowsay.stegosaurus(\"All libraries have been successfully downloaded!\")\n",
        "except : \n",
        "   print(\"\\033[1m\"+\"WARNING!!!LIBRARIES COULD NOT BE DOWNLOADED. PLEASE TRY AGAIN !\"+\"\\033[0m\")"
      ],
      "execution_count": 0,
      "outputs": []
    },
    {
      "cell_type": "markdown",
      "metadata": {
        "colab_type": "text",
        "id": "lKh3aosHcSyv"
      },
      "source": [
        "\n",
        "\n",
        "---\n",
        "\n",
        "**Transient Response of the Second Order Systems**\n",
        "\n",
        "\n",
        "\n",
        "---\n",
        "\n",
        "\n",
        "\n"
      ]
    },
    {
      "cell_type": "markdown",
      "metadata": {
        "id": "B37UPGVZCP2X",
        "colab_type": "text"
      },
      "source": [
        "The second order systems can be represented by a general transfer function :\n",
        "\n",
        "$G(s) = \\frac{X(s)}{Y(s)}= \\frac{b_{1}s+b_{0}}{a_{2}s^2+a_{1}s+a_{0}}$\n",
        "\n",
        "There exists two more general representation. The first one is:\n",
        "\n",
        "$G(s) = \\frac{C(s)}{R(s)}=\\frac{K({\\eta}{\\omega}_{n}{s}+{\\omega}_{n}^2)}{s^2+2{\\xi}{\\omega_{n}s+{\\omega_{n}}^2}}$\n",
        "\n",
        "where \n",
        "\n",
        "*   K = steady state/ DC gain\n",
        "*   $\\eta$ = characteristic time ratio\n",
        "*   $\\xi$ = damping ratio\n",
        "*   $\\omega$ = undamped natural frequency\n",
        "\n",
        "**Damping Ratio** of the second order system is a measure of the degree of **resistance to change** in the system output.\n",
        "\n",
        "**Undamped Natural Frequency** of the second order system is the frequency of oscillation of the system without damping.\n",
        "\n",
        "Another representation is :\n",
        "\n",
        "$G(s) = \\frac{C(s)}{R(s)}= \\frac{K(T_{0}s+1)}{T^2s^2+2{\\xi}Ts+1} $\n",
        "\n",
        "where\n",
        "*   K = steady state/ DC gain\n",
        "*   T = system characteristic time\n",
        "*   $T_{0}$ = numerator characteristic time\n",
        "*   $\\xi$ = damping ratio\n",
        "\n",
        "\n",
        "In this course, the transient response of the second order systems to the **step response** will be studied then the general form of the transfer function is :\n",
        "\n",
        "$G(s) = \\frac{C(s)}{R(s)}=\\frac{K{\\omega}_{n}^2}{s^2+2{\\xi}{\\omega_{n}s+{\\omega_{n}}^2}}$\n",
        "\n",
        "Such a system is classified as :\n",
        "\n",
        "\n",
        "*   Undamped $\\hspace{1cm}$ $\\xi=0$\n",
        "*   Underdamped $\\hspace{1cm}$ $0<\\xi<1$\n",
        "*   Critically damped $\\hspace{1cm}$ $\\xi=1$\n",
        "*   Overdamped $\\hspace{1cm}$ $\\xi>1$\n",
        "\n",
        "\n",
        "\n"
      ]
    },
    {
      "cell_type": "markdown",
      "metadata": {
        "id": "SRG-b9VwYAoJ",
        "colab_type": "text"
      },
      "source": [
        "You can observe the effects of $\\xi, \\omega_n$ and K on the system by playing sliders."
      ]
    },
    {
      "cell_type": "code",
      "metadata": {
        "id": "LwTdZbaSVCQx",
        "colab_type": "code",
        "colab": {}
      },
      "source": [
        "def SecondOrder(K,W_n,Xi):\n",
        "  num = [K*W_n]\n",
        "  den = [1, 2*Xi*W_n,W_n**2]\n",
        "  TF = cnt.tf(num,den)   #Transfer function of uncontrolled system\n",
        "  print(\"G(s)=\",TF)\n",
        "  #Response vs. Time Plot\n",
        "  t = np.linspace(0,15,5001)    #time duration between 0 and 5 s divided into 501 points\n",
        "  t,x = cnt.step_response(TF,t)   #impulse response of the system from transfer function where t is the time and x is the response of the system\n",
        "  plt.plot(t,x)\n",
        "  plt.xlabel(\"Time [s]\")\n",
        "  plt.ylabel(\"Step Response\")\n",
        "  plt.title(\"Step Response vs. Time\")\n",
        "  plt.grid(True)\n",
        "  plt.show()\n",
        "\n",
        "\n",
        "\n",
        "K_slider = widgets.FloatSlider(value=1, min=0,max=10.0,step=0.1)\n",
        "W_n_slider = widgets.FloatSlider(value=1, min=0,max=10.0,step=0.1)\n",
        "Xi_slider = widgets.FloatSlider(value=1, min=0,max=3.0,step=0.1)\n",
        "plot = widgets.interact(SecondOrder, K=K_slider, W_n=W_n_slider, Xi=Xi_slider)"
      ],
      "execution_count": 0,
      "outputs": []
    },
    {
      "cell_type": "markdown",
      "metadata": {
        "id": "bAWXsKLxZQif",
        "colab_type": "text"
      },
      "source": [
        "\n",
        "\n",
        "---\n",
        "\n",
        "Let's Remember!\n",
        "\n",
        "---\n",
        "\n",
        "Transfer functions specify the relationship between input and output.\n",
        "\n",
        "$G(s) = \\frac{N(s)}{D(s)}$\n",
        "\n",
        " The roots of D(s) = 0 which is also named as **characteristic equation** give us the poles of the system.\n",
        "\n",
        " The characteristic equation for the second order system is \n",
        "\n",
        " $s^2+2{\\xi}{\\omega_{n}s+{\\omega_{n}}^2}=0$\n",
        "\n",
        " The roots, in general,\n",
        "\n",
        " $s_{1,2}= -{\\xi}{\\omega}_{n}{\\pm}{\\omega}_{n}\\sqrt{{\\xi}^2-1}$\n",
        "\n",
        "\n",
        "\n",
        "*   Undamped $(\\xi=0)$ systems \n",
        "\n",
        "    *    2 purely imaginary roots(poles)\n",
        "\n",
        "      $s_{1,2}=\\pm{j}{\\omega}_{n}$\n",
        "\n",
        "*   Criticaly damped $(\\xi=1)$ systems \n",
        "\n",
        "    *    2 identical(repeated) real roots(poles)\n",
        "\n",
        "      $s_{1,2}=-{\\omega}_{n}$\n",
        "\n",
        "*   Overdamped $(\\xi>1)$ systems \n",
        "\n",
        "    *    2 distinct negative real roots(poles)\n",
        "\n",
        "$\\hspace{2.2cm}s_{1}=-{\\xi}{\\omega}_{n}{\\pm}{\\omega}_{n}\\sqrt{{\\xi}^2-1}$\n",
        "\n",
        "\n",
        "*   Underdamped $(\\xi<1)$ systems\n",
        "\n",
        "    *   2 complex conjugate roots(poles)\n",
        "\n",
        "\n",
        "$\\hspace{2.2cm}s_{1,2}= -{\\xi}{\\omega}_{n}{\\pm}{j\\omega}_{n}\\sqrt{1-{\\xi}^2}$\n",
        "\n",
        "\n",
        "**Pole-zero Map of the Second Order System**  is shown in *Figure 1*:\n",
        "\n",
        "\n",
        "<figure>\n",
        "<img src='https://live.staticflickr.com/65535/49939775006_902630ddfc_b.jpg' />\n",
        "<figcaption> $\\hspace{11.5cm}$Figure 1</figcaption>\n",
        "\n"
      ]
    },
    {
      "cell_type": "markdown",
      "metadata": {
        "id": "xJsAKQWQCRgU",
        "colab_type": "text"
      },
      "source": [
        "**Undamped System$({\\xi}=0)$ with Step Input**\n",
        "\n",
        "\n",
        "The general form of step response of the undamped second order system can be obtained as:\n",
        "\n",
        "$C(s) = G(s)R(s)$ where $R(s)=\\frac{R}{s}$\n",
        "\n",
        "$C_{s}(s) = KR\\frac{{\\omega}_n^2}{s(s^2+{\\omega_{n}}^2)} $\n",
        "\n",
        "By taking Laplace transform to get time response:\n",
        "\n",
        "$c_{s}(t) = KR(1-cos{\\omega}_nt)$\n",
        "\n",
        "\n",
        "\n",
        "Observe the roots and the step response of the system. \n",
        "\n",
        "\n",
        "*   Are they compatible or not?\n",
        "*   Are there two symmetric roots on imaginary axis?\n",
        "*   Does the absolute value the roots equal to the natural frequency?\n",
        "*   Is the undamped system harmonic or not?\n",
        "\n"
      ]
    },
    {
      "cell_type": "code",
      "metadata": {
        "id": "L2YxWA3AE4Wi",
        "colab_type": "code",
        "colab": {}
      },
      "source": [
        "def SecondOrder(K,W_n):\n",
        "  Xi = 0\n",
        "  R = 1\n",
        "  num = [K*W_n]\n",
        "  den = [1, 2*Xi*W_n,W_n**2]\n",
        "  TF = cnt.tf(num,den)   #Transfer function of uncontrolled system\n",
        "  print(\"G(s)=\",TF)\n",
        "  Poles = cnt.pole(TF)\n",
        "  #Plot of Poles in complex plane\n",
        "  plt.scatter(Poles.real,Poles.imag, color='red')\n",
        "  plt.xlabel(\"Re\")\n",
        "  plt.ylabel(\"Im\")\n",
        "  plt.title(\"Roots in Complex Coordinate\")\n",
        "  plt.grid(True)\n",
        "  plt.show()\n",
        "  #Response vs. Time Plot\n",
        "  t = np.linspace(0,15,5001)    #time duration between 0 and 15 s divided into 501 points\n",
        "  c= K*R*(1-np.cos(W_n*t))\n",
        "  plt.plot(t,c)\n",
        "  plt.xlabel(\"Time [s]\")\n",
        "  plt.ylabel(\"Step Response\")\n",
        "  plt.title(\"Step Response vs. Time\")\n",
        "  plt.grid(True)\n",
        "  plt.show()\n",
        "\n",
        "\n",
        "\n",
        "K_slider = widgets.FloatSlider(value=1, min=0,max=10.0,step=0.1)\n",
        "W_n_slider = widgets.FloatSlider(value=1, min=0,max=10.0,step=0.1)\n",
        "plot = widgets.interact(SecondOrder, K=K_slider, W_n=W_n_slider)"
      ],
      "execution_count": 0,
      "outputs": []
    },
    {
      "cell_type": "markdown",
      "metadata": {
        "id": "os_Co3Em_0bs",
        "colab_type": "text"
      },
      "source": [
        "**Underdamped System$(0<{\\xi}<1)$ with Step Input**\n",
        "\n",
        "The general form of step response of the underdamped second order system can be obtained as:\n",
        "\n",
        "$C(s) = G(s)R(s)$ where $R(s)=\\frac{R}{s}$\n",
        "\n",
        "$C_{s}(s) = \\frac{K{\\omega}_n^2}{s^2+2{\\xi}{\\omega_{n}s+{\\omega_{n}}^2}}{\\frac{R}{s}} $\n",
        "\n",
        "By taking Laplace transform to get time response:\n",
        "\n",
        "$c_{s}(t) = KR[1-{\\frac{e^{-{\\xi}{\\omega_{n}}t}}{\\sqrt{1-{\\xi}^2}}}sin({\\omega_{d}t+arctan({\\frac{{\\sqrt{1-{\\xi}^2}}}{{\\xi}^2}})})]$\n",
        "\n",
        "\n",
        "where ${\\omega}_d = {\\omega}_n{{\\sqrt{1-{\\xi}^2}}}$$\\hspace{3cm}$   ${\\omega}_d$: is the damped natural frequency\n",
        "\n",
        "**${\\xi}{\\omega}_d$: is the decay rate**\n",
        "\n"
      ]
    },
    {
      "cell_type": "markdown",
      "metadata": {
        "id": "brlWpJnQ8DN7",
        "colab_type": "text"
      },
      "source": [
        "Observe the roots have real and imaginary parts. Real part is the decay rate and imaginary part is the damped natural frequency."
      ]
    },
    {
      "cell_type": "code",
      "metadata": {
        "id": "9DGV7eTtAEDl",
        "colab_type": "code",
        "colab": {}
      },
      "source": [
        "def SecondOrder(Xi,K,W_n):\n",
        "  R = 1\n",
        "  num = [K*W_n]\n",
        "  den = [1, 2*Xi*W_n,W_n**2]\n",
        "  TF = cnt.tf(num,den)   #Transfer function of uncontrolled system\n",
        "  print(\"G(s)=\",TF)\n",
        "  Poles = cnt.pole(TF)\n",
        "  #Plot of Poles in complex plane\n",
        "  plt.scatter(Poles.real,Poles.imag, color='red')\n",
        "  plt.xlabel(\"Re\")\n",
        "  plt.ylabel(\"Im\")\n",
        "  plt.title(\"Roots in Complex Coordinate\")\n",
        "  plt.grid(True)\n",
        "  plt.show()\n",
        "  #Response vs. Time Plot\n",
        "  t = np.linspace(0,15,5001)    #time duration between 0 and 15 s divided into 5001 points\n",
        "  W_d = W_n * (np.sqrt(1-Xi**2))\n",
        "  c= K*R*(1-(((np.exp(-Xi*W_n*t))/(np.sqrt(1-Xi**2)))*np.sin(W_d*t+np.arctan((np.sqrt(1-Xi**2)/(Xi))))))\n",
        "  plt.plot(t,c)\n",
        "  plt.xlabel(\"Time [s]\")\n",
        "  plt.ylabel(\"Step Response\")\n",
        "  plt.title(\"Step Response vs. Time\")\n",
        "  plt.grid(True)\n",
        "  plt.show()\n",
        "\n",
        "\n",
        "Xi_slider = widgets.FloatSlider(value=0.1, min=0,max=1.0,step=0.1)\n",
        "K_slider = widgets.FloatSlider(value=1, min=0,max=10.0,step=0.1)\n",
        "W_n_slider = widgets.FloatSlider(value=1, min=0,max=10.0,step=0.1)\n",
        "plot = widgets.interact(SecondOrder, Xi=Xi_slider,K=K_slider, W_n=W_n_slider)"
      ],
      "execution_count": 0,
      "outputs": []
    },
    {
      "cell_type": "markdown",
      "metadata": {
        "id": "ceRPY0nj6Zy9",
        "colab_type": "text"
      },
      "source": [
        "**Critically Damped System$({\\xi}=1)$ with Step Input**\n",
        "\n",
        "The general form of step response of the underdamped second order system can be obtained as:\n",
        "\n",
        "$C(s) = G(s)R(s)$ where $R(s)=\\frac{R}{s}$\n",
        "\n",
        "$C_{s}(s) = \\frac{K{\\omega}_n^2}{(s+{\\omega_{n})^2}}{\\frac{R}{s}} $\n",
        "\n",
        "By taking Laplace transform to get time response:\n",
        "\n",
        "$c_{s}(t) = KR[1-e^{-\\omega_{n}t)}(1+\\omega_{n}t)]$\n",
        "\n",
        "\n",
        "**Fast response with no oscillations.**\n"
      ]
    },
    {
      "cell_type": "markdown",
      "metadata": {
        "id": "yOjHqQgjQSE4",
        "colab_type": "text"
      },
      "source": [
        "Observe the roots and the step response of the system. \n"
      ]
    },
    {
      "cell_type": "code",
      "metadata": {
        "colab_type": "code",
        "id": "oyQa6qjR7bZc",
        "colab": {}
      },
      "source": [
        "def SecondOrder(K,W_n):\n",
        "  Xi = 1\n",
        "  R = 1\n",
        "  num = [K*W_n]\n",
        "  den = [1, 2*Xi*W_n,W_n**2]\n",
        "  TF = cnt.tf(num,den)   #Transfer function of uncontrolled system\n",
        "  print(\"G(s)=\",TF)\n",
        "  Poles = cnt.pole(TF)\n",
        "  #Plot of Poles in complex plane\n",
        "  plt.scatter(Poles.real,Poles.imag, color='red')\n",
        "  plt.xlabel(\"Re\")\n",
        "  plt.ylabel(\"Im\")\n",
        "  plt.title(\"Roots in Complex Coordinate\")\n",
        "  plt.grid(True)\n",
        "  plt.show()\n",
        "  #Response vs. Time Plot\n",
        "  t = np.linspace(0,15,5001)    #time duration between 0 and 15 s divided into 5001 points\n",
        "  c= K*R*(1-(np.exp(-W_n*t)*(1+W_n*t)))\n",
        "  plt.plot(t,c)\n",
        "  plt.xlabel(\"Time [s]\")\n",
        "  plt.ylabel(\"Step Response\")\n",
        "  plt.title(\"Step Response vs. Time\")\n",
        "  plt.grid(True)\n",
        "  plt.show()\n",
        "\n",
        "\n",
        "K_slider = widgets.FloatSlider(value=1, min=0,max=10.0,step=0.1)\n",
        "W_n_slider = widgets.FloatSlider(value=1, min=0,max=10.0,step=0.1)\n",
        "plot = widgets.interact(SecondOrder, Xi=Xi_slider,K=K_slider, W_n=W_n_slider)"
      ],
      "execution_count": 0,
      "outputs": []
    },
    {
      "cell_type": "markdown",
      "metadata": {
        "colab_type": "text",
        "id": "BHxfvJXP8_fp"
      },
      "source": [
        "**Overdamped System$({\\xi}>1)$ with Step Input**\n",
        "\n",
        "The general form of step response of the underdamped second order system can be obtained as:\n",
        "\n",
        "$C(s) = G(s)R(s)$ where $R(s)=\\frac{R}{s}$\n",
        "\n",
        "$C_{s}(s) = \\frac{K{\\omega}_n^2}{s^2+2{\\xi}{\\omega_{n}s+{\\omega_{n}}^2}}{\\frac{R}{s}} $\n",
        "\n",
        "By taking Laplace transform to get time response:\n",
        "\n",
        "$c_{s}(t) = KR[1+{\\frac{\\omega_n}{2\\sqrt{{\\xi}^2-1}}}({\\frac{e^{-s_1t}}{s_1}-{\\frac{e^{-s_2t}}{s_2}}})]$\n"
      ]
    },
    {
      "cell_type": "markdown",
      "metadata": {
        "id": "5BorzMdNQTzf",
        "colab_type": "text"
      },
      "source": [
        "Observe the roots and the step response of the system. \n"
      ]
    },
    {
      "cell_type": "code",
      "metadata": {
        "colab_type": "code",
        "id": "H_Pxhs4aBPMU",
        "colab": {}
      },
      "source": [
        "def SecondOrder(Xi,K,W_n):\n",
        "  R = 1\n",
        "  num = [K*W_n]\n",
        "  den = [1, 2*Xi*W_n,W_n**2]\n",
        "  TF = cnt.tf(num,den)   #Transfer function of uncontrolled system\n",
        "  print(\"G(s)=\",TF)\n",
        "  Poles = cnt.pole(TF)\n",
        "  #Plot of Poles in complex plane\n",
        "  plt.scatter(Poles.real,Poles.imag, color='red')\n",
        "  plt.xlabel(\"Re\")\n",
        "  plt.ylabel(\"Im\")\n",
        "  plt.title(\"Roots in Complex Coordinate\")\n",
        "  plt.grid(True)\n",
        "  plt.show()\n",
        "  #Response vs. Time Plot\n",
        "  t = np.linspace(0,15,5001)    #time duration between 0 and 15 s divided into 5001 points\n",
        "  t,c = cnt.step_response(TF,t)\n",
        "  plt.plot(t,c)\n",
        "  plt.xlabel(\"Time [s]\")\n",
        "  plt.ylabel(\"Step Response\")\n",
        "  plt.title(\"Step Response vs. Time\")\n",
        "  plt.grid(True)\n",
        "  plt.show()\n",
        "\n",
        "\n",
        "Xi_slider = widgets.FloatSlider(value=1.1, min=1.1,max=5.0,step=0.1)\n",
        "K_slider = widgets.FloatSlider(value=1, min=0,max=10.0,step=0.1)\n",
        "W_n_slider = widgets.FloatSlider(value=1, min=0,max=10.0,step=0.1)\n",
        "plot = widgets.interact(SecondOrder, Xi=Xi_slider,K=K_slider, W_n=W_n_slider)"
      ],
      "execution_count": 0,
      "outputs": []
    },
    {
      "cell_type": "markdown",
      "metadata": {
        "id": "59LZhg4Am9cE",
        "colab_type": "text"
      },
      "source": [
        "\n",
        "\n",
        "---\n",
        "\n",
        "**Transient Response Specifications**\n",
        "\n",
        "---\n",
        "\n"
      ]
    },
    {
      "cell_type": "markdown",
      "metadata": {
        "id": "cKNnQxiTUbYf",
        "colab_type": "text"
      },
      "source": [
        "<figure>\n",
        "<img src='https://live.staticflickr.com/65535/49952784893_09eb4a6a9c_b.jpg' />\n",
        "<figcaption> $\\hspace{10cm} $Figure 2</figcaption>\n"
      ]
    },
    {
      "cell_type": "markdown",
      "metadata": {
        "id": "gZtrCXmEnnnr",
        "colab_type": "text"
      },
      "source": [
        "*   **The performance of a control system** is usually specified in terms of its transient response to a unit step input.\n",
        "\n",
        "*   To be able compare different systems under the same conditions, the system is assumed to be **stable** and **initially at rest with zero output**.\n",
        "\n",
        "*   The most commonly used parameters in specifying the transient response of a control system:\n",
        "\n",
        "  *   **Speed of Response** is judged by **how fast** the response reaches the final or steady-state value.\n",
        "        \n",
        "        *   Delay Time($t_d$)\n",
        "        *   Rise Time($t_r$)\n",
        "        *   Peak Time($t_p$)\n",
        "        *   Settling Time($t_s$)\n",
        "\n",
        "  *   **Relative Stability** is related to how oscillatory the system will be before reaching the steady state.\n",
        "        \n",
        "        *   Settling Time($t_s$)\n",
        "        *   Maximum Overshoot($M_p$)\n"
      ]
    },
    {
      "cell_type": "markdown",
      "metadata": {
        "id": "5LzHu3nWnqOs",
        "colab_type": "text"
      },
      "source": [
        "**Delay Time($t_d$)**\n",
        "\n",
        "Time required for the unit step response to reach half of the final value for the first time.\n",
        "\n",
        "${\\hspace{5cm}}t_d {\\cong} {\\frac{1+0.7\\xi}{\\omega_n}}$\n",
        "\n",
        "<figure>\n",
        "<img src='https://live.staticflickr.com/65535/49953020978_d507425958_b.jpg' />\n",
        "<figcaption> $\\hspace{6cm} $Figure 3</figcaption>\n",
        "\n",
        "\n"
      ]
    },
    {
      "cell_type": "markdown",
      "metadata": {
        "id": "Tee6FdVLxhwj",
        "colab_type": "text"
      },
      "source": [
        "**Rise Time($t_r$)**\n",
        "\n",
        "**For underdamped systems:**\n",
        "\n",
        "Time required for the unit step response to reach from 0 to 100% of the final value.\n",
        "\n",
        "${\\hspace{3cm}}t_r = {\\frac{{\\pi}-{\\beta}}{\\omega_d}}{\\hspace{2cm}where\\hspace{2cm} \\beta=arctan{\\frac{\\omega_d}{\\xi\\omega_n}} }$\n",
        "<figure>\n",
        "<img src='https://live.staticflickr.com/65535/49953049843_e860c28605_b.jpg' />\n",
        "<figcaption> $\\hspace{6cm} $Figure 4</figcaption>\n",
        "\n"
      ]
    },
    {
      "cell_type": "markdown",
      "metadata": {
        "id": "cD9Mt1Hc1I5f",
        "colab_type": "text"
      },
      "source": [
        "**For overdamped systems:**\n",
        "\n",
        "Time required for the unit step response to reach from 10 to 90% of the final value.\n",
        "\n",
        "<figure>\n",
        "<img src='https://live.staticflickr.com/65535/49953862722_a9a49e7749_b.jpg' />\n",
        "<figcaption> $\\hspace{6cm} $Figure 4</figcaption>"
      ]
    },
    {
      "cell_type": "markdown",
      "metadata": {
        "id": "XjG0FBOYJULM",
        "colab_type": "text"
      },
      "source": [
        "**Peak Time($t_p$)**\n",
        "\n",
        "Time required for the unit step response to reach the peak of the first overshoot.\n",
        "\n",
        "${\\hspace{3cm}}t_r = {\\frac{{\\pi}}{\\omega_d}}$\n",
        "\n",
        "<figure>\n",
        "<img src='https://live.staticflickr.com/65535/49954068737_b63a0c5104_b.jpg' />\n",
        "<figcaption> $\\hspace{6cm} $Figure 5</figcaption>"
      ]
    },
    {
      "cell_type": "markdown",
      "metadata": {
        "id": "NLRWvkTzM9AG",
        "colab_type": "text"
      },
      "source": [
        "**Maximum Overshoot($M_p$)**\n",
        "\n",
        "The highest peak value of the response curve as measured from the final (steady-state) value.\n",
        "\n",
        "${\\hspace{3cm}}M_p = {\\frac{c(t_p)}{K}-1}  {\\implies} M_p= e^{-{\\pi}({\\frac{\\xi}{\\sqrt{1-\\xi^2}}})}$\n",
        "\n",
        "<figure>\n",
        "<img src='https://live.staticflickr.com/65535/49953822621_7d10bfffb8_b.jpg' />\n",
        "<figcaption> $\\hspace{6cm} $Figure 5</figcaption>"
      ]
    },
    {
      "cell_type": "markdown",
      "metadata": {
        "id": "AohEa07NRJln",
        "colab_type": "text"
      },
      "source": [
        "**Settling Time($t_s$)**\n",
        "\n",
        "Time required for the response to reach and stay within a range(either 2 or 5%) about the final value.\n",
        "\n",
        "${\\hspace{2cm}}t_s = {\\frac{4}{\\xi \\omega_n}}{\\hspace{2cm}}t_s = {\\frac{3}{\\xi \\omega_n}}$\n",
        "\n",
        "<figure>\n",
        "<img src='https://live.staticflickr.com/65535/49953396663_a2c8c0c2e3_b.jpg' />\n",
        "<figcaption> $\\hspace{6cm} $Figure 5</figcaption>"
      ]
    }
  ]
}