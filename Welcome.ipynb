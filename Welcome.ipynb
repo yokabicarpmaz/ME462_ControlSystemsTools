{
  "nbformat": 4,
  "nbformat_minor": 0,
  "metadata": {
    "colab": {
      "name": "Copy of Welcome.ipynb",
      "provenance": [],
      "collapsed_sections": [],
      "include_colab_link": true
    },
    "kernelspec": {
      "name": "python3",
      "display_name": "Python 3"
    }
  },
  "cells": [
    {
      "cell_type": "markdown",
      "metadata": {
        "id": "view-in-github",
        "colab_type": "text"
      },
      "source": [
        "<a href=\"https://colab.research.google.com/github/yokabicarpmaz/ME462_ControlSystemsTools/blob/master/Welcome.ipynb\" target=\"_parent\"><img src=\"https://colab.research.google.com/assets/colab-badge.svg\" alt=\"Open In Colab\"/></a>"
      ]
    },
    {
      "cell_type": "markdown",
      "metadata": {
        "id": "M-XKqsYwNE78",
        "colab_type": "text"
      },
      "source": [
        "# **ME304 - CONTROL SYSTEMS**\n",
        "\n",
        "## **WELCOME TO THE JUNGLE !**\n"
      ]
    },
    {
      "cell_type": "markdown",
      "metadata": {
        "id": "tWjxqb11OMMz",
        "colab_type": "text"
      },
      "source": [
        "<figure>\n",
        "<img src='https://static1.squarespace.com/static/5b2d76525cfd790c4a218093/t/5e6bfca1332eef5fa34332b3/1584135344647/Control_Map_ver2.png' />\n",
        "\n",
        "\n"
      ]
    },
    {
      "cell_type": "markdown",
      "metadata": {
        "id": "-WQgWBBVrzaQ",
        "colab_type": "text"
      },
      "source": [
        "**What is the control theory?**\n",
        "\n",
        "Control theory deals with the control of continuously operating dynamical systems in engineered processes and machines. The objective is to develop a control model for controlling such systems using a control action in an optimum manner without delay or overshoot and ensuring control stability.\n",
        "\n",
        "**Why should we learn control theory?**\n",
        "\n",
        "If you ask this question, you can click the link and watch your first Brian Douglas video.  The video is the first part of the control system lecture series. This series can be useful throughout the semester. \n",
        "\n",
        "Why Learn Control Theory : https://youtu.be/oBc_BHxw78s\n",
        "\n",
        "In addition to the youtube channel, there is a free and cute e-book written by Brian Dougles.\n",
        "\n",
        "The Fundamentals of Control Theory : http://bit.ly/2XLlAKl \n"
      ]
    },
    {
      "cell_type": "markdown",
      "metadata": {
        "id": "2J7ltN-rPcHW",
        "colab_type": "text"
      },
      "source": [
        "\n",
        "In this course, you will be deal with some part of the control theory.\n",
        "\n",
        "The **course outline** is as follows:\n",
        "\n",
        "\n",
        "*   Introduction and Basic Concepts\n",
        "  - In this subject, you can try to run vehicle, solar, and propeller simulations with keyboard controller. If you don't know how to do it, take a look at the [Webots.md file](https://github.com/yokabicarpmaz/ME462_ControlSystemsTools/blob/master/Webots.md).\n",
        "\n",
        "*   Transfer Functions and Block Diagrams\n",
        "  - There is an [interactive notebook](https://colab.research.google.com/drive/1So53Vn5MRZELXTVuwmCPbX02sJFiPKa5?usp=sharing) for this subject.\n",
        "\n",
        "*   Modeling Physical Systems\n",
        "  - For this subject, you can see the slider crank simulations [(1)](https://github.com/yokabicarpmaz/ME462_ControlSystemsTools/tree/master/Webots%20Simulations/Slider%20Crank) [(2)](https://github.com/yokabicarpmaz/ME462_ControlSystemsTools/tree/master/Webots%20Simulations/Slider%20Crank%20with%20Damper), and [four bar simulation](https://github.com/yokabicarpmaz/ME462_ControlSystemsTools/tree/master/Webots%20Simulations/Four%20Bar). In those simulations, you can model the systems, and see them working in Webots environment.\n",
        "\n",
        "*   Basic Control Actions and Electronic Controllers\n",
        "  - There is an interactive [notebook](https://colab.research.google.com/drive/1xOY3y3Pb73O-gSCz0GRmnLROJstN1haR?usp=sharing) for this subject. You can find the link in Interactive Notes file. Also, you can play with P, PI, and PID controllers of [ball and the beam simulation](https://github.com/yokabicarpmaz/ME462_ControlSystemsTools/tree/master/Webots%20Simulations/Ball%20and%20the%20Beam), [solar panel simulation](https://github.com/yokabicarpmaz/ME462_ControlSystemsTools/tree/master/Webots%20Simulations/Solar), and [propeller simulation](https://github.com/yokabicarpmaz/ME462_ControlSystemsTools/tree/master/Webots%20Simulations/Propeller).\n",
        "\n",
        "*   Time Response\n",
        "  - Even though there is not a specific material for this subject, you can observe time response characteristics of systems in the simulations related to the control action.\n",
        "\n",
        "*   Stability\n",
        "  - There is an [interactive notebook](https://colab.research.google.com/drive/1t_B8MS9iLhrkBjNJgkbDkP_ltU1CZ_Tn?usp=sharing) for this subject. [The notebook for Routh-Hurwitz method](https://colab.research.google.com/drive/1bIlczpM7I-IgQaDiD1vfI6pOPgmnQc9Y?usp=sharing) is also related.\n",
        "\n",
        "*   Steady State Response and Error\n",
        "  - There is an [interactive notebook](https://colab.research.google.com/drive/1r7WJRn_oQC1gX11N_CTLX7YzJPGBxhND?usp=sharing) for this subject.\n",
        "*   Transient Response\n",
        "  - There are two interactive notebooks [1](https://colab.research.google.com/drive/1uf4683kRc3RunKSiY-GfwU7AqdMOJjgF?usp=sharing) [2](https://colab.research.google.com/drive/1iOiGUb715zdpR-8cdbfrmgCd_00NJud4?usp=sharing) for this subject.\n",
        "\n",
        "*   Frequency Response\n",
        "  - There is an [interactive notebook](https://colab.research.google.com/drive/1XLLi2CruLlMdEg0uz_RDXXnYIY5E3W6O?usp=sharing) for this subject. There is also a simulation called [frequency simulation](https://github.com/yokabicarpmaz/ME462_ControlSystemsTools/tree/master/Webots%20Simulations/Frequency%20Simulation) which demonstrates the response of a mass spring damper.\n"
      ]
    },
    {
      "cell_type": "markdown",
      "metadata": {
        "id": "UdPr-pxPpFnn",
        "colab_type": "text"
      },
      "source": [
        "At the end of this course,\n",
        "\n",
        "\n",
        "*   You will be able to model a physical system and express its internal dynamics and input-output relationships by means of block diagrams and transfer functions.\n",
        "\n",
        "*   You will know the basic control architectures (OL, FB, FB+FF) and also know how to generate and why to use the basic FB control actions (P, PD, PI, PID).\n",
        "\n",
        "*   You will know the relationships between the parameters of a control system and its stability, accuracy, transient behavior, tracking ability, disturbance rejection ability, and parameter sensitivity.\n",
        "\n",
        "*   You will know how to determine the control parameters for low-order systems in a compromising way under the time response requirements of accuracy, relative stability, and speed of response.\n",
        "\n",
        "*   You will be able to determine the frequency response of a control system and use it to evaluate or adjust the relative stability, speed of response, tracking accuracy, and noise rejection ability of the system by means of the Bode plots of amplitude ratio and phase angle variations.\n"
      ]
    },
    {
      "cell_type": "markdown",
      "metadata": {
        "id": "oz5U5FINpYSV",
        "colab_type": "text"
      },
      "source": [
        "Throughout the semester, Colab Notebooks and Webots Simulations will be provided to digest the subjects easily.\n",
        "\n",
        "Right now, \n",
        "\n",
        "Solar Collector, Propeller and Vehicle's keyboard controlled simulations are available. \n",
        "<figure>\n",
        "<img src='https://live.staticflickr.com/65535/50082994322_802a498e03_b.jpg' />\n",
        "<figcaption>$\\hspace{6cm}$Solar Collector</figcaption>\n"
      ]
    },
    {
      "cell_type": "markdown",
      "metadata": {
        "id": "SQEvOCl-GRr8",
        "colab_type": "text"
      },
      "source": [
        "\n",
        "<figure>\n",
        "<img src='https://live.staticflickr.com/65535/50082296623_f810aa9992_b.jpg' />\n",
        "<figcaption>$\\hspace{6cm}$Propeller</figcaption>\n",
        "\n",
        "\n",
        "\n"
      ]
    },
    {
      "cell_type": "markdown",
      "metadata": {
        "id": "JKQRaV3LGUPI",
        "colab_type": "text"
      },
      "source": [
        "<figure>\n",
        "<img src='https://live.staticflickr.com/65535/50083122117_d511e1bd6a_b.jpg' />\n",
        "<figcaption>$\\hspace{8cm}$Vehicle</figcaption>\n",
        "\n",
        "\n"
      ]
    },
    {
      "cell_type": "markdown",
      "metadata": {
        "id": "5eMZbg8fGWWI",
        "colab_type": "text"
      },
      "source": [
        "Later, \n",
        "\n",
        "You will be able to reach other simulations.\n",
        "\n",
        "\n",
        "<figure>\n",
        "<img src='https://live.staticflickr.com/65535/50082879901_4fc26a2802_b.jpg' />\n",
        "<figcaption>$\\hspace{6cm}$Slider-Crank Mechanism</figcaption>\n",
        "\n"
      ]
    },
    {
      "cell_type": "markdown",
      "metadata": {
        "id": "8SoLPFKeGYTv",
        "colab_type": "text"
      },
      "source": [
        "<figure>\n",
        "<img src='https://live.staticflickr.com/65535/50083121927_6c59d40efb_b.jpg' />\n",
        "<figcaption>$\\hspace{6cm}$4-Bar Mechanism</figcaption>"
      ]
    },
    {
      "cell_type": "markdown",
      "metadata": {
        "id": "8HR9XkBWGZig",
        "colab_type": "text"
      },
      "source": [
        "<figure>\n",
        "<img src='https://live.staticflickr.com/65535/50082296603_25640ff582_b.jpg' />\n",
        "<figcaption>$\\hspace{6cm}$Ball and the Beam Mechanism</figcaption>\n",
        "\n",
        "Thanks to our teachers for their contributions:\n",
        "\n",
        "Prof. Dr. Tuna Balkan\n",
        "\n",
        "Prof. Dr. Kemal Özgören\n",
        "\n",
        "Prof. Dr. Reşit Soylu\n",
        "\n",
        "Prof. Dr. Yavuz Samim Ünlüsoy\n",
        "\n",
        "And Assoc. Prof. Ahmet Buğra Koku\n"
      ]
    }
  ]
}