{
  "nbformat": 4,
  "nbformat_minor": 0,
  "metadata": {
    "colab": {
      "name": "Welcome.ipynb",
      "provenance": [],
      "collapsed_sections": [],
      "include_colab_link": true
    },
    "kernelspec": {
      "name": "python3",
      "display_name": "Python 3"
    }
  },
  "cells": [
    {
      "cell_type": "markdown",
      "metadata": {
        "id": "view-in-github",
        "colab_type": "text"
      },
      "source": [
        "<a href=\"https://colab.research.google.com/github/yokabicarpmaz/ME462_ControlSystemsTools/blob/master/Welcome.ipynb\" target=\"_parent\"><img src=\"https://colab.research.google.com/assets/colab-badge.svg\" alt=\"Open In Colab\"/></a>"
      ]
    },
    {
      "cell_type": "markdown",
      "metadata": {
        "id": "M-XKqsYwNE78",
        "colab_type": "text"
      },
      "source": [
        "# **ME304 - CONTROL SYSTEMS**\n",
        "\n",
        "## **WELCOME TO THE JUNGLE !**\n"
      ]
    },
    {
      "cell_type": "markdown",
      "metadata": {
        "id": "tWjxqb11OMMz",
        "colab_type": "text"
      },
      "source": [
        "<figure>\n",
        "<img src='https://static1.squarespace.com/static/5b2d76525cfd790c4a218093/t/5e6bfca1332eef5fa34332b3/1584135344647/Control_Map_ver2.png' />\n",
        "\n",
        "\n"
      ]
    },
    {
      "cell_type": "markdown",
      "metadata": {
        "id": "-WQgWBBVrzaQ",
        "colab_type": "text"
      },
      "source": [
        "**What is the control theory?**\n",
        "\n",
        "Control theory deals with the control of continuously operating dynamical systems in engineered processes and machines. The objective is to develop a control model for controlling such systems using a control action in an optimum manner without delay or overshoot and ensuring control stability.\n",
        "\n",
        "**Why should we learn control theory?**\n",
        "\n",
        "If you ask this question, you can click the link and watch your first Brian Douglas video.  The video is the first part of the control system lecture series. This series can be useful throughout the semester. \n",
        "\n",
        "Why Learn Control Theory : https://youtu.be/oBc_BHxw78s\n",
        "\n",
        "In addition to the youtube channel, there is a free and cute e-book written by Brian Dougles.\n",
        "\n",
        "The Fundamentals of Control Theory : http://bit.ly/2XLlAKl \n"
      ]
    },
    {
      "cell_type": "markdown",
      "metadata": {
        "id": "2J7ltN-rPcHW",
        "colab_type": "text"
      },
      "source": [
        "\n",
        "In this course, you will be deal with some part of the control theory.\n",
        "\n",
        "The **course outline** is as follows:\n",
        "\n",
        "\n",
        "*   Introduction and Basic Concepts\n",
        "\n",
        "*   Transfer Functions and Block Diagrams\n",
        "\n",
        "*   Modeling Physical Systems\n",
        "\n",
        "*   Basic Features of Control Systems\n",
        "\n",
        "*   Basic Control Actions and Electronic Controllers\n",
        "\n",
        "*   Time Response\n",
        "\n",
        "*   Stability\n",
        "\n",
        "*   Steady State Response and Error\n",
        "\n",
        "*   Transient Response\n",
        "\n",
        "*   Frequency Response\n"
      ]
    },
    {
      "cell_type": "markdown",
      "metadata": {
        "id": "UdPr-pxPpFnn",
        "colab_type": "text"
      },
      "source": [
        "At the end of this course,\n",
        "\n",
        "\n",
        "*   You will be able to model a physical system and express its internal dynamics and input-output relationships by means of block diagrams and transfer functions.\n",
        "\n",
        "*   You will know the basic control architectures (OL, FB, FB+FF) and also know how to generate and why to use the basic FB control actions (P, PD, PI, PID).\n",
        "\n",
        "*   You will know the relationships between the parameters of a control system and its stability, accuracy, transient behavior, tracking ability, disturbance rejection ability, and parameter sensitivity.\n",
        "\n",
        "*   You will know how to determine the control parameters for low-order systems in a compromising way under the time response requirements of accuracy, relative stability, and speed of response.\n",
        "\n",
        "*   You will be able to determine the frequency response of a control system and use it to evaluate or adjust the relative stability, speed of response, tracking accuracy, and noise rejection ability of the system by means of the Bode plots of amplitude ratio and phase angle variations.\n"
      ]
    },
    {
      "cell_type": "markdown",
      "metadata": {
        "id": "oz5U5FINpYSV",
        "colab_type": "text"
      },
      "source": [
        "Throughout the semester, Colab Notebooks and Webots Simulations will be provided to digest the subjects easily.\n",
        "\n",
        "Right now, \n",
        "\n",
        "Solar Collector, Propeller and Vehicle's keyboard controlled simulations are available. \n",
        "<figure>\n",
        "<img src='https://live.staticflickr.com/65535/50082994322_802a498e03_b.jpg' />\n",
        "<figcaption>$\\hspace{6cm}$Solar Collector Simulation</figcaption>\n",
        "\n",
        "Later, \n",
        "\n",
        "You will be able to reach other simulations.\n",
        "\n"
      ]
    }
  ]
}